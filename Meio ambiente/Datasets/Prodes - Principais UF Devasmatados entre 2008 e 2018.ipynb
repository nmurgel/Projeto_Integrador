{
 "cells": [
  {
   "cell_type": "markdown",
   "metadata": {},
   "source": [
    "## Desmatamento UF entre 2008 e 2018 - Amazônia Legal"
   ]
  },
  {
   "cell_type": "code",
   "execution_count": 1,
   "metadata": {},
   "outputs": [],
   "source": [
    "import pandas as pd \n",
    "import matplotlib.pyplot as plt\n",
    "import seaborn as sns\n",
    "import folium\n",
    "\n",
    "import warnings\n",
    "warnings.filterwarnings(\"ignore\")\n",
    "\n",
    "%matplotlib inline"
   ]
  },
  {
   "cell_type": "code",
   "execution_count": 2,
   "metadata": {},
   "outputs": [],
   "source": [
    "df = pd.read_csv('terrabrasilis_amazon_9_8_2019_UF.csv', encoding='latin', delimiter=',')"
   ]
  },
  {
   "cell_type": "code",
   "execution_count": 3,
   "metadata": {},
   "outputs": [
    {
     "data": {
      "text/html": [
       "<div>\n",
       "<style scoped>\n",
       "    .dataframe tbody tr th:only-of-type {\n",
       "        vertical-align: middle;\n",
       "    }\n",
       "\n",
       "    .dataframe tbody tr th {\n",
       "        vertical-align: top;\n",
       "    }\n",
       "\n",
       "    .dataframe thead th {\n",
       "        text-align: right;\n",
       "    }\n",
       "</style>\n",
       "<table border=\"1\" class=\"dataframe\">\n",
       "  <thead>\n",
       "    <tr style=\"text-align: right;\">\n",
       "      <th></th>\n",
       "      <th>time</th>\n",
       "      <th>area</th>\n",
       "      <th>uf</th>\n",
       "    </tr>\n",
       "  </thead>\n",
       "  <tbody>\n",
       "    <tr>\n",
       "      <th>0</th>\n",
       "      <td>2018</td>\n",
       "      <td>23.667546</td>\n",
       "      <td>AMAPÃ</td>\n",
       "    </tr>\n",
       "    <tr>\n",
       "      <th>1</th>\n",
       "      <td>2018</td>\n",
       "      <td>92.761077</td>\n",
       "      <td>MARANHÃO</td>\n",
       "    </tr>\n",
       "    <tr>\n",
       "      <th>2</th>\n",
       "      <td>2018</td>\n",
       "      <td>461.248697</td>\n",
       "      <td>ACRE</td>\n",
       "    </tr>\n",
       "    <tr>\n",
       "      <th>3</th>\n",
       "      <td>2018</td>\n",
       "      <td>6.325568</td>\n",
       "      <td>TOCANTINS</td>\n",
       "    </tr>\n",
       "    <tr>\n",
       "      <th>4</th>\n",
       "      <td>2018</td>\n",
       "      <td>1363.312140</td>\n",
       "      <td>MATO GROSSO</td>\n",
       "    </tr>\n",
       "  </tbody>\n",
       "</table>\n",
       "</div>"
      ],
      "text/plain": [
       "   time         area           uf\n",
       "0  2018    23.667546       AMAPÃ\n",
       "1  2018    92.761077    MARANHÃO\n",
       "2  2018   461.248697         ACRE\n",
       "3  2018     6.325568    TOCANTINS\n",
       "4  2018  1363.312140  MATO GROSSO"
      ]
     },
     "execution_count": 3,
     "metadata": {},
     "output_type": "execute_result"
    }
   ],
   "source": [
    "df.head()"
   ]
  },
  {
   "cell_type": "code",
   "execution_count": 4,
   "metadata": {},
   "outputs": [
    {
     "data": {
      "text/html": [
       "<div>\n",
       "<style scoped>\n",
       "    .dataframe tbody tr th:only-of-type {\n",
       "        vertical-align: middle;\n",
       "    }\n",
       "\n",
       "    .dataframe tbody tr th {\n",
       "        vertical-align: top;\n",
       "    }\n",
       "\n",
       "    .dataframe thead th {\n",
       "        text-align: right;\n",
       "    }\n",
       "</style>\n",
       "<table border=\"1\" class=\"dataframe\">\n",
       "  <thead>\n",
       "    <tr style=\"text-align: right;\">\n",
       "      <th></th>\n",
       "      <th>time</th>\n",
       "      <th>area</th>\n",
       "      <th>uf</th>\n",
       "    </tr>\n",
       "  </thead>\n",
       "  <tbody>\n",
       "    <tr>\n",
       "      <th>94</th>\n",
       "      <td>2008</td>\n",
       "      <td>3111.590278</td>\n",
       "      <td>MATO GROSSO</td>\n",
       "    </tr>\n",
       "    <tr>\n",
       "      <th>95</th>\n",
       "      <td>2008</td>\n",
       "      <td>5636.554458</td>\n",
       "      <td>PARÃ</td>\n",
       "    </tr>\n",
       "    <tr>\n",
       "      <th>96</th>\n",
       "      <td>2008</td>\n",
       "      <td>665.308335</td>\n",
       "      <td>RORAIMA</td>\n",
       "    </tr>\n",
       "    <tr>\n",
       "      <th>97</th>\n",
       "      <td>2008</td>\n",
       "      <td>611.766834</td>\n",
       "      <td>AMAZONAS</td>\n",
       "    </tr>\n",
       "    <tr>\n",
       "      <th>98</th>\n",
       "      <td>2008</td>\n",
       "      <td>1085.314203</td>\n",
       "      <td>RONDÃNIA</td>\n",
       "    </tr>\n",
       "  </tbody>\n",
       "</table>\n",
       "</div>"
      ],
      "text/plain": [
       "    time         area           uf\n",
       "94  2008  3111.590278  MATO GROSSO\n",
       "95  2008  5636.554458        PARÃ\n",
       "96  2008   665.308335      RORAIMA\n",
       "97  2008   611.766834     AMAZONAS\n",
       "98  2008  1085.314203    RONDÃNIA"
      ]
     },
     "execution_count": 4,
     "metadata": {},
     "output_type": "execute_result"
    }
   ],
   "source": [
    "df.tail()"
   ]
  },
  {
   "cell_type": "code",
   "execution_count": 5,
   "metadata": {},
   "outputs": [
    {
     "name": "stdout",
     "output_type": "stream",
     "text": [
      "<class 'pandas.core.frame.DataFrame'>\n",
      "RangeIndex: 99 entries, 0 to 98\n",
      "Data columns (total 3 columns):\n",
      "time    99 non-null int64\n",
      "area    99 non-null float64\n",
      "uf      99 non-null object\n",
      "dtypes: float64(1), int64(1), object(1)\n",
      "memory usage: 2.4+ KB\n"
     ]
    }
   ],
   "source": [
    "df.info()"
   ]
  },
  {
   "cell_type": "code",
   "execution_count": 6,
   "metadata": {},
   "outputs": [
    {
     "data": {
      "text/plain": [
       "['time', 'area', 'uf']"
      ]
     },
     "execution_count": 6,
     "metadata": {},
     "output_type": "execute_result"
    }
   ],
   "source": [
    "list(df.columns)"
   ]
  },
  {
   "cell_type": "code",
   "execution_count": 7,
   "metadata": {},
   "outputs": [],
   "source": [
    "df.rename(columns={'time': 'Ano','area': 'Area_KM', 'uf': 'UF'}, inplace=True)"
   ]
  },
  {
   "cell_type": "code",
   "execution_count": 8,
   "metadata": {},
   "outputs": [
    {
     "data": {
      "text/html": [
       "<div>\n",
       "<style scoped>\n",
       "    .dataframe tbody tr th:only-of-type {\n",
       "        vertical-align: middle;\n",
       "    }\n",
       "\n",
       "    .dataframe tbody tr th {\n",
       "        vertical-align: top;\n",
       "    }\n",
       "\n",
       "    .dataframe thead th {\n",
       "        text-align: right;\n",
       "    }\n",
       "</style>\n",
       "<table border=\"1\" class=\"dataframe\">\n",
       "  <thead>\n",
       "    <tr style=\"text-align: right;\">\n",
       "      <th></th>\n",
       "      <th>Ano</th>\n",
       "      <th>Area_KM</th>\n",
       "      <th>UF</th>\n",
       "    </tr>\n",
       "  </thead>\n",
       "  <tbody>\n",
       "    <tr>\n",
       "      <th>0</th>\n",
       "      <td>2018</td>\n",
       "      <td>23.667546</td>\n",
       "      <td>AMAPÃ</td>\n",
       "    </tr>\n",
       "    <tr>\n",
       "      <th>1</th>\n",
       "      <td>2018</td>\n",
       "      <td>92.761077</td>\n",
       "      <td>MARANHÃO</td>\n",
       "    </tr>\n",
       "    <tr>\n",
       "      <th>2</th>\n",
       "      <td>2018</td>\n",
       "      <td>461.248697</td>\n",
       "      <td>ACRE</td>\n",
       "    </tr>\n",
       "    <tr>\n",
       "      <th>3</th>\n",
       "      <td>2018</td>\n",
       "      <td>6.325568</td>\n",
       "      <td>TOCANTINS</td>\n",
       "    </tr>\n",
       "    <tr>\n",
       "      <th>4</th>\n",
       "      <td>2018</td>\n",
       "      <td>1363.312140</td>\n",
       "      <td>MATO GROSSO</td>\n",
       "    </tr>\n",
       "  </tbody>\n",
       "</table>\n",
       "</div>"
      ],
      "text/plain": [
       "    Ano      Area_KM           UF\n",
       "0  2018    23.667546       AMAPÃ\n",
       "1  2018    92.761077    MARANHÃO\n",
       "2  2018   461.248697         ACRE\n",
       "3  2018     6.325568    TOCANTINS\n",
       "4  2018  1363.312140  MATO GROSSO"
      ]
     },
     "execution_count": 8,
     "metadata": {},
     "output_type": "execute_result"
    }
   ],
   "source": [
    "df.head()"
   ]
  },
  {
   "cell_type": "code",
   "execution_count": 9,
   "metadata": {},
   "outputs": [
    {
     "data": {
      "text/plain": [
       "TOCANTINS      11\n",
       "AMAPÃ         11\n",
       "ACRE           11\n",
       "AMAZONAS       11\n",
       "MATO GROSSO    11\n",
       "MARANHÃO      11\n",
       "RONDÃNIA      11\n",
       "PARÃ          11\n",
       "RORAIMA        11\n",
       "Name: UF, dtype: int64"
      ]
     },
     "execution_count": 9,
     "metadata": {},
     "output_type": "execute_result"
    }
   ],
   "source": [
    "df['UF'].value_counts()"
   ]
  },
  {
   "cell_type": "code",
   "execution_count": 10,
   "metadata": {},
   "outputs": [],
   "source": [
    "df.UF.replace({'RONDÃNIA':'RONDONIA',\n",
    "                     'MARANHÃO':'MARANHÃO',\n",
    "              'PARÃ':'PARÁ',\n",
    "              'AMAPÃ':'AMAPÁ'}, regex=True, inplace=True)"
   ]
  },
  {
   "cell_type": "code",
   "execution_count": 11,
   "metadata": {},
   "outputs": [
    {
     "data": {
      "text/plain": [
       "TOCANTINS      11\n",
       "ACRE           11\n",
       "AMAZONAS       11\n",
       "MATO GROSSO    11\n",
       "PARÁ           11\n",
       "MARANHÃO       11\n",
       "RONDONIA       11\n",
       "AMAPÁ          11\n",
       "RORAIMA        11\n",
       "Name: UF, dtype: int64"
      ]
     },
     "execution_count": 11,
     "metadata": {},
     "output_type": "execute_result"
    }
   ],
   "source": [
    "df['UF'].value_counts()"
   ]
  },
  {
   "cell_type": "code",
   "execution_count": 12,
   "metadata": {},
   "outputs": [
    {
     "data": {
      "text/html": [
       "<div>\n",
       "<style scoped>\n",
       "    .dataframe tbody tr th:only-of-type {\n",
       "        vertical-align: middle;\n",
       "    }\n",
       "\n",
       "    .dataframe tbody tr th {\n",
       "        vertical-align: top;\n",
       "    }\n",
       "\n",
       "    .dataframe thead th {\n",
       "        text-align: right;\n",
       "    }\n",
       "</style>\n",
       "<table border=\"1\" class=\"dataframe\">\n",
       "  <thead>\n",
       "    <tr style=\"text-align: right;\">\n",
       "      <th></th>\n",
       "      <th>count</th>\n",
       "      <th>mean</th>\n",
       "      <th>std</th>\n",
       "      <th>min</th>\n",
       "      <th>25%</th>\n",
       "      <th>50%</th>\n",
       "      <th>75%</th>\n",
       "      <th>max</th>\n",
       "    </tr>\n",
       "  </thead>\n",
       "  <tbody>\n",
       "    <tr>\n",
       "      <th>Ano</th>\n",
       "      <td>99.0</td>\n",
       "      <td>2013.000000</td>\n",
       "      <td>3.178371</td>\n",
       "      <td>2008.000000</td>\n",
       "      <td>2010.000000</td>\n",
       "      <td>2013.000000</td>\n",
       "      <td>2016.000000</td>\n",
       "      <td>2018.000000</td>\n",
       "    </tr>\n",
       "    <tr>\n",
       "      <th>Area_KM</th>\n",
       "      <td>99.0</td>\n",
       "      <td>705.213942</td>\n",
       "      <td>948.640209</td>\n",
       "      <td>6.325568</td>\n",
       "      <td>110.921617</td>\n",
       "      <td>344.140264</td>\n",
       "      <td>980.910237</td>\n",
       "      <td>5636.554458</td>\n",
       "    </tr>\n",
       "  </tbody>\n",
       "</table>\n",
       "</div>"
      ],
      "text/plain": [
       "         count         mean         std          min          25%  \\\n",
       "Ano       99.0  2013.000000    3.178371  2008.000000  2010.000000   \n",
       "Area_KM   99.0   705.213942  948.640209     6.325568   110.921617   \n",
       "\n",
       "                 50%          75%          max  \n",
       "Ano      2013.000000  2016.000000  2018.000000  \n",
       "Area_KM   344.140264   980.910237  5636.554458  "
      ]
     },
     "execution_count": 12,
     "metadata": {},
     "output_type": "execute_result"
    }
   ],
   "source": [
    "df.describe().T"
   ]
  },
  {
   "cell_type": "markdown",
   "metadata": {},
   "source": [
    "## Total de Área Desmatada entre 2008 e 2018"
   ]
  },
  {
   "cell_type": "code",
   "execution_count": 13,
   "metadata": {},
   "outputs": [],
   "source": [
    "AnosGroups = df.groupby(\"Ano\")[\"Area_KM\"].sum().reset_index()"
   ]
  },
  {
   "cell_type": "code",
   "execution_count": 14,
   "metadata": {},
   "outputs": [
    {
     "data": {
      "text/html": [
       "<div>\n",
       "<style scoped>\n",
       "    .dataframe tbody tr th:only-of-type {\n",
       "        vertical-align: middle;\n",
       "    }\n",
       "\n",
       "    .dataframe tbody tr th {\n",
       "        vertical-align: top;\n",
       "    }\n",
       "\n",
       "    .dataframe thead th {\n",
       "        text-align: right;\n",
       "    }\n",
       "</style>\n",
       "<table border=\"1\" class=\"dataframe\">\n",
       "  <thead>\n",
       "    <tr style=\"text-align: right;\">\n",
       "      <th></th>\n",
       "      <th>Ano</th>\n",
       "      <th>Area_KM</th>\n",
       "    </tr>\n",
       "  </thead>\n",
       "  <tbody>\n",
       "    <tr>\n",
       "      <th>10</th>\n",
       "      <td>2018</td>\n",
       "      <td>7033.050227</td>\n",
       "    </tr>\n",
       "    <tr>\n",
       "      <th>9</th>\n",
       "      <td>2017</td>\n",
       "      <td>6670.987690</td>\n",
       "    </tr>\n",
       "    <tr>\n",
       "      <th>8</th>\n",
       "      <td>2016</td>\n",
       "      <td>7005.215500</td>\n",
       "    </tr>\n",
       "    <tr>\n",
       "      <th>7</th>\n",
       "      <td>2015</td>\n",
       "      <td>5813.516814</td>\n",
       "    </tr>\n",
       "    <tr>\n",
       "      <th>6</th>\n",
       "      <td>2014</td>\n",
       "      <td>4835.129455</td>\n",
       "    </tr>\n",
       "    <tr>\n",
       "      <th>5</th>\n",
       "      <td>2013</td>\n",
       "      <td>5088.613029</td>\n",
       "    </tr>\n",
       "    <tr>\n",
       "      <th>4</th>\n",
       "      <td>2012</td>\n",
       "      <td>4089.046482</td>\n",
       "    </tr>\n",
       "    <tr>\n",
       "      <th>3</th>\n",
       "      <td>2011</td>\n",
       "      <td>5327.573461</td>\n",
       "    </tr>\n",
       "    <tr>\n",
       "      <th>2</th>\n",
       "      <td>2010</td>\n",
       "      <td>5819.938902</td>\n",
       "    </tr>\n",
       "    <tr>\n",
       "      <th>1</th>\n",
       "      <td>2009</td>\n",
       "      <td>5845.610328</td>\n",
       "    </tr>\n",
       "    <tr>\n",
       "      <th>0</th>\n",
       "      <td>2008</td>\n",
       "      <td>12287.498402</td>\n",
       "    </tr>\n",
       "  </tbody>\n",
       "</table>\n",
       "</div>"
      ],
      "text/plain": [
       "     Ano       Area_KM\n",
       "10  2018   7033.050227\n",
       "9   2017   6670.987690\n",
       "8   2016   7005.215500\n",
       "7   2015   5813.516814\n",
       "6   2014   4835.129455\n",
       "5   2013   5088.613029\n",
       "4   2012   4089.046482\n",
       "3   2011   5327.573461\n",
       "2   2010   5819.938902\n",
       "1   2009   5845.610328\n",
       "0   2008  12287.498402"
      ]
     },
     "execution_count": 14,
     "metadata": {},
     "output_type": "execute_result"
    }
   ],
   "source": [
    "AnosGroups.sort_values(by= \"Ano\", ascending=False)"
   ]
  },
  {
   "cell_type": "code",
   "execution_count": 16,
   "metadata": {},
   "outputs": [
    {
     "data": {
      "image/png": "[encoded data removed]",
      "text/plain": [
       "<Figure size 720x360 with 1 Axes>"
      ]
     },
     "metadata": {
      "needs_background": "light"
     },
     "output_type": "display_data"
    }
   ],
   "source": [
    "plt.figure(figsize=(10,5))\n",
    "plt.title(\"Total de KM2 desmatados entre 2008 e 2018\")\n",
    "sns.barplot(x=\"Ano\", y=\"Area_KM\", data=AnosGroups);"
   ]
  },
  {
   "cell_type": "code",
   "execution_count": 17,
   "metadata": {},
   "outputs": [
    {
     "data": {
      "text/plain": [
       "69816.18028989933"
      ]
     },
     "execution_count": 17,
     "metadata": {},
     "output_type": "execute_result"
    }
   ],
   "source": [
    "# Total de KM2 desmatados em 5 anos\n",
    "df['Area_KM'].sum()"
   ]
  },
  {
   "cell_type": "markdown",
   "metadata": {},
   "source": [
    "## Total de Desmatamento por UF´s entre 2008 e 2018"
   ]
  },
  {
   "cell_type": "code",
   "execution_count": 18,
   "metadata": {},
   "outputs": [],
   "source": [
    "EstadoGroups = df.groupby(\"UF\")[\"Area_KM\"].sum().reset_index()"
   ]
  },
  {
   "cell_type": "code",
   "execution_count": 19,
   "metadata": {},
   "outputs": [
    {
     "data": {
      "text/html": [
       "<div>\n",
       "<style scoped>\n",
       "    .dataframe tbody tr th:only-of-type {\n",
       "        vertical-align: middle;\n",
       "    }\n",
       "\n",
       "    .dataframe tbody tr th {\n",
       "        vertical-align: top;\n",
       "    }\n",
       "\n",
       "    .dataframe thead th {\n",
       "        text-align: right;\n",
       "    }\n",
       "</style>\n",
       "<table border=\"1\" class=\"dataframe\">\n",
       "  <thead>\n",
       "    <tr style=\"text-align: right;\">\n",
       "      <th></th>\n",
       "      <th>UF</th>\n",
       "      <th>Area_KM</th>\n",
       "    </tr>\n",
       "  </thead>\n",
       "  <tbody>\n",
       "    <tr>\n",
       "      <th>5</th>\n",
       "      <td>PARÁ</td>\n",
       "      <td>30871.726081</td>\n",
       "    </tr>\n",
       "    <tr>\n",
       "      <th>4</th>\n",
       "      <td>MATO GROSSO</td>\n",
       "      <td>13463.636592</td>\n",
       "    </tr>\n",
       "    <tr>\n",
       "      <th>6</th>\n",
       "      <td>RONDONIA</td>\n",
       "      <td>9776.094704</td>\n",
       "    </tr>\n",
       "    <tr>\n",
       "      <th>2</th>\n",
       "      <td>AMAZONAS</td>\n",
       "      <td>7269.468863</td>\n",
       "    </tr>\n",
       "    <tr>\n",
       "      <th>0</th>\n",
       "      <td>ACRE</td>\n",
       "      <td>3122.829620</td>\n",
       "    </tr>\n",
       "    <tr>\n",
       "      <th>3</th>\n",
       "      <td>MARANHÃO</td>\n",
       "      <td>2503.138849</td>\n",
       "    </tr>\n",
       "    <tr>\n",
       "      <th>7</th>\n",
       "      <td>RORAIMA</td>\n",
       "      <td>2215.978268</td>\n",
       "    </tr>\n",
       "    <tr>\n",
       "      <th>1</th>\n",
       "      <td>AMAPÁ</td>\n",
       "      <td>378.401435</td>\n",
       "    </tr>\n",
       "    <tr>\n",
       "      <th>8</th>\n",
       "      <td>TOCANTINS</td>\n",
       "      <td>214.905878</td>\n",
       "    </tr>\n",
       "  </tbody>\n",
       "</table>\n",
       "</div>"
      ],
      "text/plain": [
       "            UF       Area_KM\n",
       "5         PARÁ  30871.726081\n",
       "4  MATO GROSSO  13463.636592\n",
       "6     RONDONIA   9776.094704\n",
       "2     AMAZONAS   7269.468863\n",
       "0         ACRE   3122.829620\n",
       "3     MARANHÃO   2503.138849\n",
       "7      RORAIMA   2215.978268\n",
       "1        AMAPÁ    378.401435\n",
       "8    TOCANTINS    214.905878"
      ]
     },
     "execution_count": 19,
     "metadata": {},
     "output_type": "execute_result"
    }
   ],
   "source": [
    "EstadoGroups.sort_values(by= \"Area_KM\", ascending=False)"
   ]
  },
  {
   "cell_type": "code",
   "execution_count": 21,
   "metadata": {},
   "outputs": [
    {
     "data": {
      "image/png": "[encoded data removed]",
      "text/plain": [
       "<Figure size 1080x576 with 1 Axes>"
      ]
     },
     "metadata": {
      "needs_background": "light"
     },
     "output_type": "display_data"
    }
   ],
   "source": [
    "plt.figure(figsize=(15,8))\n",
    "plt.title(\"Total de Áreas (KM) Desmatadas por UF entre 2008 e 2018\")\n",
    "sns.barplot(x=\"Area_KM\", y=\"UF\", data=EstadoGroups);"
   ]
  },
  {
   "cell_type": "code",
   "execution_count": 22,
   "metadata": {},
   "outputs": [
    {
     "data": {
      "text/html": [
       "<div>\n",
       "<style scoped>\n",
       "    .dataframe tbody tr th:only-of-type {\n",
       "        vertical-align: middle;\n",
       "    }\n",
       "\n",
       "    .dataframe tbody tr th {\n",
       "        vertical-align: top;\n",
       "    }\n",
       "\n",
       "    .dataframe thead th {\n",
       "        text-align: right;\n",
       "    }\n",
       "</style>\n",
       "<table border=\"1\" class=\"dataframe\">\n",
       "  <thead>\n",
       "    <tr style=\"text-align: right;\">\n",
       "      <th></th>\n",
       "      <th>Ano</th>\n",
       "      <th>Area_KM</th>\n",
       "      <th>UF</th>\n",
       "    </tr>\n",
       "  </thead>\n",
       "  <tbody>\n",
       "    <tr>\n",
       "      <th>5</th>\n",
       "      <td>2018</td>\n",
       "      <td>2668.878526</td>\n",
       "      <td>PARÁ</td>\n",
       "    </tr>\n",
       "    <tr>\n",
       "      <th>14</th>\n",
       "      <td>2017</td>\n",
       "      <td>2563.645791</td>\n",
       "      <td>PARÁ</td>\n",
       "    </tr>\n",
       "    <tr>\n",
       "      <th>23</th>\n",
       "      <td>2016</td>\n",
       "      <td>2745.840793</td>\n",
       "      <td>PARÁ</td>\n",
       "    </tr>\n",
       "    <tr>\n",
       "      <th>32</th>\n",
       "      <td>2015</td>\n",
       "      <td>2281.543538</td>\n",
       "      <td>PARÁ</td>\n",
       "    </tr>\n",
       "    <tr>\n",
       "      <th>41</th>\n",
       "      <td>2014</td>\n",
       "      <td>1794.219138</td>\n",
       "      <td>PARÁ</td>\n",
       "    </tr>\n",
       "    <tr>\n",
       "      <th>50</th>\n",
       "      <td>2013</td>\n",
       "      <td>2097.586647</td>\n",
       "      <td>PARÁ</td>\n",
       "    </tr>\n",
       "    <tr>\n",
       "      <th>59</th>\n",
       "      <td>2012</td>\n",
       "      <td>1698.238383</td>\n",
       "      <td>PARÁ</td>\n",
       "    </tr>\n",
       "    <tr>\n",
       "      <th>68</th>\n",
       "      <td>2011</td>\n",
       "      <td>2510.116815</td>\n",
       "      <td>PARÁ</td>\n",
       "    </tr>\n",
       "    <tr>\n",
       "      <th>77</th>\n",
       "      <td>2010</td>\n",
       "      <td>3316.665072</td>\n",
       "      <td>PARÁ</td>\n",
       "    </tr>\n",
       "    <tr>\n",
       "      <th>86</th>\n",
       "      <td>2009</td>\n",
       "      <td>3558.436920</td>\n",
       "      <td>PARÁ</td>\n",
       "    </tr>\n",
       "    <tr>\n",
       "      <th>95</th>\n",
       "      <td>2008</td>\n",
       "      <td>5636.554458</td>\n",
       "      <td>PARÁ</td>\n",
       "    </tr>\n",
       "  </tbody>\n",
       "</table>\n",
       "</div>"
      ],
      "text/plain": [
       "     Ano      Area_KM    UF\n",
       "5   2018  2668.878526  PARÁ\n",
       "14  2017  2563.645791  PARÁ\n",
       "23  2016  2745.840793  PARÁ\n",
       "32  2015  2281.543538  PARÁ\n",
       "41  2014  1794.219138  PARÁ\n",
       "50  2013  2097.586647  PARÁ\n",
       "59  2012  1698.238383  PARÁ\n",
       "68  2011  2510.116815  PARÁ\n",
       "77  2010  3316.665072  PARÁ\n",
       "86  2009  3558.436920  PARÁ\n",
       "95  2008  5636.554458  PARÁ"
      ]
     },
     "execution_count": 22,
     "metadata": {},
     "output_type": "execute_result"
    }
   ],
   "source": [
    "Para = df[df.UF == 'PARÁ']\n",
    "Para"
   ]
  },
  {
   "cell_type": "code",
   "execution_count": 23,
   "metadata": {},
   "outputs": [
    {
     "data": {
      "image/png": "[encoded data removed]",
      "text/plain": [
       "<Figure size 720x360 with 1 Axes>"
      ]
     },
     "metadata": {
      "needs_background": "light"
     },
     "output_type": "display_data"
    }
   ],
   "source": [
    "plt.figure(figsize=(10,5))\n",
    "plt.title(\"Total de Áreas (KM) Desmatadas no Pará entre 2008 e 2018\")\n",
    "sns.barplot(x=\"Ano\", y=\"Area_KM\", data=Para);"
   ]
  },
  {
   "cell_type": "code",
   "execution_count": 24,
   "metadata": {},
   "outputs": [
    {
     "data": {
      "text/html": [
       "<div>\n",
       "<style scoped>\n",
       "    .dataframe tbody tr th:only-of-type {\n",
       "        vertical-align: middle;\n",
       "    }\n",
       "\n",
       "    .dataframe tbody tr th {\n",
       "        vertical-align: top;\n",
       "    }\n",
       "\n",
       "    .dataframe thead th {\n",
       "        text-align: right;\n",
       "    }\n",
       "</style>\n",
       "<table border=\"1\" class=\"dataframe\">\n",
       "  <thead>\n",
       "    <tr style=\"text-align: right;\">\n",
       "      <th></th>\n",
       "      <th>Ano</th>\n",
       "      <th>Area_KM</th>\n",
       "      <th>UF</th>\n",
       "    </tr>\n",
       "  </thead>\n",
       "  <tbody>\n",
       "    <tr>\n",
       "      <th>4</th>\n",
       "      <td>2018</td>\n",
       "      <td>1363.312140</td>\n",
       "      <td>MATO GROSSO</td>\n",
       "    </tr>\n",
       "    <tr>\n",
       "      <th>13</th>\n",
       "      <td>2017</td>\n",
       "      <td>1273.108232</td>\n",
       "      <td>MATO GROSSO</td>\n",
       "    </tr>\n",
       "    <tr>\n",
       "      <th>22</th>\n",
       "      <td>2016</td>\n",
       "      <td>1313.155413</td>\n",
       "      <td>MATO GROSSO</td>\n",
       "    </tr>\n",
       "    <tr>\n",
       "      <th>31</th>\n",
       "      <td>2015</td>\n",
       "      <td>1366.054959</td>\n",
       "      <td>MATO GROSSO</td>\n",
       "    </tr>\n",
       "    <tr>\n",
       "      <th>40</th>\n",
       "      <td>2014</td>\n",
       "      <td>1012.417066</td>\n",
       "      <td>MATO GROSSO</td>\n",
       "    </tr>\n",
       "    <tr>\n",
       "      <th>49</th>\n",
       "      <td>2013</td>\n",
       "      <td>1000.295825</td>\n",
       "      <td>MATO GROSSO</td>\n",
       "    </tr>\n",
       "    <tr>\n",
       "      <th>58</th>\n",
       "      <td>2012</td>\n",
       "      <td>703.994967</td>\n",
       "      <td>MATO GROSSO</td>\n",
       "    </tr>\n",
       "    <tr>\n",
       "      <th>67</th>\n",
       "      <td>2011</td>\n",
       "      <td>918.851584</td>\n",
       "      <td>MATO GROSSO</td>\n",
       "    </tr>\n",
       "    <tr>\n",
       "      <th>76</th>\n",
       "      <td>2010</td>\n",
       "      <td>681.179846</td>\n",
       "      <td>MATO GROSSO</td>\n",
       "    </tr>\n",
       "    <tr>\n",
       "      <th>85</th>\n",
       "      <td>2009</td>\n",
       "      <td>719.676281</td>\n",
       "      <td>MATO GROSSO</td>\n",
       "    </tr>\n",
       "    <tr>\n",
       "      <th>94</th>\n",
       "      <td>2008</td>\n",
       "      <td>3111.590278</td>\n",
       "      <td>MATO GROSSO</td>\n",
       "    </tr>\n",
       "  </tbody>\n",
       "</table>\n",
       "</div>"
      ],
      "text/plain": [
       "     Ano      Area_KM           UF\n",
       "4   2018  1363.312140  MATO GROSSO\n",
       "13  2017  1273.108232  MATO GROSSO\n",
       "22  2016  1313.155413  MATO GROSSO\n",
       "31  2015  1366.054959  MATO GROSSO\n",
       "40  2014  1012.417066  MATO GROSSO\n",
       "49  2013  1000.295825  MATO GROSSO\n",
       "58  2012   703.994967  MATO GROSSO\n",
       "67  2011   918.851584  MATO GROSSO\n",
       "76  2010   681.179846  MATO GROSSO\n",
       "85  2009   719.676281  MATO GROSSO\n",
       "94  2008  3111.590278  MATO GROSSO"
      ]
     },
     "execution_count": 24,
     "metadata": {},
     "output_type": "execute_result"
    }
   ],
   "source": [
    "MT = df[df.UF == 'MATO GROSSO']\n",
    "MT"
   ]
  },
  {
   "cell_type": "code",
   "execution_count": 25,
   "metadata": {},
   "outputs": [
    {
     "data": {
      "image/png": "[encoded data removed]",
      "text/plain": [
       "<Figure size 720x360 with 1 Axes>"
      ]
     },
     "metadata": {
      "needs_background": "light"
     },
     "output_type": "display_data"
    }
   ],
   "source": [
    "plt.figure(figsize=(10,5))\n",
    "plt.title(\"Total de Áreas (KM) Desmatadas no MT entre 2008 e 2018\")\n",
    "sns.barplot(x=\"Ano\", y=\"Area_KM\", data=MT);"
   ]
  },
  {
   "cell_type": "markdown",
   "metadata": {},
   "source": [
    "## Geolocalização - Amazônia Legal - UF´s"
   ]
  },
  {
   "cell_type": "code",
   "execution_count": 26,
   "metadata": {},
   "outputs": [],
   "source": [
    "# Dataset contendo localização (Latitude e Longitude) das UF´s - Amazônia Legal\n",
    "\n",
    "df_UF_Location = pd.read_excel('Localizacao_UF.xlsx')"
   ]
  },
  {
   "cell_type": "code",
   "execution_count": 27,
   "metadata": {},
   "outputs": [
    {
     "data": {
      "text/html": [
       "<div>\n",
       "<style scoped>\n",
       "    .dataframe tbody tr th:only-of-type {\n",
       "        vertical-align: middle;\n",
       "    }\n",
       "\n",
       "    .dataframe tbody tr th {\n",
       "        vertical-align: top;\n",
       "    }\n",
       "\n",
       "    .dataframe thead th {\n",
       "        text-align: right;\n",
       "    }\n",
       "</style>\n",
       "<table border=\"1\" class=\"dataframe\">\n",
       "  <thead>\n",
       "    <tr style=\"text-align: right;\">\n",
       "      <th></th>\n",
       "      <th>UF</th>\n",
       "      <th>Latitude</th>\n",
       "      <th>Longitude</th>\n",
       "    </tr>\n",
       "  </thead>\n",
       "  <tbody>\n",
       "    <tr>\n",
       "      <th>0</th>\n",
       "      <td>PARÁ</td>\n",
       "      <td>-1.454980e+06</td>\n",
       "      <td>-48502270</td>\n",
       "    </tr>\n",
       "    <tr>\n",
       "      <th>1</th>\n",
       "      <td>MATO GROSSO</td>\n",
       "      <td>-1.559510e+07</td>\n",
       "      <td>-56092260</td>\n",
       "    </tr>\n",
       "    <tr>\n",
       "      <th>2</th>\n",
       "      <td>RONDONIA</td>\n",
       "      <td>-1.183131e+07</td>\n",
       "      <td>-61319700</td>\n",
       "    </tr>\n",
       "    <tr>\n",
       "      <th>3</th>\n",
       "      <td>AMAZONAS</td>\n",
       "      <td>-3.062771e+06</td>\n",
       "      <td>-60225344</td>\n",
       "    </tr>\n",
       "    <tr>\n",
       "      <th>4</th>\n",
       "      <td>ACRE</td>\n",
       "      <td>-9.973870e+06</td>\n",
       "      <td>-67807540</td>\n",
       "    </tr>\n",
       "    <tr>\n",
       "      <th>5</th>\n",
       "      <td>MARANHÃO</td>\n",
       "      <td>-2.486115e+06</td>\n",
       "      <td>-44396958</td>\n",
       "    </tr>\n",
       "    <tr>\n",
       "      <th>6</th>\n",
       "      <td>RORAIMA</td>\n",
       "      <td>1.925946e+06</td>\n",
       "      <td>-62055254</td>\n",
       "    </tr>\n",
       "    <tr>\n",
       "      <th>7</th>\n",
       "      <td>TOCANTINS</td>\n",
       "      <td>-1.018451e+07</td>\n",
       "      <td>-48334660</td>\n",
       "    </tr>\n",
       "    <tr>\n",
       "      <th>8</th>\n",
       "      <td>AMAPÁ</td>\n",
       "      <td>3.585000e-02</td>\n",
       "      <td>-51062210</td>\n",
       "    </tr>\n",
       "  </tbody>\n",
       "</table>\n",
       "</div>"
      ],
      "text/plain": [
       "            UF      Latitude  Longitude\n",
       "0         PARÁ -1.454980e+06  -48502270\n",
       "1  MATO GROSSO -1.559510e+07  -56092260\n",
       "2     RONDONIA -1.183131e+07  -61319700\n",
       "3     AMAZONAS -3.062771e+06  -60225344\n",
       "4         ACRE -9.973870e+06  -67807540\n",
       "5     MARANHÃO -2.486115e+06  -44396958\n",
       "6      RORAIMA  1.925946e+06  -62055254\n",
       "7    TOCANTINS -1.018451e+07  -48334660\n",
       "8        AMAPÁ  3.585000e-02  -51062210"
      ]
     },
     "execution_count": 27,
     "metadata": {},
     "output_type": "execute_result"
    }
   ],
   "source": [
    "df_UF_Location"
   ]
  },
  {
   "cell_type": "code",
   "execution_count": 28,
   "metadata": {},
   "outputs": [],
   "source": [
    "df_desmat_location = df.merge(df_UF_Location, on=['UF'], how='left')"
   ]
  },
  {
   "cell_type": "code",
   "execution_count": 29,
   "metadata": {},
   "outputs": [
    {
     "data": {
      "text/html": [
       "<div>\n",
       "<style scoped>\n",
       "    .dataframe tbody tr th:only-of-type {\n",
       "        vertical-align: middle;\n",
       "    }\n",
       "\n",
       "    .dataframe tbody tr th {\n",
       "        vertical-align: top;\n",
       "    }\n",
       "\n",
       "    .dataframe thead th {\n",
       "        text-align: right;\n",
       "    }\n",
       "</style>\n",
       "<table border=\"1\" class=\"dataframe\">\n",
       "  <thead>\n",
       "    <tr style=\"text-align: right;\">\n",
       "      <th></th>\n",
       "      <th>Ano</th>\n",
       "      <th>Area_KM</th>\n",
       "      <th>UF</th>\n",
       "      <th>Latitude</th>\n",
       "      <th>Longitude</th>\n",
       "    </tr>\n",
       "  </thead>\n",
       "  <tbody>\n",
       "    <tr>\n",
       "      <th>0</th>\n",
       "      <td>2018</td>\n",
       "      <td>23.667546</td>\n",
       "      <td>AMAPÁ</td>\n",
       "      <td>3.585000e-02</td>\n",
       "      <td>-51062210</td>\n",
       "    </tr>\n",
       "    <tr>\n",
       "      <th>1</th>\n",
       "      <td>2018</td>\n",
       "      <td>92.761077</td>\n",
       "      <td>MARANHÃO</td>\n",
       "      <td>-2.486115e+06</td>\n",
       "      <td>-44396958</td>\n",
       "    </tr>\n",
       "    <tr>\n",
       "      <th>2</th>\n",
       "      <td>2018</td>\n",
       "      <td>461.248697</td>\n",
       "      <td>ACRE</td>\n",
       "      <td>-9.973870e+06</td>\n",
       "      <td>-67807540</td>\n",
       "    </tr>\n",
       "    <tr>\n",
       "      <th>3</th>\n",
       "      <td>2018</td>\n",
       "      <td>6.325568</td>\n",
       "      <td>TOCANTINS</td>\n",
       "      <td>-1.018451e+07</td>\n",
       "      <td>-48334660</td>\n",
       "    </tr>\n",
       "    <tr>\n",
       "      <th>4</th>\n",
       "      <td>2018</td>\n",
       "      <td>1363.312140</td>\n",
       "      <td>MATO GROSSO</td>\n",
       "      <td>-1.559510e+07</td>\n",
       "      <td>-56092260</td>\n",
       "    </tr>\n",
       "  </tbody>\n",
       "</table>\n",
       "</div>"
      ],
      "text/plain": [
       "    Ano      Area_KM           UF      Latitude  Longitude\n",
       "0  2018    23.667546        AMAPÁ  3.585000e-02  -51062210\n",
       "1  2018    92.761077     MARANHÃO -2.486115e+06  -44396958\n",
       "2  2018   461.248697         ACRE -9.973870e+06  -67807540\n",
       "3  2018     6.325568    TOCANTINS -1.018451e+07  -48334660\n",
       "4  2018  1363.312140  MATO GROSSO -1.559510e+07  -56092260"
      ]
     },
     "execution_count": 29,
     "metadata": {},
     "output_type": "execute_result"
    }
   ],
   "source": [
    "df_desmat_location.head()"
   ]
  },
  {
   "cell_type": "code",
   "execution_count": 30,
   "metadata": {},
   "outputs": [
    {
     "name": "stdout",
     "output_type": "stream",
     "text": [
      "Requirement already satisfied: folium in c:\\anaconda\\lib\\site-packages (0.10.0)\n",
      "Requirement already satisfied: jinja2>=2.9 in c:\\anaconda\\lib\\site-packages (from folium) (2.10)\n",
      "Requirement already satisfied: numpy in c:\\anaconda\\lib\\site-packages (from folium) (1.15.4)\n",
      "Requirement already satisfied: branca>=0.3.0 in c:\\anaconda\\lib\\site-packages (from folium) (0.3.1)\n",
      "Requirement already satisfied: requests in c:\\anaconda\\lib\\site-packages (from folium) (2.21.0)\n",
      "Requirement already satisfied: MarkupSafe>=0.23 in c:\\anaconda\\lib\\site-packages (from jinja2>=2.9->folium) (1.1.0)\n",
      "Requirement already satisfied: six in c:\\anaconda\\lib\\site-packages (from branca>=0.3.0->folium) (1.12.0)\n",
      "Requirement already satisfied: chardet<3.1.0,>=3.0.2 in c:\\anaconda\\lib\\site-packages (from requests->folium) (3.0.4)\n",
      "Requirement already satisfied: certifi>=2017.4.17 in c:\\anaconda\\lib\\site-packages (from requests->folium) (2018.11.29)\n",
      "Requirement already satisfied: idna<2.9,>=2.5 in c:\\anaconda\\lib\\site-packages (from requests->folium) (2.8)\n",
      "Requirement already satisfied: urllib3<1.25,>=1.21.1 in c:\\anaconda\\lib\\site-packages (from requests->folium) (1.24.1)\n"
     ]
    },
    {
     "name": "stderr",
     "output_type": "stream",
     "text": [
      "WARNING: You are using pip version 19.2.2, however version 19.2.3 is available.\n",
      "You should consider upgrading via the 'python -m pip install --upgrade pip' command.\n"
     ]
    }
   ],
   "source": [
    "! pip install folium"
   ]
  },
  {
   "cell_type": "code",
   "execution_count": 31,
   "metadata": {},
   "outputs": [
    {
     "data": {
      "text/html": [
       "<div style=\"width:100%;\"><div style=\"position:relative;width:100%;height:0;padding-bottom:60%;\"><iframe src=\"data:text/html;charset=utf-8;base64,PCFET0NUWVBFIGh0bWw+CjxoZWFkPiAgICAKICAgIDxtZXRhIGh0dHAtZXF1aXY9ImNvbnRlbnQtdHlwZSIgY29udGVudD0idGV4dC9odG1sOyBjaGFyc2V0PVVURi04IiAvPgogICAgCiAgICAgICAgPHNjcmlwdD4KICAgICAgICAgICAgTF9OT19UT1VDSCA9IGZhbHNlOwogICAgICAgICAgICBMX0RJU0FCTEVfM0QgPSBmYWxzZTsKICAgICAgICA8L3NjcmlwdD4KICAgIAogICAgPHNjcmlwdCBzcmM9Imh0dHBzOi8vY2RuLmpzZGVsaXZyLm5ldC9ucG0vbGVhZmxldEAxLjUuMS9kaXN0L2xlYWZsZXQuanMiPjwvc2NyaXB0PgogICAgPHNjcmlwdCBzcmM9Imh0dHBzOi8vY29kZS5qcXVlcnkuY29tL2pxdWVyeS0xLjEyLjQubWluLmpzIj48L3NjcmlwdD4KICAgIDxzY3JpcHQgc3JjPSJodHRwczovL21heGNkbi5ib290c3RyYXBjZG4uY29tL2Jvb3RzdHJhcC8zLjIuMC9qcy9ib290c3RyYXAubWluLmpzIj48L3NjcmlwdD4KICAgIDxzY3JpcHQgc3JjPSJodHRwczovL2NkbmpzLmNsb3VkZmxhcmUuY29tL2FqYXgvbGlicy9MZWFmbGV0LmF3ZXNvbWUtbWFya2Vycy8yLjAuMi9sZWFmbGV0LmF3ZXNvbWUtbWFya2Vycy5qcyI+PC9zY3JpcHQ+CiAgICA8bGluayByZWw9InN0eWxlc2hlZXQiIGhyZWY9Imh0dHBzOi8vY2RuLmpzZGVsaXZyLm5ldC9ucG0vbGVhZmxldEAxLjUuMS9kaXN0L2xlYWZsZXQuY3NzIi8+CiAgICA8bGluayByZWw9InN0eWxlc2hlZXQiIGhyZWY9Imh0dHBzOi8vbWF4Y2RuLmJvb3RzdHJhcGNkbi5jb20vYm9vdHN0cmFwLzMuMi4wL2Nzcy9ib290c3RyYXAubWluLmNzcyIvPgogICAgPGxpbmsgcmVsPSJzdHlsZXNoZWV0IiBocmVmPSJodHRwczovL21heGNkbi5ib290c3RyYXBjZG4uY29tL2Jvb3RzdHJhcC8zLjIuMC9jc3MvYm9vdHN0cmFwLXRoZW1lLm1pbi5jc3MiLz4KICAgIDxsaW5rIHJlbD0ic3R5bGVzaGVldCIgaHJlZj0iaHR0cHM6Ly9tYXhjZG4uYm9vdHN0cmFwY2RuLmNvbS9mb250LWF3ZXNvbWUvNC42LjMvY3NzL2ZvbnQtYXdlc29tZS5taW4uY3NzIi8+CiAgICA8bGluayByZWw9InN0eWxlc2hlZXQiIGhyZWY9Imh0dHBzOi8vY2RuanMuY2xvdWRmbGFyZS5jb20vYWpheC9saWJzL0xlYWZsZXQuYXdlc29tZS1tYXJrZXJzLzIuMC4yL2xlYWZsZXQuYXdlc29tZS1tYXJrZXJzLmNzcyIvPgogICAgPGxpbmsgcmVsPSJzdHlsZXNoZWV0IiBocmVmPSJodHRwczovL3Jhd2Nkbi5naXRoYWNrLmNvbS9weXRob24tdmlzdWFsaXphdGlvbi9mb2xpdW0vbWFzdGVyL2ZvbGl1bS90ZW1wbGF0ZXMvbGVhZmxldC5hd2Vzb21lLnJvdGF0ZS5jc3MiLz4KICAgIDxzdHlsZT5odG1sLCBib2R5IHt3aWR0aDogMTAwJTtoZWlnaHQ6IDEwMCU7bWFyZ2luOiAwO3BhZGRpbmc6IDA7fTwvc3R5bGU+CiAgICA8c3R5bGU+I21hcCB7cG9zaXRpb246YWJzb2x1dGU7dG9wOjA7Ym90dG9tOjA7cmlnaHQ6MDtsZWZ0OjA7fTwvc3R5bGU+CiAgICAKICAgICAgICAgICAgPG1ldGEgbmFtZT0idmlld3BvcnQiIGNvbnRlbnQ9IndpZHRoPWRldmljZS13aWR0aCwKICAgICAgICAgICAgICAgIGluaXRpYWwtc2NhbGU9MS4wLCBtYXhpbXVtLXNjYWxlPTEuMCwgdXNlci1zY2FsYWJsZT1ubyIgLz4KICAgICAgICAgICAgPHN0eWxlPgogICAgICAgICAgICAgICAgI21hcF8yMGNkM2M1ZmM1NjM0ZDlkYTA0ZDY2ZDE5MDRjYjNlYyB7CiAgICAgICAgICAgICAgICAgICAgcG9zaXRpb246IHJlbGF0aXZlOwogICAgICAgICAgICAgICAgICAgIHdpZHRoOiAxMDAuMCU7CiAgICAgICAgICAgICAgICAgICAgaGVpZ2h0OiAxMDAuMCU7CiAgICAgICAgICAgICAgICAgICAgbGVmdDogMC4wJTsKICAgICAgICAgICAgICAgICAgICB0b3A6IDAuMCU7CiAgICAgICAgICAgICAgICB9CiAgICAgICAgICAgIDwvc3R5bGU+CiAgICAgICAgCjwvaGVhZD4KPGJvZHk+ICAgIAogICAgCiAgICAgICAgICAgIDxkaXYgY2xhc3M9ImZvbGl1bS1tYXAiIGlkPSJtYXBfMjBjZDNjNWZjNTYzNGQ5ZGEwNGQ2NmQxOTA0Y2IzZWMiID48L2Rpdj4KICAgICAgICAKPC9ib2R5Pgo8c2NyaXB0PiAgICAKICAgIAogICAgICAgICAgICB2YXIgbWFwXzIwY2QzYzVmYzU2MzRkOWRhMDRkNjZkMTkwNGNiM2VjID0gTC5tYXAoCiAgICAgICAgICAgICAgICAibWFwXzIwY2QzYzVmYzU2MzRkOWRhMDRkNjZkMTkwNGNiM2VjIiwKICAgICAgICAgICAgICAgIHsKICAgICAgICAgICAgICAgICAgICBjZW50ZXI6IFstOS4zMTM1NjksIC00NS4yMDUzN10sCiAgICAgICAgICAgICAgICAgICAgY3JzOiBMLkNSUy5FUFNHMzg1NywKICAgICAgICAgICAgICAgICAgICB6b29tOiAyLAogICAgICAgICAgICAgICAgICAgIHpvb21Db250cm9sOiB0cnVlLAogICAgICAgICAgICAgICAgICAgIHByZWZlckNhbnZhczogZmFsc2UsCiAgICAgICAgICAgICAgICAgICAgdGl0bGVzOiAiTWFwYm94IEJyaWdodCIsCiAgICAgICAgICAgICAgICB9CiAgICAgICAgICAgICk7CgogICAgICAgICAgICAKCiAgICAgICAgCiAgICAKICAgICAgICAgICAgdmFyIHRpbGVfbGF5ZXJfMTcyYmY4ZTA5NDM3NDcxZDgwNzQ3MjEyOGJhNmM1NTkgPSBMLnRpbGVMYXllcigKICAgICAgICAgICAgICAgICJodHRwczovL3tzfS50aWxlLm9wZW5zdHJlZXRtYXAub3JnL3t6fS97eH0ve3l9LnBuZyIsCiAgICAgICAgICAgICAgICB7ImF0dHJpYnV0aW9uIjogIkRhdGEgYnkgXHUwMDI2Y29weTsgXHUwMDNjYSBocmVmPVwiaHR0cDovL29wZW5zdHJlZXRtYXAub3JnXCJcdTAwM2VPcGVuU3RyZWV0TWFwXHUwMDNjL2FcdTAwM2UsIHVuZGVyIFx1MDAzY2EgaHJlZj1cImh0dHA6Ly93d3cub3BlbnN0cmVldG1hcC5vcmcvY29weXJpZ2h0XCJcdTAwM2VPRGJMXHUwMDNjL2FcdTAwM2UuIiwgImRldGVjdFJldGluYSI6IGZhbHNlLCAibWF4TmF0aXZlWm9vbSI6IDE4LCAibWF4Wm9vbSI6IDE4LCAibWluWm9vbSI6IDAsICJub1dyYXAiOiBmYWxzZSwgIm9wYWNpdHkiOiAxLCAic3ViZG9tYWlucyI6ICJhYmMiLCAidG1zIjogZmFsc2V9CiAgICAgICAgICAgICkuYWRkVG8obWFwXzIwY2QzYzVmYzU2MzRkOWRhMDRkNjZkMTkwNGNiM2VjKTsKICAgICAgICAKICAgIAogICAgICAgICAgICB2YXIgbWFya2VyX2E1NGU4NjBlN2QyOTRhMWY4MTU0Zjk1MzY2MGE3NDRiID0gTC5tYXJrZXIoCiAgICAgICAgICAgICAgICBbLTEuNDU0OTgsIC00OC41MDIyN10sCiAgICAgICAgICAgICAgICB7fQogICAgICAgICAgICApLmFkZFRvKG1hcF8yMGNkM2M1ZmM1NjM0ZDlkYTA0ZDY2ZDE5MDRjYjNlYyk7CiAgICAgICAgCiAgICAKICAgICAgICB2YXIgcG9wdXBfZWVhZTM3YTlkOTA0NGExNDkxNmQ4Nzc3NWVkZjFkMzggPSBMLnBvcHVwKHsibWF4V2lkdGgiOiAiMTAwJSJ9KTsKCiAgICAgICAgCiAgICAgICAgICAgIHZhciBodG1sXzgzZDEyNzczNDJkNTRkM2ViMTViODEyYzRkMWM4NDg4ID0gJChgPGRpdiBpZD0iaHRtbF84M2QxMjc3MzQyZDU0ZDNlYjE1YjgxMmM0ZDFjODQ4OCIgc3R5bGU9IndpZHRoOiAxMDAuMCU7IGhlaWdodDogMTAwLjAlOyI+UGFyw6E8L2Rpdj5gKVswXTsKICAgICAgICAgICAgcG9wdXBfZWVhZTM3YTlkOTA0NGExNDkxNmQ4Nzc3NWVkZjFkMzguc2V0Q29udGVudChodG1sXzgzZDEyNzczNDJkNTRkM2ViMTViODEyYzRkMWM4NDg4KTsKICAgICAgICAKCiAgICAgICAgbWFya2VyX2E1NGU4NjBlN2QyOTRhMWY4MTU0Zjk1MzY2MGE3NDRiLmJpbmRQb3B1cChwb3B1cF9lZWFlMzdhOWQ5MDQ0YTE0OTE2ZDg3Nzc1ZWRmMWQzOCkKICAgICAgICA7CgogICAgICAgIAogICAgCiAgICAKICAgICAgICAgICAgbWFya2VyX2E1NGU4NjBlN2QyOTRhMWY4MTU0Zjk1MzY2MGE3NDRiLmJpbmRUb29sdGlwKAogICAgICAgICAgICAgICAgYDxkaXY+CiAgICAgICAgICAgICAgICAgICAgIDMwODcxIEtNMiBEZXNtYXRhZG9zIGVudHJlIDIwMDggZSAyMDE4CiAgICAgICAgICAgICAgICAgPC9kaXY+YCwKICAgICAgICAgICAgICAgIHsic3RpY2t5IjogdHJ1ZX0KICAgICAgICAgICAgKTsKICAgICAgICAKICAgIAogICAgICAgICAgICB2YXIgbWFya2VyXzE4YzQ3MmQyODI5YzRlNmQ5MzNiMDU5YTQyN2NiMGE0ID0gTC5tYXJrZXIoCiAgICAgICAgICAgICAgICBbLTEuNTU5NTEsIC01Ni4wOTIyNl0sCiAgICAgICAgICAgICAgICB7fQogICAgICAgICAgICApLmFkZFRvKG1hcF8yMGNkM2M1ZmM1NjM0ZDlkYTA0ZDY2ZDE5MDRjYjNlYyk7CiAgICAgICAgCiAgICAKICAgICAgICB2YXIgcG9wdXBfOWVlZjU5NjI2OTE4NDRjMmJjYmQxZTczNTJhOTcyMWIgPSBMLnBvcHVwKHsibWF4V2lkdGgiOiAiMTAwJSJ9KTsKCiAgICAgICAgCiAgICAgICAgICAgIHZhciBodG1sXzNiYmVlMmZhMTM4OTRlOGRhNmMwODVhYmIxOWNlMTNkID0gJChgPGRpdiBpZD0iaHRtbF8zYmJlZTJmYTEzODk0ZThkYTZjMDg1YWJiMTljZTEzZCIgc3R5bGU9IndpZHRoOiAxMDAuMCU7IGhlaWdodDogMTAwLjAlOyI+TWF0byBHcm9zc288L2Rpdj5gKVswXTsKICAgICAgICAgICAgcG9wdXBfOWVlZjU5NjI2OTE4NDRjMmJjYmQxZTczNTJhOTcyMWIuc2V0Q29udGVudChodG1sXzNiYmVlMmZhMTM4OTRlOGRhNmMwODVhYmIxOWNlMTNkKTsKICAgICAgICAKCiAgICAgICAgbWFya2VyXzE4YzQ3MmQyODI5YzRlNmQ5MzNiMDU5YTQyN2NiMGE0LmJpbmRQb3B1cChwb3B1cF85ZWVmNTk2MjY5MTg0NGMyYmNiZDFlNzM1MmE5NzIxYikKICAgICAgICA7CgogICAgICAgIAogICAgCiAgICAKICAgICAgICAgICAgbWFya2VyXzE4YzQ3MmQyODI5YzRlNmQ5MzNiMDU5YTQyN2NiMGE0LmJpbmRUb29sdGlwKAogICAgICAgICAgICAgICAgYDxkaXY+CiAgICAgICAgICAgICAgICAgICAgIDEzNDYzIEtNMkRlc21hdGFkb3MgZW50cmUgMjAwOCBlIDIwMTgKICAgICAgICAgICAgICAgICA8L2Rpdj5gLAogICAgICAgICAgICAgICAgeyJzdGlja3kiOiB0cnVlfQogICAgICAgICAgICApOwogICAgICAgIAogICAgCiAgICAgICAgICAgIHZhciBtYXJrZXJfNDM5M2I1NzE3YTE1NGI0N2IzMTlhZTMyYjc4OTgwMzcgPSBMLm1hcmtlcigKICAgICAgICAgICAgICAgIFstMTEuODMxMzEsIC02MS4zMTk3XSwKICAgICAgICAgICAgICAgIHt9CiAgICAgICAgICAgICkuYWRkVG8obWFwXzIwY2QzYzVmYzU2MzRkOWRhMDRkNjZkMTkwNGNiM2VjKTsKICAgICAgICAKICAgIAogICAgICAgIHZhciBwb3B1cF8xNTVhMTc2YzRlNjQ0NTJkODJmMjZlNmY2NjE5ZjIyYSA9IEwucG9wdXAoeyJtYXhXaWR0aCI6ICIxMDAlIn0pOwoKICAgICAgICAKICAgICAgICAgICAgdmFyIGh0bWxfMGRkN2U0NzBhNTgyNDk0OWE2MDFiN2JlNTU1NDVhNTEgPSAkKGA8ZGl2IGlkPSJodG1sXzBkZDdlNDcwYTU4MjQ5NDlhNjAxYjdiZTU1NTQ1YTUxIiBzdHlsZT0id2lkdGg6IDEwMC4wJTsgaGVpZ2h0OiAxMDAuMCU7Ij5Sb25kw7RuaWE8L2Rpdj5gKVswXTsKICAgICAgICAgICAgcG9wdXBfMTU1YTE3NmM0ZTY0NDUyZDgyZjI2ZTZmNjYxOWYyMmEuc2V0Q29udGVudChodG1sXzBkZDdlNDcwYTU4MjQ5NDlhNjAxYjdiZTU1NTQ1YTUxKTsKICAgICAgICAKCiAgICAgICAgbWFya2VyXzQzOTNiNTcxN2ExNTRiNDdiMzE5YWUzMmI3ODk4MDM3LmJpbmRQb3B1cChwb3B1cF8xNTVhMTc2YzRlNjQ0NTJkODJmMjZlNmY2NjE5ZjIyYSkKICAgICAgICA7CgogICAgICAgIAogICAgCiAgICAKICAgICAgICAgICAgbWFya2VyXzQzOTNiNTcxN2ExNTRiNDdiMzE5YWUzMmI3ODk4MDM3LmJpbmRUb29sdGlwKAogICAgICAgICAgICAgICAgYDxkaXY+CiAgICAgICAgICAgICAgICAgICAgIDk3NzYgS00yIERlc21hdGFkb3MgZW50cmUgMjAwOCBlIDIwMTgKICAgICAgICAgICAgICAgICA8L2Rpdj5gLAogICAgICAgICAgICAgICAgeyJzdGlja3kiOiB0cnVlfQogICAgICAgICAgICApOwogICAgICAgIAogICAgCiAgICAgICAgICAgIHZhciBtYXJrZXJfODY3NGEzODliY2M1NGMxYTkxMWQyMjQ0NGIxMzJjNTYgPSBMLm1hcmtlcigKICAgICAgICAgICAgICAgIFstMy4wNjI3NzEsIC02MC4yMjUzNDRdLAogICAgICAgICAgICAgICAge30KICAgICAgICAgICAgKS5hZGRUbyhtYXBfMjBjZDNjNWZjNTYzNGQ5ZGEwNGQ2NmQxOTA0Y2IzZWMpOwogICAgICAgIAogICAgCiAgICAgICAgdmFyIHBvcHVwXzFmMjE1YTlkNTZhODRhNWE4OWViMWRiNmE4MTQ2OWQxID0gTC5wb3B1cCh7Im1heFdpZHRoIjogIjEwMCUifSk7CgogICAgICAgIAogICAgICAgICAgICB2YXIgaHRtbF84ZjA0ODc0NmQ1N2E0ZTE2YTE3ZjQxY2YzMWEwODRjYSA9ICQoYDxkaXYgaWQ9Imh0bWxfOGYwNDg3NDZkNTdhNGUxNmExN2Y0MWNmMzFhMDg0Y2EiIHN0eWxlPSJ3aWR0aDogMTAwLjAlOyBoZWlnaHQ6IDEwMC4wJTsiPkFtYXpvbmFzPC9kaXY+YClbMF07CiAgICAgICAgICAgIHBvcHVwXzFmMjE1YTlkNTZhODRhNWE4OWViMWRiNmE4MTQ2OWQxLnNldENvbnRlbnQoaHRtbF84ZjA0ODc0NmQ1N2E0ZTE2YTE3ZjQxY2YzMWEwODRjYSk7CiAgICAgICAgCgogICAgICAgIG1hcmtlcl84Njc0YTM4OWJjYzU0YzFhOTExZDIyNDQ0YjEzMmM1Ni5iaW5kUG9wdXAocG9wdXBfMWYyMTVhOWQ1NmE4NGE1YTg5ZWIxZGI2YTgxNDY5ZDEpCiAgICAgICAgOwoKICAgICAgICAKICAgIAogICAgCiAgICAgICAgICAgIG1hcmtlcl84Njc0YTM4OWJjYzU0YzFhOTExZDIyNDQ0YjEzMmM1Ni5iaW5kVG9vbHRpcCgKICAgICAgICAgICAgICAgIGA8ZGl2PgogICAgICAgICAgICAgICAgICAgICA3MjY5IEtNMiBEZXNtYXRhZG9zIGVudHJlIDIwMDggZSAyMDE4CiAgICAgICAgICAgICAgICAgPC9kaXY+YCwKICAgICAgICAgICAgICAgIHsic3RpY2t5IjogdHJ1ZX0KICAgICAgICAgICAgKTsKICAgICAgICAKICAgIAogICAgICAgICAgICB2YXIgbWFya2VyXzhiNDgyYjBmY2YxYTQ2Nzc5MTU5Y2QxZmVkMzk2YjI1ID0gTC5tYXJrZXIoCiAgICAgICAgICAgICAgICBbLTkuOTczODcsIC02Ny44MDc1NF0sCiAgICAgICAgICAgICAgICB7fQogICAgICAgICAgICApLmFkZFRvKG1hcF8yMGNkM2M1ZmM1NjM0ZDlkYTA0ZDY2ZDE5MDRjYjNlYyk7CiAgICAgICAgCiAgICAKICAgICAgICB2YXIgcG9wdXBfNzYzMTJhMmRhNGE4NDMyOTkzODE5MDNmZDZlMDc0OTMgPSBMLnBvcHVwKHsibWF4V2lkdGgiOiAiMTAwJSJ9KTsKCiAgICAgICAgCiAgICAgICAgICAgIHZhciBodG1sXzlkMjI2NmI5ZTcxODQzNjA5MWQxMjIyOWRkNDhkZjNiID0gJChgPGRpdiBpZD0iaHRtbF85ZDIyNjZiOWU3MTg0MzYwOTFkMTIyMjlkZDQ4ZGYzYiIgc3R5bGU9IndpZHRoOiAxMDAuMCU7IGhlaWdodDogMTAwLjAlOyI+QWNyZTwvZGl2PmApWzBdOwogICAgICAgICAgICBwb3B1cF83NjMxMmEyZGE0YTg0MzI5OTM4MTkwM2ZkNmUwNzQ5My5zZXRDb250ZW50KGh0bWxfOWQyMjY2YjllNzE4NDM2MDkxZDEyMjI5ZGQ0OGRmM2IpOwogICAgICAgIAoKICAgICAgICBtYXJrZXJfOGI0ODJiMGZjZjFhNDY3NzkxNTljZDFmZWQzOTZiMjUuYmluZFBvcHVwKHBvcHVwXzc2MzEyYTJkYTRhODQzMjk5MzgxOTAzZmQ2ZTA3NDkzKQogICAgICAgIDsKCiAgICAgICAgCiAgICAKICAgIAogICAgICAgICAgICBtYXJrZXJfOGI0ODJiMGZjZjFhNDY3NzkxNTljZDFmZWQzOTZiMjUuYmluZFRvb2x0aXAoCiAgICAgICAgICAgICAgICBgPGRpdj4KICAgICAgICAgICAgICAgICAgICAgMzEyMiBLTTIgRGVzbWF0YWRvcyBlbnRyZSAyMDA4IGUgMjAxOAogICAgICAgICAgICAgICAgIDwvZGl2PmAsCiAgICAgICAgICAgICAgICB7InN0aWNreSI6IHRydWV9CiAgICAgICAgICAgICk7CiAgICAgICAgCiAgICAKICAgICAgICAgICAgdmFyIG1hcmtlcl9hNTdkMmM4NDY2MzY0ZmQwYTUxM2M2MTVmNjMyYTNkMSA9IEwubWFya2VyKAogICAgICAgICAgICAgICAgWy0yLjQ4NjExNSwgLTQ0LjM5Njk1OF0sCiAgICAgICAgICAgICAgICB7fQogICAgICAgICAgICApLmFkZFRvKG1hcF8yMGNkM2M1ZmM1NjM0ZDlkYTA0ZDY2ZDE5MDRjYjNlYyk7CiAgICAgICAgCiAgICAKICAgICAgICB2YXIgcG9wdXBfNDU4MDUyM2Q3OGZkNDA3MTlkZmU2NDk5MTkxOGIzNTYgPSBMLnBvcHVwKHsibWF4V2lkdGgiOiAiMTAwJSJ9KTsKCiAgICAgICAgCiAgICAgICAgICAgIHZhciBodG1sXzQyYmE0YjE0MzY1YTQ4OWZiNDQwYzI4YzAwZDM3ZTRkID0gJChgPGRpdiBpZD0iaHRtbF80MmJhNGIxNDM2NWE0ODlmYjQ0MGMyOGMwMGQzN2U0ZCIgc3R5bGU9IndpZHRoOiAxMDAuMCU7IGhlaWdodDogMTAwLjAlOyI+TWFyYW5ow6NvPC9kaXY+YClbMF07CiAgICAgICAgICAgIHBvcHVwXzQ1ODA1MjNkNzhmZDQwNzE5ZGZlNjQ5OTE5MThiMzU2LnNldENvbnRlbnQoaHRtbF80MmJhNGIxNDM2NWE0ODlmYjQ0MGMyOGMwMGQzN2U0ZCk7CiAgICAgICAgCgogICAgICAgIG1hcmtlcl9hNTdkMmM4NDY2MzY0ZmQwYTUxM2M2MTVmNjMyYTNkMS5iaW5kUG9wdXAocG9wdXBfNDU4MDUyM2Q3OGZkNDA3MTlkZmU2NDk5MTkxOGIzNTYpCiAgICAgICAgOwoKICAgICAgICAKICAgIAogICAgCiAgICAgICAgICAgIG1hcmtlcl9hNTdkMmM4NDY2MzY0ZmQwYTUxM2M2MTVmNjMyYTNkMS5iaW5kVG9vbHRpcCgKICAgICAgICAgICAgICAgIGA8ZGl2PgogICAgICAgICAgICAgICAgICAgICAyNTAzIEtNMiBEZXNtYXRhZG9zIGVudHJlIDIwMDggZSAyMDE4CiAgICAgICAgICAgICAgICAgPC9kaXY+YCwKICAgICAgICAgICAgICAgIHsic3RpY2t5IjogdHJ1ZX0KICAgICAgICAgICAgKTsKICAgICAgICAKICAgIAogICAgICAgICAgICB2YXIgbWFya2VyXzRhYzIyNDhiOTE3NjRiMmM4Y2EzNTUwZjkzZjZjN2M5ID0gTC5tYXJrZXIoCiAgICAgICAgICAgICAgICBbMS45MjU5NDYsIC02Mi4wNTUyNTRdLAogICAgICAgICAgICAgICAge30KICAgICAgICAgICAgKS5hZGRUbyhtYXBfMjBjZDNjNWZjNTYzNGQ5ZGEwNGQ2NmQxOTA0Y2IzZWMpOwogICAgICAgIAogICAgCiAgICAgICAgdmFyIHBvcHVwX2EzNmRmNDhjYjkyMzRhYTQ4MDUxNDlkZmFkZmM5NjJmID0gTC5wb3B1cCh7Im1heFdpZHRoIjogIjEwMCUifSk7CgogICAgICAgIAogICAgICAgICAgICB2YXIgaHRtbF82NzMzZmIxNTI2MjY0ODM5YmQ5ZDljMWJjYzY5OTg2ZCA9ICQoYDxkaXYgaWQ9Imh0bWxfNjczM2ZiMTUyNjI2NDgzOWJkOWQ5YzFiY2M2OTk4NmQiIHN0eWxlPSJ3aWR0aDogMTAwLjAlOyBoZWlnaHQ6IDEwMC4wJTsiPlJvcmFpbWE8L2Rpdj5gKVswXTsKICAgICAgICAgICAgcG9wdXBfYTM2ZGY0OGNiOTIzNGFhNDgwNTE0OWRmYWRmYzk2MmYuc2V0Q29udGVudChodG1sXzY3MzNmYjE1MjYyNjQ4MzliZDlkOWMxYmNjNjk5ODZkKTsKICAgICAgICAKCiAgICAgICAgbWFya2VyXzRhYzIyNDhiOTE3NjRiMmM4Y2EzNTUwZjkzZjZjN2M5LmJpbmRQb3B1cChwb3B1cF9hMzZkZjQ4Y2I5MjM0YWE0ODA1MTQ5ZGZhZGZjOTYyZikKICAgICAgICA7CgogICAgICAgIAogICAgCiAgICAKICAgICAgICAgICAgbWFya2VyXzRhYzIyNDhiOTE3NjRiMmM4Y2EzNTUwZjkzZjZjN2M5LmJpbmRUb29sdGlwKAogICAgICAgICAgICAgICAgYDxkaXY+CiAgICAgICAgICAgICAgICAgICAgIDIyMTUgS00yIERlc21hdGFkb3MgZW50cmUgMjAwOCBlIDIwMTgKICAgICAgICAgICAgICAgICA8L2Rpdj5gLAogICAgICAgICAgICAgICAgeyJzdGlja3kiOiB0cnVlfQogICAgICAgICAgICApOwogICAgICAgIAogICAgCiAgICAgICAgICAgIHZhciBtYXJrZXJfMjhhNGQzMzllZDcwNDdjNDgxYmFkN2EzOTNjZmFmOGYgPSBMLm1hcmtlcigKICAgICAgICAgICAgICAgIFstMTAuMTg0NTEsIC00OC4zMzQ2Nl0sCiAgICAgICAgICAgICAgICB7fQogICAgICAgICAgICApLmFkZFRvKG1hcF8yMGNkM2M1ZmM1NjM0ZDlkYTA0ZDY2ZDE5MDRjYjNlYyk7CiAgICAgICAgCiAgICAKICAgICAgICB2YXIgcG9wdXBfZDRhYzI1MmYxYmQ4NGZhOThiNDlkNTZlOTFmODQ0MjAgPSBMLnBvcHVwKHsibWF4V2lkdGgiOiAiMTAwJSJ9KTsKCiAgICAgICAgCiAgICAgICAgICAgIHZhciBodG1sX2VlMmY1ZjBlNzJlNjQ0MjQ4NzRkMzNhZmI0OTlmZGM2ID0gJChgPGRpdiBpZD0iaHRtbF9lZTJmNWYwZTcyZTY0NDI0ODc0ZDMzYWZiNDk5ZmRjNiIgc3R5bGU9IndpZHRoOiAxMDAuMCU7IGhlaWdodDogMTAwLjAlOyI+VG9jYW50aW5zPC9kaXY+YClbMF07CiAgICAgICAgICAgIHBvcHVwX2Q0YWMyNTJmMWJkODRmYTk4YjQ5ZDU2ZTkxZjg0NDIwLnNldENvbnRlbnQoaHRtbF9lZTJmNWYwZTcyZTY0NDI0ODc0ZDMzYWZiNDk5ZmRjNik7CiAgICAgICAgCgogICAgICAgIG1hcmtlcl8yOGE0ZDMzOWVkNzA0N2M0ODFiYWQ3YTM5M2NmYWY4Zi5iaW5kUG9wdXAocG9wdXBfZDRhYzI1MmYxYmQ4NGZhOThiNDlkNTZlOTFmODQ0MjApCiAgICAgICAgOwoKICAgICAgICAKICAgIAogICAgCiAgICAgICAgICAgIG1hcmtlcl8yOGE0ZDMzOWVkNzA0N2M0ODFiYWQ3YTM5M2NmYWY4Zi5iaW5kVG9vbHRpcCgKICAgICAgICAgICAgICAgIGA8ZGl2PgogICAgICAgICAgICAgICAgICAgICAzNzggS00yIERlc21hdGFkb3MgZW50cmUgMjAwOCBlIDIwMTgKICAgICAgICAgICAgICAgICA8L2Rpdj5gLAogICAgICAgICAgICAgICAgeyJzdGlja3kiOiB0cnVlfQogICAgICAgICAgICApOwogICAgICAgIAogICAgCiAgICAgICAgICAgIHZhciBtYXJrZXJfODM3ODU3MzI1NTU3NDg2ZmIzMTE0OTQ5ZTQ4NmVlYWUgPSBMLm1hcmtlcigKICAgICAgICAgICAgICAgIFswLjAzNTg1LCAtNTEuMDYyMjFdLAogICAgICAgICAgICAgICAge30KICAgICAgICAgICAgKS5hZGRUbyhtYXBfMjBjZDNjNWZjNTYzNGQ5ZGEwNGQ2NmQxOTA0Y2IzZWMpOwogICAgICAgIAogICAgCiAgICAgICAgdmFyIHBvcHVwXzAyOWM0MTM4YzcwZDRiYmVhNjkwMjBmYTE2NWE2MDBkID0gTC5wb3B1cCh7Im1heFdpZHRoIjogIjEwMCUifSk7CgogICAgICAgIAogICAgICAgICAgICB2YXIgaHRtbF9kOWRlYmJlY2E2ZTk0YWQyYTAzN2Q4MWNiYzNhMGZmMyA9ICQoYDxkaXYgaWQ9Imh0bWxfZDlkZWJiZWNhNmU5NGFkMmEwMzdkODFjYmMzYTBmZjMiIHN0eWxlPSJ3aWR0aDogMTAwLjAlOyBoZWlnaHQ6IDEwMC4wJTsiPkFtYXDDoTwvZGl2PmApWzBdOwogICAgICAgICAgICBwb3B1cF8wMjljNDEzOGM3MGQ0YmJlYTY5MDIwZmExNjVhNjAwZC5zZXRDb250ZW50KGh0bWxfZDlkZWJiZWNhNmU5NGFkMmEwMzdkODFjYmMzYTBmZjMpOwogICAgICAgIAoKICAgICAgICBtYXJrZXJfODM3ODU3MzI1NTU3NDg2ZmIzMTE0OTQ5ZTQ4NmVlYWUuYmluZFBvcHVwKHBvcHVwXzAyOWM0MTM4YzcwZDRiYmVhNjkwMjBmYTE2NWE2MDBkKQogICAgICAgIDsKCiAgICAgICAgCiAgICAKICAgIAogICAgICAgICAgICBtYXJrZXJfODM3ODU3MzI1NTU3NDg2ZmIzMTE0OTQ5ZTQ4NmVlYWUuYmluZFRvb2x0aXAoCiAgICAgICAgICAgICAgICBgPGRpdj4KICAgICAgICAgICAgICAgICAgICAgMjE0IEtNMiBEZXNtYXRhZG9zIGVudHJlIDIwMDggZSAyMDE4CiAgICAgICAgICAgICAgICAgPC9kaXY+YCwKICAgICAgICAgICAgICAgIHsic3RpY2t5IjogdHJ1ZX0KICAgICAgICAgICAgKTsKICAgICAgICAKPC9zY3JpcHQ+\" style=\"position:absolute;width:100%;height:100%;left:0;top:0;border:none !important;\" allowfullscreen webkitallowfullscreen mozallowfullscreen></iframe></div></div>"
      ],
      "text/plain": [
       "<folium.folium.Map at 0x1b67b739668>"
      ]
     },
     "execution_count": 31,
     "metadata": {},
     "output_type": "execute_result"
    }
   ],
   "source": [
    "import folium\n",
    "\n",
    "m = folium.Map(location=[-9.313569,-45.205370], titles=\"Mapbox Bright\", zoom_start=2)\n",
    "folium.Marker(location=[-1.454980,-48.502270], popup=\"Pará\", tooltip=\"30871 KM2 Desmatados entre 2008 e 2018\").add_to(m)\n",
    "folium.Marker(location=[-1.5595100,-56.092260], popup=\"Mato Grosso\", tooltip=\"13463 KM2Desmatados entre 2008 e 2018\").add_to(m)\n",
    "folium.Marker(location=[-11.831310,-61.319700], popup=\"Rondônia\", tooltip=\"9776 KM2 Desmatados entre 2008 e 2018\").add_to(m)\n",
    "folium.Marker(location=[-3.062771,-60.225344], popup=\"Amazonas\", tooltip=\"7269 KM2 Desmatados entre 2008 e 2018\").add_to(m)\n",
    "folium.Marker(location=[-9.973870,-67.807540], popup=\"Acre\", tooltip=\"3122 KM2 Desmatados entre 2008 e 2018\").add_to(m)\n",
    "folium.Marker(location=[-2.486115,-44.396958], popup=\"Maranhão\", tooltip=\"2503 KM2 Desmatados entre 2008 e 2018\").add_to(m)\n",
    "folium.Marker(location=[1.925946,-62.055254], popup=\"Roraima\", tooltip=\"2215 KM2 Desmatados entre 2008 e 2018\").add_to(m)\n",
    "folium.Marker(location=[-10.184510,-48.334660], popup=\"Tocantins\", tooltip=\"378 KM2 Desmatados entre 2008 e 2018\").add_to(m)\n",
    "folium.Marker(location=[0.035850,-51.062210], popup=\"Amapá\", tooltip=\"214 KM2 Desmatados entre 2008 e 2018\").add_to(m)\n",
    "m"
   ]
  }
 ],
 "metadata": {
  "kernelspec": {
   "display_name": "Python 3",
   "language": "python",
   "name": "python3"
  },
  "language_info": {
   "codemirror_mode": {
    "name": "ipython",
    "version": 3
   },
   "file_extension": ".py",
   "mimetype": "text/x-python",
   "name": "python",
   "nbconvert_exporter": "python",
   "pygments_lexer": "ipython3",
   "version": "3.7.1"
  }
 },
 "nbformat": 4,
 "nbformat_minor": 2
}
