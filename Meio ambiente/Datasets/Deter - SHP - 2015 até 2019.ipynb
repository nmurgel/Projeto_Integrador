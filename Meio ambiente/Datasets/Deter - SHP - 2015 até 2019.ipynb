{
 "cells": [
  {
   "cell_type": "markdown",
   "metadata": {},
   "source": [
    "## Projeto Integrador - Desmatamento Amazonia Legal - Deter - 2015 até 2019"
   ]
  },
  {
   "cell_type": "code",
   "execution_count": 1,
   "metadata": {},
   "outputs": [
    {
     "name": "stderr",
     "output_type": "stream",
     "text": [
      "C:\\Anaconda\\lib\\site-packages\\statsmodels\\compat\\pandas.py:49: FutureWarning: The Panel class is removed from pandas. Accessing it from the top-level namespace will also be removed in the next version\n",
      "  data_klasses = (pandas.Series, pandas.DataFrame, pandas.Panel)\n"
     ]
    }
   ],
   "source": [
    "# import biblioteca\n",
    "\n",
    "import geopandas as gpd\n",
    "import matplotlib.pyplot as plt\n",
    "import numpy as np                               # vectors and matrices\n",
    "import pandas as pd                              # tables and data manipulations\n",
    "import matplotlib.pyplot as plt                  # plots\n",
    "import seaborn as sns                            # more plots\n",
    "sns.set()\n",
    "\n",
    "from datetime import datetime\n",
    "\n",
    "from dateutil.relativedelta import relativedelta # working with dates with style\n",
    "from scipy.optimize import minimize              # for function minimization\n",
    "\n",
    "import statsmodels.formula.api as smf            # statistics and econometrics\n",
    "import statsmodels.tsa.api as smt\n",
    "import statsmodels.api as sm\n",
    "import scipy.stats as scs\n",
    "\n",
    "from itertools import product                    # some useful functions\n",
    "from tqdm import tqdm_notebook\n",
    "\n",
    "import warnings                                  # `do not disturbe` mode\n",
    "warnings.filterwarnings('ignore')\n",
    "\n",
    "%matplotlib inline"
   ]
  },
  {
   "cell_type": "code",
   "execution_count": 7,
   "metadata": {},
   "outputs": [],
   "source": [
    "# Alertas Deter 2015 até 2019 -  da Amazônia Legal\n",
    "\n",
    "Deter = gpd.read_file('deter_public.shp', index_col=['VIEW_DATE'], parse_dates=['VIEW_DATE'])"
   ]
  },
  {
   "cell_type": "code",
   "execution_count": 8,
   "metadata": {},
   "outputs": [
    {
     "data": {
      "text/html": [
       "<div>\n",
       "<style scoped>\n",
       "    .dataframe tbody tr th:only-of-type {\n",
       "        vertical-align: middle;\n",
       "    }\n",
       "\n",
       "    .dataframe tbody tr th {\n",
       "        vertical-align: top;\n",
       "    }\n",
       "\n",
       "    .dataframe thead th {\n",
       "        text-align: right;\n",
       "    }\n",
       "</style>\n",
       "<table border=\"1\" class=\"dataframe\">\n",
       "  <thead>\n",
       "    <tr style=\"text-align: right;\">\n",
       "      <th></th>\n",
       "      <th>CLASSNAME</th>\n",
       "      <th>QUADRANT</th>\n",
       "      <th>PATH_ROW</th>\n",
       "      <th>VIEW_DATE</th>\n",
       "      <th>SENSOR</th>\n",
       "      <th>SATELLITE</th>\n",
       "      <th>AREAUCKM</th>\n",
       "      <th>UC</th>\n",
       "      <th>AREAMUNKM</th>\n",
       "      <th>MUNICIPALI</th>\n",
       "      <th>UF</th>\n",
       "      <th>geometry</th>\n",
       "    </tr>\n",
       "  </thead>\n",
       "  <tbody>\n",
       "    <tr>\n",
       "      <td>0</td>\n",
       "      <td>DESMATAMENTO_CR</td>\n",
       "      <td>None</td>\n",
       "      <td>172117</td>\n",
       "      <td>2019-05-17</td>\n",
       "      <td>WFI</td>\n",
       "      <td>CBERS-4</td>\n",
       "      <td>0.0</td>\n",
       "      <td>None</td>\n",
       "      <td>0.228726</td>\n",
       "      <td>Brasnorte</td>\n",
       "      <td>MT</td>\n",
       "      <td>POLYGON ((-57.59144596156182 -12.4739255378332...</td>\n",
       "    </tr>\n",
       "    <tr>\n",
       "      <td>1</td>\n",
       "      <td>DESMATAMENTO_CR</td>\n",
       "      <td>None</td>\n",
       "      <td>172111</td>\n",
       "      <td>2019-05-17</td>\n",
       "      <td>WFI</td>\n",
       "      <td>CBERS-4</td>\n",
       "      <td>0.0</td>\n",
       "      <td>None</td>\n",
       "      <td>0.306387</td>\n",
       "      <td>Porto Velho</td>\n",
       "      <td>RO</td>\n",
       "      <td>POLYGON ((-62.57766439519565 -8.62607790826882...</td>\n",
       "    </tr>\n",
       "    <tr>\n",
       "      <td>2</td>\n",
       "      <td>DEGRADACAO</td>\n",
       "      <td>None</td>\n",
       "      <td>170117</td>\n",
       "      <td>2019-01-10</td>\n",
       "      <td>WFI</td>\n",
       "      <td>CBERS-4</td>\n",
       "      <td>0.0</td>\n",
       "      <td>None</td>\n",
       "      <td>0.490981</td>\n",
       "      <td>Comodoro</td>\n",
       "      <td>MT</td>\n",
       "      <td>POLYGON ((-60.26175750440524 -13.9883906802856...</td>\n",
       "    </tr>\n",
       "    <tr>\n",
       "      <td>3</td>\n",
       "      <td>DESMATAMENTO_CR</td>\n",
       "      <td>None</td>\n",
       "      <td>165105</td>\n",
       "      <td>2019-09-19</td>\n",
       "      <td>WFI</td>\n",
       "      <td>CBERS-4</td>\n",
       "      <td>0.0</td>\n",
       "      <td>None</td>\n",
       "      <td>0.125955</td>\n",
       "      <td>Pacaja</td>\n",
       "      <td>PA</td>\n",
       "      <td>POLYGON ((-51.16452764106212 -3.70441319771929...</td>\n",
       "    </tr>\n",
       "    <tr>\n",
       "      <td>4</td>\n",
       "      <td>DESMATAMENTO_CR</td>\n",
       "      <td>D</td>\n",
       "      <td>312080</td>\n",
       "      <td>2016-08-29</td>\n",
       "      <td>AWiFS</td>\n",
       "      <td>ResourceSat-2</td>\n",
       "      <td>0.0</td>\n",
       "      <td>None</td>\n",
       "      <td>0.441924</td>\n",
       "      <td>Novo Aripuana</td>\n",
       "      <td>AM</td>\n",
       "      <td>POLYGON ((-60.13446049798053 -6.72362630702520...</td>\n",
       "    </tr>\n",
       "  </tbody>\n",
       "</table>\n",
       "</div>"
      ],
      "text/plain": [
       "         CLASSNAME QUADRANT PATH_ROW   VIEW_DATE SENSOR      SATELLITE  \\\n",
       "0  DESMATAMENTO_CR     None   172117  2019-05-17    WFI        CBERS-4   \n",
       "1  DESMATAMENTO_CR     None   172111  2019-05-17    WFI        CBERS-4   \n",
       "2       DEGRADACAO     None   170117  2019-01-10    WFI        CBERS-4   \n",
       "3  DESMATAMENTO_CR     None   165105  2019-09-19    WFI        CBERS-4   \n",
       "4  DESMATAMENTO_CR        D   312080  2016-08-29  AWiFS  ResourceSat-2   \n",
       "\n",
       "   AREAUCKM    UC  AREAMUNKM     MUNICIPALI  UF  \\\n",
       "0       0.0  None   0.228726      Brasnorte  MT   \n",
       "1       0.0  None   0.306387    Porto Velho  RO   \n",
       "2       0.0  None   0.490981       Comodoro  MT   \n",
       "3       0.0  None   0.125955         Pacaja  PA   \n",
       "4       0.0  None   0.441924  Novo Aripuana  AM   \n",
       "\n",
       "                                            geometry  \n",
       "0  POLYGON ((-57.59144596156182 -12.4739255378332...  \n",
       "1  POLYGON ((-62.57766439519565 -8.62607790826882...  \n",
       "2  POLYGON ((-60.26175750440524 -13.9883906802856...  \n",
       "3  POLYGON ((-51.16452764106212 -3.70441319771929...  \n",
       "4  POLYGON ((-60.13446049798053 -6.72362630702520...  "
      ]
     },
     "execution_count": 8,
     "metadata": {},
     "output_type": "execute_result"
    }
   ],
   "source": [
    "Deter.head()"
   ]
  },
  {
   "cell_type": "code",
   "execution_count": 9,
   "metadata": {},
   "outputs": [
    {
     "data": {
      "text/plain": [
       "str"
      ]
     },
     "execution_count": 9,
     "metadata": {},
     "output_type": "execute_result"
    }
   ],
   "source": [
    "type(Deter.VIEW_DATE[0])"
   ]
  },
  {
   "cell_type": "code",
   "execution_count": null,
   "metadata": {},
   "outputs": [],
   "source": [
    "plt.figure(figsize=(12, 6))\n",
    "plt.plot(Deter.AREAMUNKM)\n",
    "plt.title('Ads watched (hourly data)')\n",
    "plt.grid(True)\n",
    "plt.show()"
   ]
  },
  {
   "cell_type": "code",
   "execution_count": 29,
   "metadata": {},
   "outputs": [
    {
     "name": "stdout",
     "output_type": "stream",
     "text": [
      "<class 'geopandas.geodataframe.GeoDataFrame'>\n",
      "RangeIndex: 133619 entries, 0 to 133618\n",
      "Data columns (total 12 columns):\n",
      "CLASSNAME     133619 non-null object\n",
      "QUADRANT      49523 non-null object\n",
      "PATH_ROW      133619 non-null object\n",
      "VIEW_DATE     133619 non-null object\n",
      "SENSOR        133619 non-null object\n",
      "SATELLITE     133619 non-null object\n",
      "AREAUCKM      133619 non-null float64\n",
      "UC            5845 non-null object\n",
      "AREAMUNKM     133619 non-null float64\n",
      "MUNICIPALI    133617 non-null object\n",
      "UF            133617 non-null object\n",
      "geometry      133619 non-null object\n",
      "dtypes: float64(2), object(10)\n",
      "memory usage: 12.2+ MB\n"
     ]
    }
   ],
   "source": [
    "Deter.info()"
   ]
  },
  {
   "cell_type": "code",
   "execution_count": null,
   "metadata": {},
   "outputs": [],
   "source": []
  },
  {
   "cell_type": "code",
   "execution_count": 30,
   "metadata": {},
   "outputs": [],
   "source": [
    "Deter_1 = Deter.groupby(\"CLASSNAME\")[\"AREAMUNKM\"].sum().reset_index()"
   ]
  },
  {
   "cell_type": "code",
   "execution_count": 31,
   "metadata": {},
   "outputs": [
    {
     "data": {
      "text/html": [
       "<div>\n",
       "<style scoped>\n",
       "    .dataframe tbody tr th:only-of-type {\n",
       "        vertical-align: middle;\n",
       "    }\n",
       "\n",
       "    .dataframe tbody tr th {\n",
       "        vertical-align: top;\n",
       "    }\n",
       "\n",
       "    .dataframe thead th {\n",
       "        text-align: right;\n",
       "    }\n",
       "</style>\n",
       "<table border=\"1\" class=\"dataframe\">\n",
       "  <thead>\n",
       "    <tr style=\"text-align: right;\">\n",
       "      <th></th>\n",
       "      <th>CLASSNAME</th>\n",
       "      <th>AREAMUNKM</th>\n",
       "    </tr>\n",
       "  </thead>\n",
       "  <tbody>\n",
       "    <tr>\n",
       "      <td>7</td>\n",
       "      <td>MINERACAO</td>\n",
       "      <td>248.787584</td>\n",
       "    </tr>\n",
       "    <tr>\n",
       "      <td>6</td>\n",
       "      <td>DESMATAMENTO_VEG</td>\n",
       "      <td>990.206897</td>\n",
       "    </tr>\n",
       "    <tr>\n",
       "      <td>5</td>\n",
       "      <td>DESMATAMENTO_CR</td>\n",
       "      <td>18245.638130</td>\n",
       "    </tr>\n",
       "    <tr>\n",
       "      <td>4</td>\n",
       "      <td>DEGRADACAO</td>\n",
       "      <td>10665.594676</td>\n",
       "    </tr>\n",
       "    <tr>\n",
       "      <td>3</td>\n",
       "      <td>CS_GEOMETRICO</td>\n",
       "      <td>3363.530926</td>\n",
       "    </tr>\n",
       "    <tr>\n",
       "      <td>2</td>\n",
       "      <td>CS_DESORDENADO</td>\n",
       "      <td>3126.491379</td>\n",
       "    </tr>\n",
       "    <tr>\n",
       "      <td>1</td>\n",
       "      <td>CORTE_SELETIVO</td>\n",
       "      <td>2.307220</td>\n",
       "    </tr>\n",
       "    <tr>\n",
       "      <td>0</td>\n",
       "      <td>CICATRIZ_DE_QUEIMADA</td>\n",
       "      <td>48545.830474</td>\n",
       "    </tr>\n",
       "  </tbody>\n",
       "</table>\n",
       "</div>"
      ],
      "text/plain": [
       "              CLASSNAME     AREAMUNKM\n",
       "7             MINERACAO    248.787584\n",
       "6      DESMATAMENTO_VEG    990.206897\n",
       "5       DESMATAMENTO_CR  18245.638130\n",
       "4            DEGRADACAO  10665.594676\n",
       "3         CS_GEOMETRICO   3363.530926\n",
       "2        CS_DESORDENADO   3126.491379\n",
       "1        CORTE_SELETIVO      2.307220\n",
       "0  CICATRIZ_DE_QUEIMADA  48545.830474"
      ]
     },
     "execution_count": 31,
     "metadata": {},
     "output_type": "execute_result"
    }
   ],
   "source": [
    "Deter_1.sort_values(by= \"CLASSNAME\", ascending=False)"
   ]
  },
  {
   "cell_type": "code",
   "execution_count": 32,
   "metadata": {},
   "outputs": [
    {
     "data": {
      "image/png": "[encoded data removed]",
      "text/plain": [
       "<Figure size 1800x720 with 1 Axes>"
      ]
     },
     "metadata": {
      "needs_background": "light"
     },
     "output_type": "display_data"
    }
   ],
   "source": [
    "plt.figure(figsize=(25,10))\n",
    "plt.title(\"Total de KM2 Desmatamento por Classe\")\n",
    "sns.barplot(x=\"CLASSNAME\", y=\"AREAMUNKM\", data=Deter_1); "
   ]
  },
  {
   "cell_type": "code",
   "execution_count": 46,
   "metadata": {},
   "outputs": [],
   "source": [
    "Deter_2 = Deter.groupby(\"UF\")[\"AREAMUNKM\"].sum().reset_index()"
   ]
  },
  {
   "cell_type": "code",
   "execution_count": 47,
   "metadata": {},
   "outputs": [
    {
     "data": {
      "text/html": [
       "<div>\n",
       "<style scoped>\n",
       "    .dataframe tbody tr th:only-of-type {\n",
       "        vertical-align: middle;\n",
       "    }\n",
       "\n",
       "    .dataframe tbody tr th {\n",
       "        vertical-align: top;\n",
       "    }\n",
       "\n",
       "    .dataframe thead th {\n",
       "        text-align: right;\n",
       "    }\n",
       "</style>\n",
       "<table border=\"1\" class=\"dataframe\">\n",
       "  <thead>\n",
       "    <tr style=\"text-align: right;\">\n",
       "      <th></th>\n",
       "      <th>UF</th>\n",
       "      <th>AREAMUNKM</th>\n",
       "    </tr>\n",
       "  </thead>\n",
       "  <tbody>\n",
       "    <tr>\n",
       "      <td>8</td>\n",
       "      <td>TO</td>\n",
       "      <td>2167.310030</td>\n",
       "    </tr>\n",
       "    <tr>\n",
       "      <td>7</td>\n",
       "      <td>RR</td>\n",
       "      <td>5783.096902</td>\n",
       "    </tr>\n",
       "    <tr>\n",
       "      <td>6</td>\n",
       "      <td>RO</td>\n",
       "      <td>5037.751596</td>\n",
       "    </tr>\n",
       "    <tr>\n",
       "      <td>5</td>\n",
       "      <td>PA</td>\n",
       "      <td>28493.752521</td>\n",
       "    </tr>\n",
       "    <tr>\n",
       "      <td>4</td>\n",
       "      <td>MT</td>\n",
       "      <td>30996.382369</td>\n",
       "    </tr>\n",
       "    <tr>\n",
       "      <td>3</td>\n",
       "      <td>MA</td>\n",
       "      <td>5792.362020</td>\n",
       "    </tr>\n",
       "    <tr>\n",
       "      <td>2</td>\n",
       "      <td>AP</td>\n",
       "      <td>147.631326</td>\n",
       "    </tr>\n",
       "    <tr>\n",
       "      <td>1</td>\n",
       "      <td>AM</td>\n",
       "      <td>5365.431806</td>\n",
       "    </tr>\n",
       "    <tr>\n",
       "      <td>0</td>\n",
       "      <td>AC</td>\n",
       "      <td>1404.668716</td>\n",
       "    </tr>\n",
       "  </tbody>\n",
       "</table>\n",
       "</div>"
      ],
      "text/plain": [
       "   UF     AREAMUNKM\n",
       "8  TO   2167.310030\n",
       "7  RR   5783.096902\n",
       "6  RO   5037.751596\n",
       "5  PA  28493.752521\n",
       "4  MT  30996.382369\n",
       "3  MA   5792.362020\n",
       "2  AP    147.631326\n",
       "1  AM   5365.431806\n",
       "0  AC   1404.668716"
      ]
     },
     "execution_count": 47,
     "metadata": {},
     "output_type": "execute_result"
    }
   ],
   "source": [
    "Deter_2.sort_values(by= \"UF\", ascending=False)"
   ]
  },
  {
   "cell_type": "code",
   "execution_count": 50,
   "metadata": {},
   "outputs": [
    {
     "data": {
      "image/png": "[encoded data removed]",
      "text/plain": [
       "<Figure size 1800x720 with 1 Axes>"
      ]
     },
     "metadata": {
      "needs_background": "light"
     },
     "output_type": "display_data"
    }
   ],
   "source": [
    "plt.figure(figsize=(25,10))\n",
    "plt.title(\"Total de KM2 Desmatamento por UF\")\n",
    "sns.barplot(x=\"UF\", y=\"AREAMUNKM\", data=Deter_2); "
   ]
  },
  {
   "cell_type": "code",
   "execution_count": 36,
   "metadata": {},
   "outputs": [
    {
     "data": {
      "text/plain": [
       "2019-07-20    1385\n",
       "2016-08-17    1362\n",
       "2019-09-16    1328\n",
       "2016-09-29    1309\n",
       "2018-11-17    1170\n",
       "              ... \n",
       "2018-08-20       1\n",
       "2019-05-11       1\n",
       "2017-07-23       1\n",
       "2019-02-26       1\n",
       "2017-01-24       1\n",
       "Name: VIEW_DATE, Length: 815, dtype: int64"
      ]
     },
     "execution_count": 36,
     "metadata": {},
     "output_type": "execute_result"
    }
   ],
   "source": [
    "Deter['VIEW_DATE'].value_counts(dropna=False)"
   ]
  },
  {
   "cell_type": "code",
   "execution_count": 37,
   "metadata": {},
   "outputs": [],
   "source": [
    "Deter_1 = Deter['VIEW_DATE'].value_counts(dropna=False)"
   ]
  },
  {
   "cell_type": "code",
   "execution_count": 42,
   "metadata": {},
   "outputs": [
    {
     "data": {
      "text/plain": [
       "2019-07-20    1385\n",
       "2016-08-17    1362\n",
       "2019-09-16    1328\n",
       "2016-09-29    1309\n",
       "2018-11-17    1170\n",
       "2017-10-04    1144\n",
       "2018-07-23    1133\n",
       "2019-08-29    1123\n",
       "2019-09-19    1123\n",
       "2017-09-19    1120\n",
       "Name: VIEW_DATE, dtype: int64"
      ]
     },
     "execution_count": 42,
     "metadata": {},
     "output_type": "execute_result"
    }
   ],
   "source": [
    "Deter_1.head(10)"
   ]
  }
 ],
 "metadata": {
  "kernelspec": {
   "display_name": "Python 3",
   "language": "python",
   "name": "python3"
  },
  "language_info": {
   "codemirror_mode": {
    "name": "ipython",
    "version": 3
   },
   "file_extension": ".py",
   "mimetype": "text/x-python",
   "name": "python",
   "nbconvert_exporter": "python",
   "pygments_lexer": "ipython3",
   "version": "3.7.1"
  }
 },
 "nbformat": 4,
 "nbformat_minor": 2
}
