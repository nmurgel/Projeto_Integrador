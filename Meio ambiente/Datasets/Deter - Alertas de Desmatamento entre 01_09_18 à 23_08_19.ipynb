{
 "cells": [
  {
   "cell_type": "markdown",
   "metadata": {},
   "source": [
    "## Deter (Sistema de Detecção de Desmatamento em Tempo Real da Amazônia Legal) -    01/09/18 à 23/08/19"
   ]
  },
  {
   "cell_type": "code",
   "execution_count": 81,
   "metadata": {},
   "outputs": [],
   "source": [
    "import pandas as pd "
   ]
  },
  {
   "cell_type": "code",
   "execution_count": 63,
   "metadata": {},
   "outputs": [],
   "source": [
    "df = pd.read_csv('deterb_23_7_2019 (1).csv', encoding='latin', delimiter=',')"
   ]
  },
  {
   "cell_type": "code",
   "execution_count": 64,
   "metadata": {},
   "outputs": [
    {
     "data": {
      "text/html": [
       "<div>\n",
       "<style scoped>\n",
       "    .dataframe tbody tr th:only-of-type {\n",
       "        vertical-align: middle;\n",
       "    }\n",
       "\n",
       "    .dataframe tbody tr th {\n",
       "        vertical-align: top;\n",
       "    }\n",
       "\n",
       "    .dataframe thead th {\n",
       "        text-align: right;\n",
       "    }\n",
       "</style>\n",
       "<table border=\"1\" class=\"dataframe\">\n",
       "  <thead>\n",
       "    <tr style=\"text-align: right;\">\n",
       "      <th></th>\n",
       "      <th>date</th>\n",
       "      <th>areaMunKm</th>\n",
       "      <th>areaUcKm</th>\n",
       "      <th>uc</th>\n",
       "      <th>uf</th>\n",
       "      <th>municipio</th>\n",
       "    </tr>\n",
       "  </thead>\n",
       "  <tbody>\n",
       "    <tr>\n",
       "      <th>0</th>\n",
       "      <td>16/09/2018</td>\n",
       "      <td>0.0682</td>\n",
       "      <td>0.0</td>\n",
       "      <td>NaN</td>\n",
       "      <td>PA</td>\n",
       "      <td>Jacareacanga</td>\n",
       "    </tr>\n",
       "    <tr>\n",
       "      <th>1</th>\n",
       "      <td>17/09/2018</td>\n",
       "      <td>0.0654</td>\n",
       "      <td>0.0</td>\n",
       "      <td>NaN</td>\n",
       "      <td>MT</td>\n",
       "      <td>Matupa</td>\n",
       "    </tr>\n",
       "    <tr>\n",
       "      <th>2</th>\n",
       "      <td>02/09/2018</td>\n",
       "      <td>0.0034</td>\n",
       "      <td>0.0</td>\n",
       "      <td>NaN</td>\n",
       "      <td>PA</td>\n",
       "      <td>Jacareacanga</td>\n",
       "    </tr>\n",
       "    <tr>\n",
       "      <th>3</th>\n",
       "      <td>02/09/2018</td>\n",
       "      <td>0.0010</td>\n",
       "      <td>0.0</td>\n",
       "      <td>NaN</td>\n",
       "      <td>PA</td>\n",
       "      <td>Jacareacanga</td>\n",
       "    </tr>\n",
       "    <tr>\n",
       "      <th>4</th>\n",
       "      <td>02/09/2018</td>\n",
       "      <td>0.0144</td>\n",
       "      <td>0.0</td>\n",
       "      <td>NaN</td>\n",
       "      <td>PA</td>\n",
       "      <td>Jacareacanga</td>\n",
       "    </tr>\n",
       "  </tbody>\n",
       "</table>\n",
       "</div>"
      ],
      "text/plain": [
       "         date  areaMunKm  areaUcKm   uc  uf     municipio\n",
       "0  16/09/2018     0.0682       0.0  NaN  PA  Jacareacanga\n",
       "1  17/09/2018     0.0654       0.0  NaN  MT        Matupa\n",
       "2  02/09/2018     0.0034       0.0  NaN  PA  Jacareacanga\n",
       "3  02/09/2018     0.0010       0.0  NaN  PA  Jacareacanga\n",
       "4  02/09/2018     0.0144       0.0  NaN  PA  Jacareacanga"
      ]
     },
     "execution_count": 64,
     "metadata": {},
     "output_type": "execute_result"
    }
   ],
   "source": [
    "df.head()"
   ]
  },
  {
   "cell_type": "code",
   "execution_count": 65,
   "metadata": {},
   "outputs": [
    {
     "data": {
      "text/html": [
       "<div>\n",
       "<style scoped>\n",
       "    .dataframe tbody tr th:only-of-type {\n",
       "        vertical-align: middle;\n",
       "    }\n",
       "\n",
       "    .dataframe tbody tr th {\n",
       "        vertical-align: top;\n",
       "    }\n",
       "\n",
       "    .dataframe thead th {\n",
       "        text-align: right;\n",
       "    }\n",
       "</style>\n",
       "<table border=\"1\" class=\"dataframe\">\n",
       "  <thead>\n",
       "    <tr style=\"text-align: right;\">\n",
       "      <th></th>\n",
       "      <th>date</th>\n",
       "      <th>areaMunKm</th>\n",
       "      <th>areaUcKm</th>\n",
       "      <th>uc</th>\n",
       "      <th>uf</th>\n",
       "      <th>municipio</th>\n",
       "    </tr>\n",
       "  </thead>\n",
       "  <tbody>\n",
       "    <tr>\n",
       "      <th>42425</th>\n",
       "      <td>04/09/2018</td>\n",
       "      <td>0.0676</td>\n",
       "      <td>0.0676</td>\n",
       "      <td>RESERVA EXTRATIVISTA CHICO MENDES</td>\n",
       "      <td>AC</td>\n",
       "      <td>Rio Branco</td>\n",
       "    </tr>\n",
       "    <tr>\n",
       "      <th>42426</th>\n",
       "      <td>19/09/2018</td>\n",
       "      <td>12.0407</td>\n",
       "      <td>0.0000</td>\n",
       "      <td>NaN</td>\n",
       "      <td>RO</td>\n",
       "      <td>Porto Velho</td>\n",
       "    </tr>\n",
       "    <tr>\n",
       "      <th>42427</th>\n",
       "      <td>10/09/2018</td>\n",
       "      <td>0.5417</td>\n",
       "      <td>0.0000</td>\n",
       "      <td>NaN</td>\n",
       "      <td>RO</td>\n",
       "      <td>Porto Velho</td>\n",
       "    </tr>\n",
       "    <tr>\n",
       "      <th>42428</th>\n",
       "      <td>20/09/2018</td>\n",
       "      <td>0.3426</td>\n",
       "      <td>0.0000</td>\n",
       "      <td>NaN</td>\n",
       "      <td>PA</td>\n",
       "      <td>Novo Progresso</td>\n",
       "    </tr>\n",
       "    <tr>\n",
       "      <th>42429</th>\n",
       "      <td>21/10/2018</td>\n",
       "      <td>0.1375</td>\n",
       "      <td>0.0000</td>\n",
       "      <td>NaN</td>\n",
       "      <td>PA</td>\n",
       "      <td>Trairao</td>\n",
       "    </tr>\n",
       "  </tbody>\n",
       "</table>\n",
       "</div>"
      ],
      "text/plain": [
       "             date  areaMunKm  areaUcKm                                 uc  uf  \\\n",
       "42425  04/09/2018     0.0676    0.0676  RESERVA EXTRATIVISTA CHICO MENDES  AC   \n",
       "42426  19/09/2018    12.0407    0.0000                                NaN  RO   \n",
       "42427  10/09/2018     0.5417    0.0000                                NaN  RO   \n",
       "42428  20/09/2018     0.3426    0.0000                                NaN  PA   \n",
       "42429  21/10/2018     0.1375    0.0000                                NaN  PA   \n",
       "\n",
       "            municipio  \n",
       "42425      Rio Branco  \n",
       "42426     Porto Velho  \n",
       "42427     Porto Velho  \n",
       "42428  Novo Progresso  \n",
       "42429         Trairao  "
      ]
     },
     "execution_count": 65,
     "metadata": {},
     "output_type": "execute_result"
    }
   ],
   "source": [
    "df.tail()"
   ]
  },
  {
   "cell_type": "code",
   "execution_count": 66,
   "metadata": {},
   "outputs": [
    {
     "data": {
      "text/plain": [
       "['date', 'areaMunKm', 'areaUcKm', 'uc', 'uf', 'municipio']"
      ]
     },
     "execution_count": 66,
     "metadata": {},
     "output_type": "execute_result"
    }
   ],
   "source": [
    "list(df.columns)"
   ]
  },
  {
   "cell_type": "code",
   "execution_count": 67,
   "metadata": {},
   "outputs": [],
   "source": [
    "df.rename(columns={'date': 'Data','areaMunKm':'Area_Municipal_KM','areaUcKm': 'Area_UC_KM','uc': 'Unid_de_Conserv','uf':'UF','municipio':'Municipio'}, inplace=True)"
   ]
  },
  {
   "cell_type": "code",
   "execution_count": 68,
   "metadata": {},
   "outputs": [
    {
     "name": "stdout",
     "output_type": "stream",
     "text": [
      "<class 'pandas.core.frame.DataFrame'>\n",
      "RangeIndex: 42430 entries, 0 to 42429\n",
      "Data columns (total 6 columns):\n",
      "Data                 42430 non-null object\n",
      "Area_Municipal_KM    42430 non-null float64\n",
      "Area_UC_KM           42430 non-null float64\n",
      "Unid_de_Conserv      2054 non-null object\n",
      "UF                   42430 non-null object\n",
      "Municipio            42430 non-null object\n",
      "dtypes: float64(2), object(4)\n",
      "memory usage: 1.9+ MB\n"
     ]
    }
   ],
   "source": [
    "df.info()"
   ]
  },
  {
   "cell_type": "code",
   "execution_count": 96,
   "metadata": {},
   "outputs": [
    {
     "data": {
      "text/plain": [
       "NaN                                          40376\n",
       "ÃREA DE PROTEÃÃO AMBIENTAL DO TAPAJÃS      484\n",
       "RESERVA EXTRATIVISTA CHICO MENDES              286\n",
       "FLORESTA NACIONAL DO JAMANXIM                  245\n",
       "ESTAÃÃO ECOLÃGICA DA TERRA DO MEIO          112\n",
       "Name: Unid_de_Conserv, dtype: int64"
      ]
     },
     "execution_count": 96,
     "metadata": {},
     "output_type": "execute_result"
    }
   ],
   "source": [
    "# O NAN correspondem a nenhuma Unidade de Conservação\n",
    "df['Unid_de_Conserv'].value_counts(dropna=False).head()"
   ]
  },
  {
   "cell_type": "markdown",
   "metadata": {},
   "source": [
    "# Municipio com maiores áreas de Desmatamento"
   ]
  },
  {
   "cell_type": "code",
   "execution_count": 90,
   "metadata": {},
   "outputs": [],
   "source": [
    "MunicipiosGroups = df.groupby(\"Municipio\")[\"Area_Municipal_KM\"].sum().reset_index()"
   ]
  },
  {
   "cell_type": "code",
   "execution_count": 91,
   "metadata": {},
   "outputs": [
    {
     "data": {
      "text/html": [
       "<div>\n",
       "<style scoped>\n",
       "    .dataframe tbody tr th:only-of-type {\n",
       "        vertical-align: middle;\n",
       "    }\n",
       "\n",
       "    .dataframe tbody tr th {\n",
       "        vertical-align: top;\n",
       "    }\n",
       "\n",
       "    .dataframe thead th {\n",
       "        text-align: right;\n",
       "    }\n",
       "</style>\n",
       "<table border=\"1\" class=\"dataframe\">\n",
       "  <thead>\n",
       "    <tr style=\"text-align: right;\">\n",
       "      <th></th>\n",
       "      <th>Municipio</th>\n",
       "      <th>Area_Municipal_KM</th>\n",
       "    </tr>\n",
       "  </thead>\n",
       "  <tbody>\n",
       "    <tr>\n",
       "      <th>9</th>\n",
       "      <td>Altamira</td>\n",
       "      <td>810.0409</td>\n",
       "    </tr>\n",
       "    <tr>\n",
       "      <th>343</th>\n",
       "      <td>Sao Felix do Xingu</td>\n",
       "      <td>596.7206</td>\n",
       "    </tr>\n",
       "    <tr>\n",
       "      <th>229</th>\n",
       "      <td>Mucajai</td>\n",
       "      <td>541.8910</td>\n",
       "    </tr>\n",
       "    <tr>\n",
       "      <th>215</th>\n",
       "      <td>Marcelandia</td>\n",
       "      <td>507.6160</td>\n",
       "    </tr>\n",
       "    <tr>\n",
       "      <th>294</th>\n",
       "      <td>Porto Velho</td>\n",
       "      <td>492.7932</td>\n",
       "    </tr>\n",
       "    <tr>\n",
       "      <th>196</th>\n",
       "      <td>Labrea</td>\n",
       "      <td>445.3183</td>\n",
       "    </tr>\n",
       "    <tr>\n",
       "      <th>145</th>\n",
       "      <td>Feliz Natal</td>\n",
       "      <td>431.5375</td>\n",
       "    </tr>\n",
       "    <tr>\n",
       "      <th>390</th>\n",
       "      <td>Uniao do Sul</td>\n",
       "      <td>366.5942</td>\n",
       "    </tr>\n",
       "    <tr>\n",
       "      <th>116</th>\n",
       "      <td>Colniza</td>\n",
       "      <td>359.4000</td>\n",
       "    </tr>\n",
       "    <tr>\n",
       "      <th>170</th>\n",
       "      <td>Iracema</td>\n",
       "      <td>351.2734</td>\n",
       "    </tr>\n",
       "  </tbody>\n",
       "</table>\n",
       "</div>"
      ],
      "text/plain": [
       "              Municipio  Area_Municipal_KM\n",
       "9              Altamira           810.0409\n",
       "343  Sao Felix do Xingu           596.7206\n",
       "229             Mucajai           541.8910\n",
       "215         Marcelandia           507.6160\n",
       "294         Porto Velho           492.7932\n",
       "196              Labrea           445.3183\n",
       "145         Feliz Natal           431.5375\n",
       "390        Uniao do Sul           366.5942\n",
       "116             Colniza           359.4000\n",
       "170             Iracema           351.2734"
      ]
     },
     "execution_count": 91,
     "metadata": {},
     "output_type": "execute_result"
    }
   ],
   "source": [
    "MunicipiosGroups.sort_values(by= \"Area_Municipal_KM\", ascending=False).head(10)"
   ]
  },
  {
   "cell_type": "markdown",
   "metadata": {},
   "source": [
    "# UF mais desmatadas por KM"
   ]
  },
  {
   "cell_type": "code",
   "execution_count": 73,
   "metadata": {},
   "outputs": [],
   "source": [
    "UFGroups = df.groupby(\"UF\")[\"Area_Municipal_KM\"].sum().reset_index()"
   ]
  },
  {
   "cell_type": "code",
   "execution_count": 74,
   "metadata": {},
   "outputs": [
    {
     "data": {
      "text/html": [
       "<div>\n",
       "<style scoped>\n",
       "    .dataframe tbody tr th:only-of-type {\n",
       "        vertical-align: middle;\n",
       "    }\n",
       "\n",
       "    .dataframe tbody tr th {\n",
       "        vertical-align: top;\n",
       "    }\n",
       "\n",
       "    .dataframe thead th {\n",
       "        text-align: right;\n",
       "    }\n",
       "</style>\n",
       "<table border=\"1\" class=\"dataframe\">\n",
       "  <thead>\n",
       "    <tr style=\"text-align: right;\">\n",
       "      <th></th>\n",
       "      <th>UF</th>\n",
       "      <th>Area_Municipal_KM</th>\n",
       "    </tr>\n",
       "  </thead>\n",
       "  <tbody>\n",
       "    <tr>\n",
       "      <th>4</th>\n",
       "      <td>MT</td>\n",
       "      <td>6853.4861</td>\n",
       "    </tr>\n",
       "    <tr>\n",
       "      <th>5</th>\n",
       "      <td>PA</td>\n",
       "      <td>4541.5838</td>\n",
       "    </tr>\n",
       "    <tr>\n",
       "      <th>6</th>\n",
       "      <td>RO</td>\n",
       "      <td>1607.4058</td>\n",
       "    </tr>\n",
       "    <tr>\n",
       "      <th>7</th>\n",
       "      <td>RR</td>\n",
       "      <td>1586.2884</td>\n",
       "    </tr>\n",
       "    <tr>\n",
       "      <th>1</th>\n",
       "      <td>AM</td>\n",
       "      <td>1540.9746</td>\n",
       "    </tr>\n",
       "    <tr>\n",
       "      <th>3</th>\n",
       "      <td>MA</td>\n",
       "      <td>589.3938</td>\n",
       "    </tr>\n",
       "    <tr>\n",
       "      <th>0</th>\n",
       "      <td>AC</td>\n",
       "      <td>419.0520</td>\n",
       "    </tr>\n",
       "    <tr>\n",
       "      <th>8</th>\n",
       "      <td>TO</td>\n",
       "      <td>172.5450</td>\n",
       "    </tr>\n",
       "    <tr>\n",
       "      <th>2</th>\n",
       "      <td>AP</td>\n",
       "      <td>12.7261</td>\n",
       "    </tr>\n",
       "  </tbody>\n",
       "</table>\n",
       "</div>"
      ],
      "text/plain": [
       "   UF  Area_Municipal_KM\n",
       "4  MT          6853.4861\n",
       "5  PA          4541.5838\n",
       "6  RO          1607.4058\n",
       "7  RR          1586.2884\n",
       "1  AM          1540.9746\n",
       "3  MA           589.3938\n",
       "0  AC           419.0520\n",
       "8  TO           172.5450\n",
       "2  AP            12.7261"
      ]
     },
     "execution_count": 74,
     "metadata": {},
     "output_type": "execute_result"
    }
   ],
   "source": [
    "UFGroups.sort_values(by= \"Area_Municipal_KM\", ascending=False)"
   ]
  },
  {
   "cell_type": "markdown",
   "metadata": {},
   "source": [
    "# UC mais desmatadas por KM"
   ]
  },
  {
   "cell_type": "code",
   "execution_count": 86,
   "metadata": {},
   "outputs": [],
   "source": [
    "UCGroups = df.groupby(\"Unid_de_Conserv\")[\"Area_UC_KM\"].sum().reset_index()"
   ]
  },
  {
   "cell_type": "code",
   "execution_count": 87,
   "metadata": {},
   "outputs": [
    {
     "data": {
      "text/html": [
       "<div>\n",
       "<style scoped>\n",
       "    .dataframe tbody tr th:only-of-type {\n",
       "        vertical-align: middle;\n",
       "    }\n",
       "\n",
       "    .dataframe tbody tr th {\n",
       "        vertical-align: top;\n",
       "    }\n",
       "\n",
       "    .dataframe thead th {\n",
       "        text-align: right;\n",
       "    }\n",
       "</style>\n",
       "<table border=\"1\" class=\"dataframe\">\n",
       "  <thead>\n",
       "    <tr style=\"text-align: right;\">\n",
       "      <th></th>\n",
       "      <th>Unid_de_Conserv</th>\n",
       "      <th>Area_UC_KM</th>\n",
       "    </tr>\n",
       "  </thead>\n",
       "  <tbody>\n",
       "    <tr>\n",
       "      <th>25</th>\n",
       "      <td>FLORESTA NACIONAL DO JAMANXIM</td>\n",
       "      <td>137.6537</td>\n",
       "    </tr>\n",
       "    <tr>\n",
       "      <th>13</th>\n",
       "      <td>FLORESTA NACIONAL DE RORAIMA</td>\n",
       "      <td>134.5279</td>\n",
       "    </tr>\n",
       "    <tr>\n",
       "      <th>3</th>\n",
       "      <td>FLORESTA NACIONAL DE ALTAMIRA</td>\n",
       "      <td>110.1100</td>\n",
       "    </tr>\n",
       "    <tr>\n",
       "      <th>35</th>\n",
       "      <td>PARQUE NACIONAL DO ARAGUAIA</td>\n",
       "      <td>89.4904</td>\n",
       "    </tr>\n",
       "    <tr>\n",
       "      <th>67</th>\n",
       "      <td>ÃREA DE PROTEÃÃO AMBIENTAL DO TAPAJÃS</td>\n",
       "      <td>65.7228</td>\n",
       "    </tr>\n",
       "    <tr>\n",
       "      <th>1</th>\n",
       "      <td>ESTAÃÃO ECOLÃGICA DA TERRA DO MEIO</td>\n",
       "      <td>29.0658</td>\n",
       "    </tr>\n",
       "    <tr>\n",
       "      <th>49</th>\n",
       "      <td>RESERVA EXTRATIVISTA CHICO MENDES</td>\n",
       "      <td>27.5777</td>\n",
       "    </tr>\n",
       "    <tr>\n",
       "      <th>46</th>\n",
       "      <td>RESERVA BIOLÃGICA NASCENTES DA SERRA DO CACHIMBO</td>\n",
       "      <td>25.4493</td>\n",
       "    </tr>\n",
       "    <tr>\n",
       "      <th>10</th>\n",
       "      <td>FLORESTA NACIONAL DE ITAITUBA II</td>\n",
       "      <td>13.6289</td>\n",
       "    </tr>\n",
       "    <tr>\n",
       "      <th>21</th>\n",
       "      <td>FLORESTA NACIONAL DO BOM FUTURO</td>\n",
       "      <td>10.3348</td>\n",
       "    </tr>\n",
       "  </tbody>\n",
       "</table>\n",
       "</div>"
      ],
      "text/plain": [
       "                                      Unid_de_Conserv  Area_UC_KM\n",
       "25                      FLORESTA NACIONAL DO JAMANXIM    137.6537\n",
       "13                       FLORESTA NACIONAL DE RORAIMA    134.5279\n",
       "3                       FLORESTA NACIONAL DE ALTAMIRA    110.1100\n",
       "35                        PARQUE NACIONAL DO ARAGUAIA     89.4904\n",
       "67          ÃREA DE PROTEÃÃO AMBIENTAL DO TAPAJÃS     65.7228\n",
       "1               ESTAÃÃO ECOLÃGICA DA TERRA DO MEIO     29.0658\n",
       "49                  RESERVA EXTRATIVISTA CHICO MENDES     27.5777\n",
       "46  RESERVA BIOLÃGICA NASCENTES DA SERRA DO CACHIMBO     25.4493\n",
       "10                   FLORESTA NACIONAL DE ITAITUBA II     13.6289\n",
       "21                    FLORESTA NACIONAL DO BOM FUTURO     10.3348"
      ]
     },
     "execution_count": 87,
     "metadata": {},
     "output_type": "execute_result"
    }
   ],
   "source": [
    "UCGroups.sort_values(by= \"Area_UC_KM\", ascending=False).head(10)"
   ]
  },
  {
   "cell_type": "markdown",
   "metadata": {},
   "source": [
    "## Total de Alertas por UF"
   ]
  },
  {
   "cell_type": "code",
   "execution_count": 77,
   "metadata": {},
   "outputs": [
    {
     "data": {
      "text/plain": [
       "PA    15820\n",
       "MT     8158\n",
       "RO     6709\n",
       "AM     5504\n",
       "AC     2750\n",
       "RR     2449\n",
       "MA      841\n",
       "TO      120\n",
       "AP       79\n",
       "Name: UF, dtype: int64"
      ]
     },
     "execution_count": 77,
     "metadata": {},
     "output_type": "execute_result"
    }
   ],
   "source": [
    "df['UF'].value_counts()"
   ]
  },
  {
   "cell_type": "markdown",
   "metadata": {},
   "source": [
    "## Total de Alertas por Municipios"
   ]
  },
  {
   "cell_type": "code",
   "execution_count": 78,
   "metadata": {},
   "outputs": [
    {
     "data": {
      "text/plain": [
       "Sao Felix do Xingu    2205\n",
       "Altamira              1829\n",
       "Porto Velho           1676\n",
       "Pacaja                1410\n",
       "Labrea                1197\n",
       "Itaituba              1092\n",
       "Apui                   990\n",
       "Portel                 827\n",
       "Colniza                792\n",
       "Novo Progresso         785\n",
       "Name: Municipio, dtype: int64"
      ]
     },
     "execution_count": 78,
     "metadata": {},
     "output_type": "execute_result"
    }
   ],
   "source": [
    "df['Municipio'].value_counts().head(10)"
   ]
  },
  {
   "cell_type": "markdown",
   "metadata": {},
   "source": [
    "## Total de Alertas por UC - Unidade de Conservação"
   ]
  },
  {
   "cell_type": "code",
   "execution_count": 80,
   "metadata": {},
   "outputs": [
    {
     "data": {
      "text/plain": [
       "ÃREA DE PROTEÃÃO AMBIENTAL DO TAPAJÃS            484\n",
       "RESERVA EXTRATIVISTA CHICO MENDES                    286\n",
       "FLORESTA NACIONAL DO JAMANXIM                        245\n",
       "ESTAÃÃO ECOLÃGICA DA TERRA DO MEIO                112\n",
       "FLORESTA NACIONAL DE RORAIMA                         108\n",
       "FLORESTA NACIONAL DE ALTAMIRA                         90\n",
       "FLORESTA NACIONAL DO AMANA                            72\n",
       "RESERVA BIOLÃGICA NASCENTES DA SERRA DO CACHIMBO     62\n",
       "FLORESTA NACIONAL DE ITAITUBA II                      58\n",
       "FLORESTA NACIONAL DO BOM FUTURO                       57\n",
       "Name: Unid_de_Conserv, dtype: int64"
      ]
     },
     "execution_count": 80,
     "metadata": {},
     "output_type": "execute_result"
    }
   ],
   "source": [
    "df['Unid_de_Conserv'].value_counts().head(10)"
   ]
  }
 ],
 "metadata": {
  "kernelspec": {
   "display_name": "Python 3",
   "language": "python",
   "name": "python3"
  },
  "language_info": {
   "codemirror_mode": {
    "name": "ipython",
    "version": 3
   },
   "file_extension": ".py",
   "mimetype": "text/x-python",
   "name": "python",
   "nbconvert_exporter": "python",
   "pygments_lexer": "ipython3",
   "version": "3.7.1"
  }
 },
 "nbformat": 4,
 "nbformat_minor": 2
}
