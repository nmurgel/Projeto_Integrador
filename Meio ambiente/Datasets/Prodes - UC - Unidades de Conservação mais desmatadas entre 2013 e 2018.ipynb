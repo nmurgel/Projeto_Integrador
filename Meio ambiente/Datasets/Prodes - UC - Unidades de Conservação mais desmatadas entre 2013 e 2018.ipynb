{
 "cells": [
  {
   "cell_type": "markdown",
   "metadata": {},
   "source": [
    "## UC - Unidades de Conservação-  Desmatadas entre 2013 e 2018"
   ]
  },
  {
   "cell_type": "code",
   "execution_count": 15,
   "metadata": {},
   "outputs": [],
   "source": [
    "import pandas as pd\n",
    "import matplotlib.pyplot as plt\n",
    "\n",
    "%matplotlib inline"
   ]
  },
  {
   "cell_type": "code",
   "execution_count": 16,
   "metadata": {},
   "outputs": [],
   "source": [
    "df = pd.read_csv('terrabrasilis_legal_amazon_22_7_2019_1566486859214.UC.csv', encoding='latin', delimiter=',')"
   ]
  },
  {
   "cell_type": "code",
   "execution_count": 17,
   "metadata": {},
   "outputs": [
    {
     "data": {
      "text/html": [
       "<div>\n",
       "<style scoped>\n",
       "    .dataframe tbody tr th:only-of-type {\n",
       "        vertical-align: middle;\n",
       "    }\n",
       "\n",
       "    .dataframe tbody tr th {\n",
       "        vertical-align: top;\n",
       "    }\n",
       "\n",
       "    .dataframe thead th {\n",
       "        text-align: right;\n",
       "    }\n",
       "</style>\n",
       "<table border=\"1\" class=\"dataframe\">\n",
       "  <thead>\n",
       "    <tr style=\"text-align: right;\">\n",
       "      <th></th>\n",
       "      <th>year</th>\n",
       "      <th>area</th>\n",
       "      <th>loi</th>\n",
       "    </tr>\n",
       "  </thead>\n",
       "  <tbody>\n",
       "    <tr>\n",
       "      <th>0</th>\n",
       "      <td>2018</td>\n",
       "      <td>2.868437</td>\n",
       "      <td>PARQUE NACIONAL DO JAMANXIM</td>\n",
       "    </tr>\n",
       "    <tr>\n",
       "      <th>1</th>\n",
       "      <td>2018</td>\n",
       "      <td>0.000000</td>\n",
       "      <td>FLORESTA NACIONAL DE SARACÃ-TAQUERA</td>\n",
       "    </tr>\n",
       "    <tr>\n",
       "      <th>2</th>\n",
       "      <td>2018</td>\n",
       "      <td>0.138638</td>\n",
       "      <td>FLORESTA NACIONAL DE ITAITUBA I</td>\n",
       "    </tr>\n",
       "    <tr>\n",
       "      <th>3</th>\n",
       "      <td>2018</td>\n",
       "      <td>2.435323</td>\n",
       "      <td>RESERVA EXTRATIVISTA ANGELIM</td>\n",
       "    </tr>\n",
       "    <tr>\n",
       "      <th>4</th>\n",
       "      <td>2018</td>\n",
       "      <td>0.660014</td>\n",
       "      <td>FLORESTA NACIONAL DE PURUS</td>\n",
       "    </tr>\n",
       "  </tbody>\n",
       "</table>\n",
       "</div>"
      ],
      "text/plain": [
       "   year      area                                   loi\n",
       "0  2018  2.868437           PARQUE NACIONAL DO JAMANXIM\n",
       "1  2018  0.000000  FLORESTA NACIONAL DE SARACÃ-TAQUERA\n",
       "2  2018  0.138638       FLORESTA NACIONAL DE ITAITUBA I\n",
       "3  2018  2.435323          RESERVA EXTRATIVISTA ANGELIM\n",
       "4  2018  0.660014            FLORESTA NACIONAL DE PURUS"
      ]
     },
     "execution_count": 17,
     "metadata": {},
     "output_type": "execute_result"
    }
   ],
   "source": [
    "df.head()"
   ]
  },
  {
   "cell_type": "code",
   "execution_count": 18,
   "metadata": {},
   "outputs": [
    {
     "data": {
      "text/html": [
       "<div>\n",
       "<style scoped>\n",
       "    .dataframe tbody tr th:only-of-type {\n",
       "        vertical-align: middle;\n",
       "    }\n",
       "\n",
       "    .dataframe tbody tr th {\n",
       "        vertical-align: top;\n",
       "    }\n",
       "\n",
       "    .dataframe thead th {\n",
       "        text-align: right;\n",
       "    }\n",
       "</style>\n",
       "<table border=\"1\" class=\"dataframe\">\n",
       "  <thead>\n",
       "    <tr style=\"text-align: right;\">\n",
       "      <th></th>\n",
       "      <th>year</th>\n",
       "      <th>area</th>\n",
       "      <th>loi</th>\n",
       "    </tr>\n",
       "  </thead>\n",
       "  <tbody>\n",
       "    <tr>\n",
       "      <th>754</th>\n",
       "      <td>2013</td>\n",
       "      <td>0.000000</td>\n",
       "      <td>ÃREA DE PROTEÃÃO AMBIENTAL MEANDROS DO ARAG...</td>\n",
       "    </tr>\n",
       "    <tr>\n",
       "      <th>755</th>\n",
       "      <td>2013</td>\n",
       "      <td>1.325665</td>\n",
       "      <td>RESERVA EXTRATIVISTA RIO PRETO-JACUNDÃ</td>\n",
       "    </tr>\n",
       "    <tr>\n",
       "      <th>756</th>\n",
       "      <td>2013</td>\n",
       "      <td>0.157487</td>\n",
       "      <td>FLORESTA NACIONAL DE BALATA-TUFARI</td>\n",
       "    </tr>\n",
       "    <tr>\n",
       "      <th>757</th>\n",
       "      <td>2013</td>\n",
       "      <td>32.285024</td>\n",
       "      <td>ÃREA DE PROTEÃÃO AMBIENTAL DO TAPAJÃS</td>\n",
       "    </tr>\n",
       "    <tr>\n",
       "      <th>758</th>\n",
       "      <td>2013</td>\n",
       "      <td>0.886554</td>\n",
       "      <td>ÃREA DE PROTEÃÃO AMBIENTAL PAYTUNA</td>\n",
       "    </tr>\n",
       "  </tbody>\n",
       "</table>\n",
       "</div>"
      ],
      "text/plain": [
       "     year       area                                                loi\n",
       "754  2013   0.000000  ÃREA DE PROTEÃÃO AMBIENTAL MEANDROS DO ARAG...\n",
       "755  2013   1.325665            RESERVA EXTRATIVISTA RIO PRETO-JACUNDÃ\n",
       "756  2013   0.157487                 FLORESTA NACIONAL DE BALATA-TUFARI\n",
       "757  2013  32.285024          ÃREA DE PROTEÃÃO AMBIENTAL DO TAPAJÃS\n",
       "758  2013   0.886554              ÃREA DE PROTEÃÃO AMBIENTAL PAYTUNA"
      ]
     },
     "execution_count": 18,
     "metadata": {},
     "output_type": "execute_result"
    }
   ],
   "source": [
    "df.tail()"
   ]
  },
  {
   "cell_type": "code",
   "execution_count": 19,
   "metadata": {},
   "outputs": [
    {
     "name": "stdout",
     "output_type": "stream",
     "text": [
      "<class 'pandas.core.frame.DataFrame'>\n",
      "RangeIndex: 759 entries, 0 to 758\n",
      "Data columns (total 3 columns):\n",
      "year    759 non-null int64\n",
      "area    759 non-null float64\n",
      "loi     759 non-null object\n",
      "dtypes: float64(1), int64(1), object(1)\n",
      "memory usage: 17.9+ KB\n"
     ]
    }
   ],
   "source": [
    "df.info()"
   ]
  },
  {
   "cell_type": "code",
   "execution_count": 20,
   "metadata": {},
   "outputs": [
    {
     "data": {
      "text/plain": [
       "['year', 'area', 'loi']"
      ]
     },
     "execution_count": 20,
     "metadata": {},
     "output_type": "execute_result"
    }
   ],
   "source": [
    "list(df.columns)"
   ]
  },
  {
   "cell_type": "code",
   "execution_count": 21,
   "metadata": {},
   "outputs": [],
   "source": [
    "df.rename(columns={'year': 'Ano','area': 'Area', 'loi': 'UC'}, inplace=True)"
   ]
  },
  {
   "cell_type": "code",
   "execution_count": 22,
   "metadata": {},
   "outputs": [
    {
     "data": {
      "text/html": [
       "<div>\n",
       "<style scoped>\n",
       "    .dataframe tbody tr th:only-of-type {\n",
       "        vertical-align: middle;\n",
       "    }\n",
       "\n",
       "    .dataframe tbody tr th {\n",
       "        vertical-align: top;\n",
       "    }\n",
       "\n",
       "    .dataframe thead th {\n",
       "        text-align: right;\n",
       "    }\n",
       "</style>\n",
       "<table border=\"1\" class=\"dataframe\">\n",
       "  <thead>\n",
       "    <tr style=\"text-align: right;\">\n",
       "      <th></th>\n",
       "      <th>Ano</th>\n",
       "      <th>Area</th>\n",
       "      <th>UC</th>\n",
       "    </tr>\n",
       "  </thead>\n",
       "  <tbody>\n",
       "    <tr>\n",
       "      <th>0</th>\n",
       "      <td>2018</td>\n",
       "      <td>2.868437</td>\n",
       "      <td>PARQUE NACIONAL DO JAMANXIM</td>\n",
       "    </tr>\n",
       "    <tr>\n",
       "      <th>1</th>\n",
       "      <td>2018</td>\n",
       "      <td>0.000000</td>\n",
       "      <td>FLORESTA NACIONAL DE SARACÃ-TAQUERA</td>\n",
       "    </tr>\n",
       "    <tr>\n",
       "      <th>2</th>\n",
       "      <td>2018</td>\n",
       "      <td>0.138638</td>\n",
       "      <td>FLORESTA NACIONAL DE ITAITUBA I</td>\n",
       "    </tr>\n",
       "    <tr>\n",
       "      <th>3</th>\n",
       "      <td>2018</td>\n",
       "      <td>2.435323</td>\n",
       "      <td>RESERVA EXTRATIVISTA ANGELIM</td>\n",
       "    </tr>\n",
       "    <tr>\n",
       "      <th>4</th>\n",
       "      <td>2018</td>\n",
       "      <td>0.660014</td>\n",
       "      <td>FLORESTA NACIONAL DE PURUS</td>\n",
       "    </tr>\n",
       "  </tbody>\n",
       "</table>\n",
       "</div>"
      ],
      "text/plain": [
       "    Ano      Area                                    UC\n",
       "0  2018  2.868437           PARQUE NACIONAL DO JAMANXIM\n",
       "1  2018  0.000000  FLORESTA NACIONAL DE SARACÃ-TAQUERA\n",
       "2  2018  0.138638       FLORESTA NACIONAL DE ITAITUBA I\n",
       "3  2018  2.435323          RESERVA EXTRATIVISTA ANGELIM\n",
       "4  2018  0.660014            FLORESTA NACIONAL DE PURUS"
      ]
     },
     "execution_count": 22,
     "metadata": {},
     "output_type": "execute_result"
    }
   ],
   "source": [
    "df.head()"
   ]
  },
  {
   "cell_type": "markdown",
   "metadata": {},
   "source": [
    "## Desmatamento - Ano x Area"
   ]
  },
  {
   "cell_type": "code",
   "execution_count": 23,
   "metadata": {},
   "outputs": [],
   "source": [
    "AnosGroups = df.groupby(\"Ano\")[\"Area\"].sum().reset_index()"
   ]
  },
  {
   "cell_type": "code",
   "execution_count": 24,
   "metadata": {},
   "outputs": [
    {
     "data": {
      "text/html": [
       "<div>\n",
       "<style scoped>\n",
       "    .dataframe tbody tr th:only-of-type {\n",
       "        vertical-align: middle;\n",
       "    }\n",
       "\n",
       "    .dataframe tbody tr th {\n",
       "        vertical-align: top;\n",
       "    }\n",
       "\n",
       "    .dataframe thead th {\n",
       "        text-align: right;\n",
       "    }\n",
       "</style>\n",
       "<table border=\"1\" class=\"dataframe\">\n",
       "  <thead>\n",
       "    <tr style=\"text-align: right;\">\n",
       "      <th></th>\n",
       "      <th>Ano</th>\n",
       "      <th>Area</th>\n",
       "    </tr>\n",
       "  </thead>\n",
       "  <tbody>\n",
       "    <tr>\n",
       "      <th>5</th>\n",
       "      <td>2018</td>\n",
       "      <td>725.149268</td>\n",
       "    </tr>\n",
       "    <tr>\n",
       "      <th>4</th>\n",
       "      <td>2017</td>\n",
       "      <td>636.092820</td>\n",
       "    </tr>\n",
       "    <tr>\n",
       "      <th>3</th>\n",
       "      <td>2016</td>\n",
       "      <td>859.980721</td>\n",
       "    </tr>\n",
       "    <tr>\n",
       "      <th>2</th>\n",
       "      <td>2015</td>\n",
       "      <td>594.829327</td>\n",
       "    </tr>\n",
       "    <tr>\n",
       "      <th>1</th>\n",
       "      <td>2014</td>\n",
       "      <td>451.334923</td>\n",
       "    </tr>\n",
       "    <tr>\n",
       "      <th>0</th>\n",
       "      <td>2013</td>\n",
       "      <td>444.966368</td>\n",
       "    </tr>\n",
       "  </tbody>\n",
       "</table>\n",
       "</div>"
      ],
      "text/plain": [
       "    Ano        Area\n",
       "5  2018  725.149268\n",
       "4  2017  636.092820\n",
       "3  2016  859.980721\n",
       "2  2015  594.829327\n",
       "1  2014  451.334923\n",
       "0  2013  444.966368"
      ]
     },
     "execution_count": 24,
     "metadata": {},
     "output_type": "execute_result"
    }
   ],
   "source": [
    "AnosGroups.sort_values(by= \"Ano\", ascending=False)"
   ]
  },
  {
   "cell_type": "markdown",
   "metadata": {},
   "source": [
    "## UC mais desmatados por KM2"
   ]
  },
  {
   "cell_type": "code",
   "execution_count": 25,
   "metadata": {},
   "outputs": [],
   "source": [
    "UCGroups = df.groupby(\"UC\")[\"Area\"].sum().reset_index()"
   ]
  },
  {
   "cell_type": "code",
   "execution_count": 28,
   "metadata": {},
   "outputs": [
    {
     "data": {
      "text/html": [
       "<div>\n",
       "<style scoped>\n",
       "    .dataframe tbody tr th:only-of-type {\n",
       "        vertical-align: middle;\n",
       "    }\n",
       "\n",
       "    .dataframe tbody tr th {\n",
       "        vertical-align: top;\n",
       "    }\n",
       "\n",
       "    .dataframe thead th {\n",
       "        text-align: right;\n",
       "    }\n",
       "</style>\n",
       "<table border=\"1\" class=\"dataframe\">\n",
       "  <thead>\n",
       "    <tr style=\"text-align: right;\">\n",
       "      <th></th>\n",
       "      <th>UC</th>\n",
       "      <th>Area</th>\n",
       "    </tr>\n",
       "  </thead>\n",
       "  <tbody>\n",
       "    <tr>\n",
       "      <th>194</th>\n",
       "      <td>ÃREA DE PROTEÃÃO AMBIENTAL TRIUNFO DO XINGU</td>\n",
       "      <td>1336.114132</td>\n",
       "    </tr>\n",
       "    <tr>\n",
       "      <th>138</th>\n",
       "      <td>RESERVA EXTRATIVISTA JACI-PARANÃ</td>\n",
       "      <td>563.301878</td>\n",
       "    </tr>\n",
       "    <tr>\n",
       "      <th>51</th>\n",
       "      <td>FLORESTA NACIONAL DO JAMANXIM</td>\n",
       "      <td>377.747210</td>\n",
       "    </tr>\n",
       "    <tr>\n",
       "      <th>181</th>\n",
       "      <td>ÃREA DE PROTEÃÃO AMBIENTAL DO TAPAJÃS</td>\n",
       "      <td>196.724257</td>\n",
       "    </tr>\n",
       "    <tr>\n",
       "      <th>122</th>\n",
       "      <td>RESERVA EXTRATIVISTA CHICO MENDES</td>\n",
       "      <td>119.100454</td>\n",
       "    </tr>\n",
       "  </tbody>\n",
       "</table>\n",
       "</div>"
      ],
      "text/plain": [
       "                                                 UC         Area\n",
       "194  ÃREA DE PROTEÃÃO AMBIENTAL TRIUNFO DO XINGU  1336.114132\n",
       "138               RESERVA EXTRATIVISTA JACI-PARANÃ   563.301878\n",
       "51                    FLORESTA NACIONAL DO JAMANXIM   377.747210\n",
       "181       ÃREA DE PROTEÃÃO AMBIENTAL DO TAPAJÃS   196.724257\n",
       "122               RESERVA EXTRATIVISTA CHICO MENDES   119.100454"
      ]
     },
     "execution_count": 28,
     "metadata": {},
     "output_type": "execute_result"
    }
   ],
   "source": [
    "UCGroups.sort_values(by= \"Area\", ascending=False).head(5)"
   ]
  }
 ],
 "metadata": {
  "kernelspec": {
   "display_name": "Python 3",
   "language": "python",
   "name": "python3"
  },
  "language_info": {
   "codemirror_mode": {
    "name": "ipython",
    "version": 3
   },
   "file_extension": ".py",
   "mimetype": "text/x-python",
   "name": "python",
   "nbconvert_exporter": "python",
   "pygments_lexer": "ipython3",
   "version": "3.7.1"
  }
 },
 "nbformat": 4,
 "nbformat_minor": 2
}
