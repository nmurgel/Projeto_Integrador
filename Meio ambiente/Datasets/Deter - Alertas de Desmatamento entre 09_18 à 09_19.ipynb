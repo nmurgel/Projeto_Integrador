{
 "cells": [
  {
   "cell_type": "markdown",
   "metadata": {},
   "source": [
    "## Deter (Sistema de Detecção de Desmatamento em Tempo Real da Amazônia Legal) -    05/09/18 até 03/09/19"
   ]
  },
  {
   "cell_type": "code",
   "execution_count": 2,
   "metadata": {},
   "outputs": [],
   "source": [
    "import pandas as pd \n",
    "import matplotlib.pyplot as plt\n",
    "import seaborn as sns\n",
    "\n",
    "%matplotlib inline\n"
   ]
  },
  {
   "cell_type": "code",
   "execution_count": 4,
   "metadata": {},
   "outputs": [],
   "source": [
    "df = pd.read_csv('deterb_9_8_2019_UC.csv', encoding='latin', delimiter=',')"
   ]
  },
  {
   "cell_type": "code",
   "execution_count": 5,
   "metadata": {},
   "outputs": [
    {
     "data": {
      "text/html": [
       "<div>\n",
       "<style scoped>\n",
       "    .dataframe tbody tr th:only-of-type {\n",
       "        vertical-align: middle;\n",
       "    }\n",
       "\n",
       "    .dataframe tbody tr th {\n",
       "        vertical-align: top;\n",
       "    }\n",
       "\n",
       "    .dataframe thead th {\n",
       "        text-align: right;\n",
       "    }\n",
       "</style>\n",
       "<table border=\"1\" class=\"dataframe\">\n",
       "  <thead>\n",
       "    <tr style=\"text-align: right;\">\n",
       "      <th></th>\n",
       "      <th>date</th>\n",
       "      <th>areaMunKm</th>\n",
       "      <th>areaUcKm</th>\n",
       "      <th>uc</th>\n",
       "      <th>uf</th>\n",
       "      <th>municipio</th>\n",
       "    </tr>\n",
       "  </thead>\n",
       "  <tbody>\n",
       "    <tr>\n",
       "      <th>0</th>\n",
       "      <td>20/07/2019</td>\n",
       "      <td>0.0665</td>\n",
       "      <td>0.0000</td>\n",
       "      <td>NaN</td>\n",
       "      <td>PA</td>\n",
       "      <td>Altamira</td>\n",
       "    </tr>\n",
       "    <tr>\n",
       "      <th>1</th>\n",
       "      <td>01/09/2019</td>\n",
       "      <td>0.1016</td>\n",
       "      <td>0.1016</td>\n",
       "      <td>FLORESTA NACIONAL DO AMANA</td>\n",
       "      <td>PA</td>\n",
       "      <td>Itaituba</td>\n",
       "    </tr>\n",
       "    <tr>\n",
       "      <th>2</th>\n",
       "      <td>29/08/2019</td>\n",
       "      <td>0.0735</td>\n",
       "      <td>0.0735</td>\n",
       "      <td>FLORESTA NACIONAL DO CREPORI</td>\n",
       "      <td>PA</td>\n",
       "      <td>Jacareacanga</td>\n",
       "    </tr>\n",
       "    <tr>\n",
       "      <th>3</th>\n",
       "      <td>29/08/2019</td>\n",
       "      <td>0.0150</td>\n",
       "      <td>0.0150</td>\n",
       "      <td>ÃREA DE PROTEÃÃO AMBIENTAL DO TAPAJÃS</td>\n",
       "      <td>PA</td>\n",
       "      <td>Jacareacanga</td>\n",
       "    </tr>\n",
       "    <tr>\n",
       "      <th>4</th>\n",
       "      <td>29/08/2019</td>\n",
       "      <td>0.0840</td>\n",
       "      <td>0.0840</td>\n",
       "      <td>ÃREA DE PROTEÃÃO AMBIENTAL DO TAPAJÃS</td>\n",
       "      <td>PA</td>\n",
       "      <td>Itaituba</td>\n",
       "    </tr>\n",
       "  </tbody>\n",
       "</table>\n",
       "</div>"
      ],
      "text/plain": [
       "         date  areaMunKm  areaUcKm                                         uc  \\\n",
       "0  20/07/2019     0.0665    0.0000                                        NaN   \n",
       "1  01/09/2019     0.1016    0.1016                 FLORESTA NACIONAL DO AMANA   \n",
       "2  29/08/2019     0.0735    0.0735               FLORESTA NACIONAL DO CREPORI   \n",
       "3  29/08/2019     0.0150    0.0150  ÃREA DE PROTEÃÃO AMBIENTAL DO TAPAJÃS   \n",
       "4  29/08/2019     0.0840    0.0840  ÃREA DE PROTEÃÃO AMBIENTAL DO TAPAJÃS   \n",
       "\n",
       "   uf     municipio  \n",
       "0  PA      Altamira  \n",
       "1  PA      Itaituba  \n",
       "2  PA  Jacareacanga  \n",
       "3  PA  Jacareacanga  \n",
       "4  PA      Itaituba  "
      ]
     },
     "execution_count": 5,
     "metadata": {},
     "output_type": "execute_result"
    }
   ],
   "source": [
    "df.head()"
   ]
  },
  {
   "cell_type": "code",
   "execution_count": 6,
   "metadata": {},
   "outputs": [
    {
     "data": {
      "text/html": [
       "<div>\n",
       "<style scoped>\n",
       "    .dataframe tbody tr th:only-of-type {\n",
       "        vertical-align: middle;\n",
       "    }\n",
       "\n",
       "    .dataframe tbody tr th {\n",
       "        vertical-align: top;\n",
       "    }\n",
       "\n",
       "    .dataframe thead th {\n",
       "        text-align: right;\n",
       "    }\n",
       "</style>\n",
       "<table border=\"1\" class=\"dataframe\">\n",
       "  <thead>\n",
       "    <tr style=\"text-align: right;\">\n",
       "      <th></th>\n",
       "      <th>date</th>\n",
       "      <th>areaMunKm</th>\n",
       "      <th>areaUcKm</th>\n",
       "      <th>uc</th>\n",
       "      <th>uf</th>\n",
       "      <th>municipio</th>\n",
       "    </tr>\n",
       "  </thead>\n",
       "  <tbody>\n",
       "    <tr>\n",
       "      <th>47198</th>\n",
       "      <td>11/09/2018</td>\n",
       "      <td>0.0698</td>\n",
       "      <td>0.0</td>\n",
       "      <td>NaN</td>\n",
       "      <td>PA</td>\n",
       "      <td>Cumaru do Norte</td>\n",
       "    </tr>\n",
       "    <tr>\n",
       "      <th>47199</th>\n",
       "      <td>11/09/2018</td>\n",
       "      <td>0.0012</td>\n",
       "      <td>0.0</td>\n",
       "      <td>NaN</td>\n",
       "      <td>PA</td>\n",
       "      <td>Cumaru do Norte</td>\n",
       "    </tr>\n",
       "    <tr>\n",
       "      <th>47200</th>\n",
       "      <td>11/09/2018</td>\n",
       "      <td>0.0619</td>\n",
       "      <td>0.0</td>\n",
       "      <td>NaN</td>\n",
       "      <td>PA</td>\n",
       "      <td>Cumaru do Norte</td>\n",
       "    </tr>\n",
       "    <tr>\n",
       "      <th>47201</th>\n",
       "      <td>11/09/2018</td>\n",
       "      <td>0.0988</td>\n",
       "      <td>0.0</td>\n",
       "      <td>NaN</td>\n",
       "      <td>PA</td>\n",
       "      <td>Cumaru do Norte</td>\n",
       "    </tr>\n",
       "    <tr>\n",
       "      <th>47202</th>\n",
       "      <td>29/09/2018</td>\n",
       "      <td>15.8006</td>\n",
       "      <td>0.0</td>\n",
       "      <td>NaN</td>\n",
       "      <td>MT</td>\n",
       "      <td>Nova Nazare</td>\n",
       "    </tr>\n",
       "  </tbody>\n",
       "</table>\n",
       "</div>"
      ],
      "text/plain": [
       "             date  areaMunKm  areaUcKm   uc  uf        municipio\n",
       "47198  11/09/2018     0.0698       0.0  NaN  PA  Cumaru do Norte\n",
       "47199  11/09/2018     0.0012       0.0  NaN  PA  Cumaru do Norte\n",
       "47200  11/09/2018     0.0619       0.0  NaN  PA  Cumaru do Norte\n",
       "47201  11/09/2018     0.0988       0.0  NaN  PA  Cumaru do Norte\n",
       "47202  29/09/2018    15.8006       0.0  NaN  MT      Nova Nazare"
      ]
     },
     "execution_count": 6,
     "metadata": {},
     "output_type": "execute_result"
    }
   ],
   "source": [
    "df.tail()"
   ]
  },
  {
   "cell_type": "code",
   "execution_count": 7,
   "metadata": {},
   "outputs": [
    {
     "data": {
      "text/plain": [
       "['date', 'areaMunKm', 'areaUcKm', 'uc', 'uf', 'municipio']"
      ]
     },
     "execution_count": 7,
     "metadata": {},
     "output_type": "execute_result"
    }
   ],
   "source": [
    "list(df.columns)"
   ]
  },
  {
   "cell_type": "code",
   "execution_count": 8,
   "metadata": {},
   "outputs": [],
   "source": [
    "df.rename(columns={'date': 'Data','areaMunKm':'Area_Municipal_KM','areaUcKm': 'Area_UC_KM','uc': 'Unid_de_Conserv','uf':'UF','municipio':'Municipio'}, inplace=True)"
   ]
  },
  {
   "cell_type": "code",
   "execution_count": 9,
   "metadata": {},
   "outputs": [
    {
     "name": "stdout",
     "output_type": "stream",
     "text": [
      "<class 'pandas.core.frame.DataFrame'>\n",
      "RangeIndex: 47203 entries, 0 to 47202\n",
      "Data columns (total 6 columns):\n",
      "Data                 47203 non-null object\n",
      "Area_Municipal_KM    47203 non-null float64\n",
      "Area_UC_KM           47203 non-null float64\n",
      "Unid_de_Conserv      2204 non-null object\n",
      "UF                   47203 non-null object\n",
      "Municipio            47203 non-null object\n",
      "dtypes: float64(2), object(4)\n",
      "memory usage: 2.2+ MB\n"
     ]
    }
   ],
   "source": [
    "df.info()"
   ]
  },
  {
   "cell_type": "code",
   "execution_count": 13,
   "metadata": {},
   "outputs": [
    {
     "data": {
      "text/plain": [
       "NaN                                                  44999\n",
       "ÃREA DE PROTEÃÃO AMBIENTAL DO TAPAJÃS              442\n",
       "RESERVA EXTRATIVISTA CHICO MENDES                      379\n",
       "FLORESTA NACIONAL DO JAMANXIM                          280\n",
       "ESTAÃÃO ECOLÃGICA DA TERRA DO MEIO                  121\n",
       "FLORESTA NACIONAL DE RORAIMA                           108\n",
       "FLORESTA NACIONAL DE ALTAMIRA                           91\n",
       "RESERVA BIOLÃGICA NASCENTES DA SERRA DO CACHIMBO       74\n",
       "FLORESTA NACIONAL DO AMANA                              72\n",
       "FLORESTA NACIONAL DO BOM FUTURO                         63\n",
       "Name: Unid_de_Conserv, dtype: int64"
      ]
     },
     "execution_count": 13,
     "metadata": {},
     "output_type": "execute_result"
    }
   ],
   "source": [
    "# O NAN correspondem a nenhuma Unidade de Conservação\n",
    "df['Unid_de_Conserv'].value_counts(dropna=False).head(10)"
   ]
  },
  {
   "cell_type": "code",
   "execution_count": 15,
   "metadata": {},
   "outputs": [
    {
     "data": {
      "text/plain": [
       "NaN                                                44999\n",
       "AREA DE PROTEÇÃO AMBIENTAL DO TAPAJÓS                442\n",
       "RESERVA EXTRATIVISTA CHICO MENDES                    379\n",
       "FLORESTA NACIONAL DO JAMANXIM                        280\n",
       "ESTAÇÃO ECOLÓGICA DA TERRA DO MEIO                   121\n",
       "FLORESTA NACIONAL DE RORAIMA                         108\n",
       "FLORESTA NACIONAL DE ALTAMIRA                         91\n",
       "RESERVA BIOLÓGICA NASCENTE DA SERRA DO CACHIMBO       74\n",
       "FLORESTA NACIONAL DO AMANA                            72\n",
       "FLORESTA NACIONAL DO BOM FUTURO                       63\n",
       "Name: Unid_de_Conserv, dtype: int64"
      ]
     },
     "execution_count": 15,
     "metadata": {},
     "output_type": "execute_result"
    }
   ],
   "source": [
    "df.Unid_de_Conserv.replace({'ÃREA DE PROTEÃÃO AMBIENTAL DO TAPAJÃS':'AREA DE PROTEÇÃO AMBIENTAL DO TAPAJÓS','ESTAÃÃO ECOLÃGICA DA TERRA DO MEIO':'ESTAÇÃO ECOLÓGICA DA TERRA DO MEIO','RESERVA BIOLÃGICA NASCENTES DA SERRA DO CACHIMBO':'RESERVA BIOLÓGICA NASCENTE DA SERRA DO CACHIMBO'}, regex=True, inplace=True)\n",
    "df['Unid_de_Conserv'].value_counts(dropna=False).head(10)"
   ]
  },
  {
   "cell_type": "markdown",
   "metadata": {},
   "source": [
    "# Municipio com maiores áreas de Desmatamento"
   ]
  },
  {
   "cell_type": "code",
   "execution_count": 16,
   "metadata": {},
   "outputs": [],
   "source": [
    "MunicipiosGroups = df.groupby(\"Municipio\")[\"Area_Municipal_KM\"].sum().reset_index()"
   ]
  },
  {
   "cell_type": "code",
   "execution_count": 17,
   "metadata": {},
   "outputs": [
    {
     "data": {
      "text/html": [
       "<div>\n",
       "<style scoped>\n",
       "    .dataframe tbody tr th:only-of-type {\n",
       "        vertical-align: middle;\n",
       "    }\n",
       "\n",
       "    .dataframe tbody tr th {\n",
       "        vertical-align: top;\n",
       "    }\n",
       "\n",
       "    .dataframe thead th {\n",
       "        text-align: right;\n",
       "    }\n",
       "</style>\n",
       "<table border=\"1\" class=\"dataframe\">\n",
       "  <thead>\n",
       "    <tr style=\"text-align: right;\">\n",
       "      <th></th>\n",
       "      <th>Municipio</th>\n",
       "      <th>Area_Municipal_KM</th>\n",
       "    </tr>\n",
       "  </thead>\n",
       "  <tbody>\n",
       "    <tr>\n",
       "      <th>9</th>\n",
       "      <td>Altamira</td>\n",
       "      <td>961.4071</td>\n",
       "    </tr>\n",
       "    <tr>\n",
       "      <th>342</th>\n",
       "      <td>Sao Felix do Xingu</td>\n",
       "      <td>746.2868</td>\n",
       "    </tr>\n",
       "    <tr>\n",
       "      <th>229</th>\n",
       "      <td>Mucajai</td>\n",
       "      <td>552.6840</td>\n",
       "    </tr>\n",
       "    <tr>\n",
       "      <th>215</th>\n",
       "      <td>Marcelandia</td>\n",
       "      <td>550.3312</td>\n",
       "    </tr>\n",
       "    <tr>\n",
       "      <th>294</th>\n",
       "      <td>Porto Velho</td>\n",
       "      <td>524.7984</td>\n",
       "    </tr>\n",
       "    <tr>\n",
       "      <th>259</th>\n",
       "      <td>Novo Progresso</td>\n",
       "      <td>462.7377</td>\n",
       "    </tr>\n",
       "    <tr>\n",
       "      <th>149</th>\n",
       "      <td>Feliz Natal</td>\n",
       "      <td>456.8731</td>\n",
       "    </tr>\n",
       "    <tr>\n",
       "      <th>199</th>\n",
       "      <td>Labrea</td>\n",
       "      <td>440.1731</td>\n",
       "    </tr>\n",
       "    <tr>\n",
       "      <th>120</th>\n",
       "      <td>Colniza</td>\n",
       "      <td>375.9849</td>\n",
       "    </tr>\n",
       "    <tr>\n",
       "      <th>389</th>\n",
       "      <td>Uniao do Sul</td>\n",
       "      <td>359.9295</td>\n",
       "    </tr>\n",
       "  </tbody>\n",
       "</table>\n",
       "</div>"
      ],
      "text/plain": [
       "              Municipio  Area_Municipal_KM\n",
       "9              Altamira           961.4071\n",
       "342  Sao Felix do Xingu           746.2868\n",
       "229             Mucajai           552.6840\n",
       "215         Marcelandia           550.3312\n",
       "294         Porto Velho           524.7984\n",
       "259      Novo Progresso           462.7377\n",
       "149         Feliz Natal           456.8731\n",
       "199              Labrea           440.1731\n",
       "120             Colniza           375.9849\n",
       "389        Uniao do Sul           359.9295"
      ]
     },
     "execution_count": 17,
     "metadata": {},
     "output_type": "execute_result"
    }
   ],
   "source": [
    "MunicipiosGroups.sort_values(by= \"Area_Municipal_KM\", ascending=False).head(10)"
   ]
  },
  {
   "cell_type": "markdown",
   "metadata": {},
   "source": [
    "# UF mais desmatadas por KM"
   ]
  },
  {
   "cell_type": "code",
   "execution_count": 18,
   "metadata": {},
   "outputs": [],
   "source": [
    "UFGroups = df.groupby(\"UF\")[\"Area_Municipal_KM\"].sum().reset_index()"
   ]
  },
  {
   "cell_type": "code",
   "execution_count": 19,
   "metadata": {},
   "outputs": [
    {
     "data": {
      "text/html": [
       "<div>\n",
       "<style scoped>\n",
       "    .dataframe tbody tr th:only-of-type {\n",
       "        vertical-align: middle;\n",
       "    }\n",
       "\n",
       "    .dataframe tbody tr th {\n",
       "        vertical-align: top;\n",
       "    }\n",
       "\n",
       "    .dataframe thead th {\n",
       "        text-align: right;\n",
       "    }\n",
       "</style>\n",
       "<table border=\"1\" class=\"dataframe\">\n",
       "  <thead>\n",
       "    <tr style=\"text-align: right;\">\n",
       "      <th></th>\n",
       "      <th>UF</th>\n",
       "      <th>Area_Municipal_KM</th>\n",
       "    </tr>\n",
       "  </thead>\n",
       "  <tbody>\n",
       "    <tr>\n",
       "      <th>4</th>\n",
       "      <td>MT</td>\n",
       "      <td>7170.8220</td>\n",
       "    </tr>\n",
       "    <tr>\n",
       "      <th>5</th>\n",
       "      <td>PA</td>\n",
       "      <td>5528.0985</td>\n",
       "    </tr>\n",
       "    <tr>\n",
       "      <th>6</th>\n",
       "      <td>RO</td>\n",
       "      <td>1802.3573</td>\n",
       "    </tr>\n",
       "    <tr>\n",
       "      <th>7</th>\n",
       "      <td>RR</td>\n",
       "      <td>1708.0789</td>\n",
       "    </tr>\n",
       "    <tr>\n",
       "      <th>1</th>\n",
       "      <td>AM</td>\n",
       "      <td>1666.2566</td>\n",
       "    </tr>\n",
       "    <tr>\n",
       "      <th>0</th>\n",
       "      <td>AC</td>\n",
       "      <td>511.4700</td>\n",
       "    </tr>\n",
       "    <tr>\n",
       "      <th>3</th>\n",
       "      <td>MA</td>\n",
       "      <td>431.1074</td>\n",
       "    </tr>\n",
       "    <tr>\n",
       "      <th>8</th>\n",
       "      <td>TO</td>\n",
       "      <td>64.8151</td>\n",
       "    </tr>\n",
       "    <tr>\n",
       "      <th>2</th>\n",
       "      <td>AP</td>\n",
       "      <td>12.7261</td>\n",
       "    </tr>\n",
       "  </tbody>\n",
       "</table>\n",
       "</div>"
      ],
      "text/plain": [
       "   UF  Area_Municipal_KM\n",
       "4  MT          7170.8220\n",
       "5  PA          5528.0985\n",
       "6  RO          1802.3573\n",
       "7  RR          1708.0789\n",
       "1  AM          1666.2566\n",
       "0  AC           511.4700\n",
       "3  MA           431.1074\n",
       "8  TO            64.8151\n",
       "2  AP            12.7261"
      ]
     },
     "execution_count": 19,
     "metadata": {},
     "output_type": "execute_result"
    }
   ],
   "source": [
    "UFGroups.sort_values(by= \"Area_Municipal_KM\", ascending=False)"
   ]
  },
  {
   "cell_type": "markdown",
   "metadata": {},
   "source": [
    "# UC mais desmatadas por KM"
   ]
  },
  {
   "cell_type": "code",
   "execution_count": 20,
   "metadata": {},
   "outputs": [],
   "source": [
    "UCGroups = df.groupby(\"Unid_de_Conserv\")[\"Area_UC_KM\",\"UF\"].sum().reset_index()"
   ]
  },
  {
   "cell_type": "code",
   "execution_count": 21,
   "metadata": {},
   "outputs": [
    {
     "data": {
      "text/html": [
       "<div>\n",
       "<style scoped>\n",
       "    .dataframe tbody tr th:only-of-type {\n",
       "        vertical-align: middle;\n",
       "    }\n",
       "\n",
       "    .dataframe tbody tr th {\n",
       "        vertical-align: top;\n",
       "    }\n",
       "\n",
       "    .dataframe thead th {\n",
       "        text-align: right;\n",
       "    }\n",
       "</style>\n",
       "<table border=\"1\" class=\"dataframe\">\n",
       "  <thead>\n",
       "    <tr style=\"text-align: right;\">\n",
       "      <th></th>\n",
       "      <th>Unid_de_Conserv</th>\n",
       "      <th>Area_UC_KM</th>\n",
       "    </tr>\n",
       "  </thead>\n",
       "  <tbody>\n",
       "    <tr>\n",
       "      <th>26</th>\n",
       "      <td>FLORESTA NACIONAL DO JAMANXIM</td>\n",
       "      <td>168.6013</td>\n",
       "    </tr>\n",
       "    <tr>\n",
       "      <th>14</th>\n",
       "      <td>FLORESTA NACIONAL DE RORAIMA</td>\n",
       "      <td>134.5279</td>\n",
       "    </tr>\n",
       "    <tr>\n",
       "      <th>4</th>\n",
       "      <td>FLORESTA NACIONAL DE ALTAMIRA</td>\n",
       "      <td>115.0154</td>\n",
       "    </tr>\n",
       "    <tr>\n",
       "      <th>0</th>\n",
       "      <td>AREA DE PROTEÇÃO AMBIENTAL DO TAPAJÓS</td>\n",
       "      <td>61.8113</td>\n",
       "    </tr>\n",
       "    <tr>\n",
       "      <th>49</th>\n",
       "      <td>RESERVA EXTRATIVISTA CHICO MENDES</td>\n",
       "      <td>36.5490</td>\n",
       "    </tr>\n",
       "    <tr>\n",
       "      <th>47</th>\n",
       "      <td>RESERVA BIOLÓGICA NASCENTE DA SERRA DO CACHIMBO</td>\n",
       "      <td>32.8884</td>\n",
       "    </tr>\n",
       "    <tr>\n",
       "      <th>3</th>\n",
       "      <td>ESTAÇÃO ECOLÓGICA DA TERRA DO MEIO</td>\n",
       "      <td>30.5539</td>\n",
       "    </tr>\n",
       "    <tr>\n",
       "      <th>22</th>\n",
       "      <td>FLORESTA NACIONAL DO BOM FUTURO</td>\n",
       "      <td>11.6111</td>\n",
       "    </tr>\n",
       "    <tr>\n",
       "      <th>11</th>\n",
       "      <td>FLORESTA NACIONAL DE ITAITUBA II</td>\n",
       "      <td>10.5782</td>\n",
       "    </tr>\n",
       "    <tr>\n",
       "      <th>19</th>\n",
       "      <td>FLORESTA NACIONAL DO AMANA</td>\n",
       "      <td>7.3923</td>\n",
       "    </tr>\n",
       "  </tbody>\n",
       "</table>\n",
       "</div>"
      ],
      "text/plain": [
       "                                    Unid_de_Conserv  Area_UC_KM\n",
       "26                    FLORESTA NACIONAL DO JAMANXIM    168.6013\n",
       "14                     FLORESTA NACIONAL DE RORAIMA    134.5279\n",
       "4                     FLORESTA NACIONAL DE ALTAMIRA    115.0154\n",
       "0             AREA DE PROTEÇÃO AMBIENTAL DO TAPAJÓS     61.8113\n",
       "49                RESERVA EXTRATIVISTA CHICO MENDES     36.5490\n",
       "47  RESERVA BIOLÓGICA NASCENTE DA SERRA DO CACHIMBO     32.8884\n",
       "3                ESTAÇÃO ECOLÓGICA DA TERRA DO MEIO     30.5539\n",
       "22                  FLORESTA NACIONAL DO BOM FUTURO     11.6111\n",
       "11                 FLORESTA NACIONAL DE ITAITUBA II     10.5782\n",
       "19                       FLORESTA NACIONAL DO AMANA      7.3923"
      ]
     },
     "execution_count": 21,
     "metadata": {},
     "output_type": "execute_result"
    }
   ],
   "source": [
    "UCGroups.sort_values(by= \"Area_UC_KM\", ascending=False).head(10)"
   ]
  },
  {
   "cell_type": "markdown",
   "metadata": {},
   "source": [
    "## Total de Alertas por UF"
   ]
  },
  {
   "cell_type": "code",
   "execution_count": 22,
   "metadata": {},
   "outputs": [
    {
     "data": {
      "text/plain": [
       "PA    18160\n",
       "MT     8730\n",
       "RO     7506\n",
       "AM     5791\n",
       "AC     3461\n",
       "RR     2703\n",
       "MA      668\n",
       "TO      105\n",
       "AP       79\n",
       "Name: UF, dtype: int64"
      ]
     },
     "execution_count": 22,
     "metadata": {},
     "output_type": "execute_result"
    }
   ],
   "source": [
    "df['UF'].value_counts()"
   ]
  },
  {
   "cell_type": "markdown",
   "metadata": {},
   "source": [
    "## Total de Alertas por Municipios"
   ]
  },
  {
   "cell_type": "code",
   "execution_count": 23,
   "metadata": {},
   "outputs": [
    {
     "data": {
      "text/plain": [
       "Sao Felix do Xingu    2627\n",
       "Altamira              2214\n",
       "Porto Velho           1731\n",
       "Pacaja                1517\n",
       "Labrea                1184\n",
       "Apui                  1128\n",
       "Itaituba              1041\n",
       "Novo Progresso         944\n",
       "Portel                 918\n",
       "Colniza                903\n",
       "Name: Municipio, dtype: int64"
      ]
     },
     "execution_count": 23,
     "metadata": {},
     "output_type": "execute_result"
    }
   ],
   "source": [
    "df['Municipio'].value_counts().head(10)"
   ]
  },
  {
   "cell_type": "markdown",
   "metadata": {},
   "source": [
    "## Total de Alertas por UC - Unidade de Conservação"
   ]
  },
  {
   "cell_type": "code",
   "execution_count": 24,
   "metadata": {},
   "outputs": [
    {
     "data": {
      "text/plain": [
       "AREA DE PROTEÇÃO AMBIENTAL DO TAPAJÓS              442\n",
       "RESERVA EXTRATIVISTA CHICO MENDES                  379\n",
       "FLORESTA NACIONAL DO JAMANXIM                      280\n",
       "ESTAÇÃO ECOLÓGICA DA TERRA DO MEIO                 121\n",
       "FLORESTA NACIONAL DE RORAIMA                       108\n",
       "FLORESTA NACIONAL DE ALTAMIRA                       91\n",
       "RESERVA BIOLÓGICA NASCENTE DA SERRA DO CACHIMBO     74\n",
       "FLORESTA NACIONAL DO AMANA                          72\n",
       "FLORESTA NACIONAL DO BOM FUTURO                     63\n",
       "FLORESTA NACIONAL DE ITAITUBA II                    59\n",
       "Name: Unid_de_Conserv, dtype: int64"
      ]
     },
     "execution_count": 24,
     "metadata": {},
     "output_type": "execute_result"
    }
   ],
   "source": [
    "df['Unid_de_Conserv'].value_counts().head(10)"
   ]
  }
 ],
 "metadata": {
  "kernelspec": {
   "display_name": "Python 3",
   "language": "python",
   "name": "python3"
  },
  "language_info": {
   "codemirror_mode": {
    "name": "ipython",
    "version": 3
   },
   "file_extension": ".py",
   "mimetype": "text/x-python",
   "name": "python",
   "nbconvert_exporter": "python",
   "pygments_lexer": "ipython3",
   "version": "3.7.1"
  }
 },
 "nbformat": 4,
 "nbformat_minor": 2
}
