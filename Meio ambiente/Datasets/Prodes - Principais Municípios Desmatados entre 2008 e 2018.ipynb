{
 "cells": [
  {
   "cell_type": "markdown",
   "metadata": {},
   "source": [
    "## Principais Municípios Demasmatados entre 2008 e 2018 - Amazônia Legal"
   ]
  },
  {
   "cell_type": "code",
   "execution_count": 1,
   "metadata": {},
   "outputs": [],
   "source": [
    "# Importando as bibliotecas necessárias\n",
    "import pandas as pd\n",
    "import matplotlib.pyplot as plt\n",
    "import seaborn as sns\n",
    "import folium\n",
    "\n",
    "import warnings\n",
    "warnings.filterwarnings(\"ignore\")\n",
    "\n",
    "%matplotlib inline"
   ]
  },
  {
   "cell_type": "code",
   "execution_count": 15,
   "metadata": {},
   "outputs": [],
   "source": [
    "# Municipios com maiores áreas de desmatamento\n",
    "\n",
    "df = pd.read_csv('terrabrasilis_amazon_9_8_2019_1568042920617.csv', encoding='latin', delimiter=',')"
   ]
  },
  {
   "cell_type": "code",
   "execution_count": 16,
   "metadata": {},
   "outputs": [
    {
     "data": {
      "text/html": [
       "<div>\n",
       "<style scoped>\n",
       "    .dataframe tbody tr th:only-of-type {\n",
       "        vertical-align: middle;\n",
       "    }\n",
       "\n",
       "    .dataframe tbody tr th {\n",
       "        vertical-align: top;\n",
       "    }\n",
       "\n",
       "    .dataframe thead th {\n",
       "        text-align: right;\n",
       "    }\n",
       "</style>\n",
       "<table border=\"1\" class=\"dataframe\">\n",
       "  <thead>\n",
       "    <tr style=\"text-align: right;\">\n",
       "      <th></th>\n",
       "      <th>time</th>\n",
       "      <th>area</th>\n",
       "      <th>mun</th>\n",
       "    </tr>\n",
       "  </thead>\n",
       "  <tbody>\n",
       "    <tr>\n",
       "      <th>0</th>\n",
       "      <td>2018</td>\n",
       "      <td>0.230179</td>\n",
       "      <td>SANTA BÃRBARA DO PARÃ</td>\n",
       "    </tr>\n",
       "    <tr>\n",
       "      <th>1</th>\n",
       "      <td>2018</td>\n",
       "      <td>11.406981</td>\n",
       "      <td>CAPIXABA</td>\n",
       "    </tr>\n",
       "    <tr>\n",
       "      <th>2</th>\n",
       "      <td>2018</td>\n",
       "      <td>5.401569</td>\n",
       "      <td>JURUTI</td>\n",
       "    </tr>\n",
       "    <tr>\n",
       "      <th>3</th>\n",
       "      <td>2018</td>\n",
       "      <td>0.536140</td>\n",
       "      <td>NOVA TIMBOTEUA</td>\n",
       "    </tr>\n",
       "    <tr>\n",
       "      <th>4</th>\n",
       "      <td>2018</td>\n",
       "      <td>24.871762</td>\n",
       "      <td>RONDON DO PARÃ</td>\n",
       "    </tr>\n",
       "  </tbody>\n",
       "</table>\n",
       "</div>"
      ],
      "text/plain": [
       "   time       area                      mun\n",
       "0  2018   0.230179  SANTA BÃRBARA DO PARÃ\n",
       "1  2018  11.406981                 CAPIXABA\n",
       "2  2018   5.401569                   JURUTI\n",
       "3  2018   0.536140           NOVA TIMBOTEUA\n",
       "4  2018  24.871762          RONDON DO PARÃ"
      ]
     },
     "execution_count": 16,
     "metadata": {},
     "output_type": "execute_result"
    }
   ],
   "source": [
    "df.head()"
   ]
  },
  {
   "cell_type": "code",
   "execution_count": 17,
   "metadata": {},
   "outputs": [
    {
     "data": {
      "text/html": [
       "<div>\n",
       "<style scoped>\n",
       "    .dataframe tbody tr th:only-of-type {\n",
       "        vertical-align: middle;\n",
       "    }\n",
       "\n",
       "    .dataframe tbody tr th {\n",
       "        vertical-align: top;\n",
       "    }\n",
       "\n",
       "    .dataframe thead th {\n",
       "        text-align: right;\n",
       "    }\n",
       "</style>\n",
       "<table border=\"1\" class=\"dataframe\">\n",
       "  <thead>\n",
       "    <tr style=\"text-align: right;\">\n",
       "      <th></th>\n",
       "      <th>time</th>\n",
       "      <th>area</th>\n",
       "      <th>mun</th>\n",
       "    </tr>\n",
       "  </thead>\n",
       "  <tbody>\n",
       "    <tr>\n",
       "      <th>4960</th>\n",
       "      <td>2008</td>\n",
       "      <td>0.762716</td>\n",
       "      <td>PEQUIZEIRO</td>\n",
       "    </tr>\n",
       "    <tr>\n",
       "      <th>4961</th>\n",
       "      <td>2008</td>\n",
       "      <td>0.246361</td>\n",
       "      <td>ARAPUTANGA</td>\n",
       "    </tr>\n",
       "    <tr>\n",
       "      <th>4962</th>\n",
       "      <td>2008</td>\n",
       "      <td>8.523483</td>\n",
       "      <td>BORBA</td>\n",
       "    </tr>\n",
       "    <tr>\n",
       "      <th>4963</th>\n",
       "      <td>2008</td>\n",
       "      <td>2.839835</td>\n",
       "      <td>FERREIRA GOMES</td>\n",
       "    </tr>\n",
       "    <tr>\n",
       "      <th>4964</th>\n",
       "      <td>2008</td>\n",
       "      <td>76.341075</td>\n",
       "      <td>VILA RICA</td>\n",
       "    </tr>\n",
       "  </tbody>\n",
       "</table>\n",
       "</div>"
      ],
      "text/plain": [
       "      time       area             mun\n",
       "4960  2008   0.762716      PEQUIZEIRO\n",
       "4961  2008   0.246361      ARAPUTANGA\n",
       "4962  2008   8.523483           BORBA\n",
       "4963  2008   2.839835  FERREIRA GOMES\n",
       "4964  2008  76.341075       VILA RICA"
      ]
     },
     "execution_count": 17,
     "metadata": {},
     "output_type": "execute_result"
    }
   ],
   "source": [
    "df.tail()"
   ]
  },
  {
   "cell_type": "code",
   "execution_count": 18,
   "metadata": {},
   "outputs": [
    {
     "name": "stdout",
     "output_type": "stream",
     "text": [
      "<class 'pandas.core.frame.DataFrame'>\n",
      "RangeIndex: 4965 entries, 0 to 4964\n",
      "Data columns (total 3 columns):\n",
      "time    4965 non-null int64\n",
      "area    4965 non-null float64\n",
      "mun     4965 non-null object\n",
      "dtypes: float64(1), int64(1), object(1)\n",
      "memory usage: 116.4+ KB\n"
     ]
    }
   ],
   "source": [
    "df.info()"
   ]
  },
  {
   "cell_type": "code",
   "execution_count": 19,
   "metadata": {},
   "outputs": [
    {
     "data": {
      "text/plain": [
       "['time', 'area', 'mun']"
      ]
     },
     "execution_count": 19,
     "metadata": {},
     "output_type": "execute_result"
    }
   ],
   "source": [
    "list(df.columns)"
   ]
  },
  {
   "cell_type": "code",
   "execution_count": 20,
   "metadata": {},
   "outputs": [],
   "source": [
    "df.rename(columns={'time': 'Ano','area': 'Area', 'mun': 'Municipio'}, inplace=True)"
   ]
  },
  {
   "cell_type": "code",
   "execution_count": 21,
   "metadata": {},
   "outputs": [
    {
     "data": {
      "text/html": [
       "<div>\n",
       "<style scoped>\n",
       "    .dataframe tbody tr th:only-of-type {\n",
       "        vertical-align: middle;\n",
       "    }\n",
       "\n",
       "    .dataframe tbody tr th {\n",
       "        vertical-align: top;\n",
       "    }\n",
       "\n",
       "    .dataframe thead th {\n",
       "        text-align: right;\n",
       "    }\n",
       "</style>\n",
       "<table border=\"1\" class=\"dataframe\">\n",
       "  <thead>\n",
       "    <tr style=\"text-align: right;\">\n",
       "      <th></th>\n",
       "      <th>Ano</th>\n",
       "      <th>Area</th>\n",
       "      <th>Municipio</th>\n",
       "    </tr>\n",
       "  </thead>\n",
       "  <tbody>\n",
       "    <tr>\n",
       "      <th>0</th>\n",
       "      <td>2018</td>\n",
       "      <td>0.230179</td>\n",
       "      <td>SANTA BÃRBARA DO PARÃ</td>\n",
       "    </tr>\n",
       "    <tr>\n",
       "      <th>1</th>\n",
       "      <td>2018</td>\n",
       "      <td>11.406981</td>\n",
       "      <td>CAPIXABA</td>\n",
       "    </tr>\n",
       "    <tr>\n",
       "      <th>2</th>\n",
       "      <td>2018</td>\n",
       "      <td>5.401569</td>\n",
       "      <td>JURUTI</td>\n",
       "    </tr>\n",
       "    <tr>\n",
       "      <th>3</th>\n",
       "      <td>2018</td>\n",
       "      <td>0.536140</td>\n",
       "      <td>NOVA TIMBOTEUA</td>\n",
       "    </tr>\n",
       "    <tr>\n",
       "      <th>4</th>\n",
       "      <td>2018</td>\n",
       "      <td>24.871762</td>\n",
       "      <td>RONDON DO PARÃ</td>\n",
       "    </tr>\n",
       "  </tbody>\n",
       "</table>\n",
       "</div>"
      ],
      "text/plain": [
       "    Ano       Area                Municipio\n",
       "0  2018   0.230179  SANTA BÃRBARA DO PARÃ\n",
       "1  2018  11.406981                 CAPIXABA\n",
       "2  2018   5.401569                   JURUTI\n",
       "3  2018   0.536140           NOVA TIMBOTEUA\n",
       "4  2018  24.871762          RONDON DO PARÃ"
      ]
     },
     "execution_count": 21,
     "metadata": {},
     "output_type": "execute_result"
    }
   ],
   "source": [
    "df.head()"
   ]
  },
  {
   "cell_type": "markdown",
   "metadata": {},
   "source": [
    "## Desmatamento - Ano x Area"
   ]
  },
  {
   "cell_type": "code",
   "execution_count": 22,
   "metadata": {},
   "outputs": [],
   "source": [
    "AnosGroups = df.groupby(\"Ano\")[\"Area\"].sum().reset_index()"
   ]
  },
  {
   "cell_type": "code",
   "execution_count": 23,
   "metadata": {},
   "outputs": [
    {
     "data": {
      "text/html": [
       "<div>\n",
       "<style scoped>\n",
       "    .dataframe tbody tr th:only-of-type {\n",
       "        vertical-align: middle;\n",
       "    }\n",
       "\n",
       "    .dataframe tbody tr th {\n",
       "        vertical-align: top;\n",
       "    }\n",
       "\n",
       "    .dataframe thead th {\n",
       "        text-align: right;\n",
       "    }\n",
       "</style>\n",
       "<table border=\"1\" class=\"dataframe\">\n",
       "  <thead>\n",
       "    <tr style=\"text-align: right;\">\n",
       "      <th></th>\n",
       "      <th>Ano</th>\n",
       "      <th>Area</th>\n",
       "    </tr>\n",
       "  </thead>\n",
       "  <tbody>\n",
       "    <tr>\n",
       "      <th>10</th>\n",
       "      <td>2018</td>\n",
       "      <td>7032.589550</td>\n",
       "    </tr>\n",
       "    <tr>\n",
       "      <th>9</th>\n",
       "      <td>2017</td>\n",
       "      <td>6670.476889</td>\n",
       "    </tr>\n",
       "    <tr>\n",
       "      <th>8</th>\n",
       "      <td>2016</td>\n",
       "      <td>7004.365140</td>\n",
       "    </tr>\n",
       "    <tr>\n",
       "      <th>7</th>\n",
       "      <td>2015</td>\n",
       "      <td>5813.024490</td>\n",
       "    </tr>\n",
       "    <tr>\n",
       "      <th>6</th>\n",
       "      <td>2014</td>\n",
       "      <td>4834.803785</td>\n",
       "    </tr>\n",
       "    <tr>\n",
       "      <th>5</th>\n",
       "      <td>2013</td>\n",
       "      <td>5088.228148</td>\n",
       "    </tr>\n",
       "    <tr>\n",
       "      <th>4</th>\n",
       "      <td>2012</td>\n",
       "      <td>4088.795354</td>\n",
       "    </tr>\n",
       "    <tr>\n",
       "      <th>3</th>\n",
       "      <td>2011</td>\n",
       "      <td>5326.988476</td>\n",
       "    </tr>\n",
       "    <tr>\n",
       "      <th>2</th>\n",
       "      <td>2010</td>\n",
       "      <td>5819.288562</td>\n",
       "    </tr>\n",
       "    <tr>\n",
       "      <th>1</th>\n",
       "      <td>2009</td>\n",
       "      <td>5845.057714</td>\n",
       "    </tr>\n",
       "    <tr>\n",
       "      <th>0</th>\n",
       "      <td>2008</td>\n",
       "      <td>12286.346202</td>\n",
       "    </tr>\n",
       "  </tbody>\n",
       "</table>\n",
       "</div>"
      ],
      "text/plain": [
       "     Ano          Area\n",
       "10  2018   7032.589550\n",
       "9   2017   6670.476889\n",
       "8   2016   7004.365140\n",
       "7   2015   5813.024490\n",
       "6   2014   4834.803785\n",
       "5   2013   5088.228148\n",
       "4   2012   4088.795354\n",
       "3   2011   5326.988476\n",
       "2   2010   5819.288562\n",
       "1   2009   5845.057714\n",
       "0   2008  12286.346202"
      ]
     },
     "execution_count": 23,
     "metadata": {},
     "output_type": "execute_result"
    }
   ],
   "source": [
    "AnosGroups.sort_values(by= \"Ano\", ascending=False)"
   ]
  },
  {
   "cell_type": "code",
   "execution_count": 24,
   "metadata": {},
   "outputs": [
    {
     "data": {
      "image/png": "[encoded data removed]",
      "text/plain": [
       "<Figure size 720x360 with 1 Axes>"
      ]
     },
     "metadata": {
      "needs_background": "light"
     },
     "output_type": "display_data"
    }
   ],
   "source": [
    "plt.figure(figsize=(10,5))\n",
    "plt.title(\"Total Desmatado entre 2008 e 2018\")\n",
    "sns.barplot(x=\"Ano\", y=\"Area\", data=AnosGroups);"
   ]
  },
  {
   "cell_type": "markdown",
   "metadata": {},
   "source": [
    "## Municipos mais desmatados por KM2"
   ]
  },
  {
   "cell_type": "code",
   "execution_count": 25,
   "metadata": {},
   "outputs": [],
   "source": [
    "MunicipiosGroups = df.groupby(\"Municipio\")[\"Area\"].sum().reset_index()"
   ]
  },
  {
   "cell_type": "code",
   "execution_count": 26,
   "metadata": {},
   "outputs": [
    {
     "data": {
      "text/html": [
       "<div>\n",
       "<style scoped>\n",
       "    .dataframe tbody tr th:only-of-type {\n",
       "        vertical-align: middle;\n",
       "    }\n",
       "\n",
       "    .dataframe tbody tr th {\n",
       "        vertical-align: top;\n",
       "    }\n",
       "\n",
       "    .dataframe thead th {\n",
       "        text-align: right;\n",
       "    }\n",
       "</style>\n",
       "<table border=\"1\" class=\"dataframe\">\n",
       "  <thead>\n",
       "    <tr style=\"text-align: right;\">\n",
       "      <th></th>\n",
       "      <th>Municipio</th>\n",
       "      <th>Area</th>\n",
       "    </tr>\n",
       "  </thead>\n",
       "  <tbody>\n",
       "    <tr>\n",
       "      <th>10</th>\n",
       "      <td>ALTAMIRA</td>\n",
       "      <td>3365.799515</td>\n",
       "    </tr>\n",
       "    <tr>\n",
       "      <th>438</th>\n",
       "      <td>SÃO FÃLIX DO XINGU</td>\n",
       "      <td>3261.067060</td>\n",
       "    </tr>\n",
       "    <tr>\n",
       "      <th>361</th>\n",
       "      <td>PORTO VELHO</td>\n",
       "      <td>2801.910405</td>\n",
       "    </tr>\n",
       "    <tr>\n",
       "      <th>315</th>\n",
       "      <td>NOVO REPARTIMENTO</td>\n",
       "      <td>2108.676842</td>\n",
       "    </tr>\n",
       "    <tr>\n",
       "      <th>244</th>\n",
       "      <td>LÃBREA</td>\n",
       "      <td>1698.109124</td>\n",
       "    </tr>\n",
       "    <tr>\n",
       "      <th>139</th>\n",
       "      <td>COLNIZA</td>\n",
       "      <td>1629.726858</td>\n",
       "    </tr>\n",
       "    <tr>\n",
       "      <th>322</th>\n",
       "      <td>PACAJÃ</td>\n",
       "      <td>1588.124837</td>\n",
       "    </tr>\n",
       "    <tr>\n",
       "      <th>314</th>\n",
       "      <td>NOVO PROGRESSO</td>\n",
       "      <td>1573.218293</td>\n",
       "    </tr>\n",
       "    <tr>\n",
       "      <th>212</th>\n",
       "      <td>ITAITUBA</td>\n",
       "      <td>1277.943209</td>\n",
       "    </tr>\n",
       "    <tr>\n",
       "      <th>296</th>\n",
       "      <td>NOVA MAMORÃ</td>\n",
       "      <td>1187.542814</td>\n",
       "    </tr>\n",
       "  </tbody>\n",
       "</table>\n",
       "</div>"
      ],
      "text/plain": [
       "                Municipio         Area\n",
       "10               ALTAMIRA  3365.799515\n",
       "438  SÃO FÃLIX DO XINGU  3261.067060\n",
       "361           PORTO VELHO  2801.910405\n",
       "315     NOVO REPARTIMENTO  2108.676842\n",
       "244               LÃBREA  1698.109124\n",
       "139               COLNIZA  1629.726858\n",
       "322               PACAJÃ  1588.124837\n",
       "314        NOVO PROGRESSO  1573.218293\n",
       "212              ITAITUBA  1277.943209\n",
       "296          NOVA MAMORÃ  1187.542814"
      ]
     },
     "execution_count": 26,
     "metadata": {},
     "output_type": "execute_result"
    }
   ],
   "source": [
    "MunicipiosGroups.sort_values(by= \"Area\", ascending=False).head(10)"
   ]
  },
  {
   "cell_type": "code",
   "execution_count": 27,
   "metadata": {},
   "outputs": [],
   "source": [
    "df.Municipio.replace({'SÃO FÃLIX DO XINGU':'SÃO FÉLIX DO XINGU',\n",
    "                     'LÃBREA':'LABREA'}, regex=True, inplace=True)"
   ]
  },
  {
   "cell_type": "code",
   "execution_count": 28,
   "metadata": {},
   "outputs": [],
   "source": [
    "MunicipiosGroups = df.groupby(\"Municipio\")[\"Area\"].sum().reset_index()"
   ]
  },
  {
   "cell_type": "code",
   "execution_count": 29,
   "metadata": {},
   "outputs": [
    {
     "data": {
      "text/html": [
       "<div>\n",
       "<style scoped>\n",
       "    .dataframe tbody tr th:only-of-type {\n",
       "        vertical-align: middle;\n",
       "    }\n",
       "\n",
       "    .dataframe tbody tr th {\n",
       "        vertical-align: top;\n",
       "    }\n",
       "\n",
       "    .dataframe thead th {\n",
       "        text-align: right;\n",
       "    }\n",
       "</style>\n",
       "<table border=\"1\" class=\"dataframe\">\n",
       "  <thead>\n",
       "    <tr style=\"text-align: right;\">\n",
       "      <th></th>\n",
       "      <th>Municipio</th>\n",
       "      <th>Area</th>\n",
       "    </tr>\n",
       "  </thead>\n",
       "  <tbody>\n",
       "    <tr>\n",
       "      <th>10</th>\n",
       "      <td>ALTAMIRA</td>\n",
       "      <td>3365.799515</td>\n",
       "    </tr>\n",
       "    <tr>\n",
       "      <th>429</th>\n",
       "      <td>SÃO FÉLIX DO XINGU</td>\n",
       "      <td>3261.067060</td>\n",
       "    </tr>\n",
       "    <tr>\n",
       "      <th>361</th>\n",
       "      <td>PORTO VELHO</td>\n",
       "      <td>2801.910405</td>\n",
       "    </tr>\n",
       "    <tr>\n",
       "      <th>315</th>\n",
       "      <td>NOVO REPARTIMENTO</td>\n",
       "      <td>2108.676842</td>\n",
       "    </tr>\n",
       "    <tr>\n",
       "      <th>239</th>\n",
       "      <td>LABREA</td>\n",
       "      <td>1698.109124</td>\n",
       "    </tr>\n",
       "    <tr>\n",
       "      <th>139</th>\n",
       "      <td>COLNIZA</td>\n",
       "      <td>1629.726858</td>\n",
       "    </tr>\n",
       "    <tr>\n",
       "      <th>322</th>\n",
       "      <td>PACAJÃ</td>\n",
       "      <td>1588.124837</td>\n",
       "    </tr>\n",
       "    <tr>\n",
       "      <th>314</th>\n",
       "      <td>NOVO PROGRESSO</td>\n",
       "      <td>1573.218293</td>\n",
       "    </tr>\n",
       "    <tr>\n",
       "      <th>212</th>\n",
       "      <td>ITAITUBA</td>\n",
       "      <td>1277.943209</td>\n",
       "    </tr>\n",
       "    <tr>\n",
       "      <th>296</th>\n",
       "      <td>NOVA MAMORÃ</td>\n",
       "      <td>1187.542814</td>\n",
       "    </tr>\n",
       "  </tbody>\n",
       "</table>\n",
       "</div>"
      ],
      "text/plain": [
       "              Municipio         Area\n",
       "10             ALTAMIRA  3365.799515\n",
       "429  SÃO FÉLIX DO XINGU  3261.067060\n",
       "361         PORTO VELHO  2801.910405\n",
       "315   NOVO REPARTIMENTO  2108.676842\n",
       "239              LABREA  1698.109124\n",
       "139             COLNIZA  1629.726858\n",
       "322             PACAJÃ  1588.124837\n",
       "314      NOVO PROGRESSO  1573.218293\n",
       "212            ITAITUBA  1277.943209\n",
       "296        NOVA MAMORÃ  1187.542814"
      ]
     },
     "execution_count": 29,
     "metadata": {},
     "output_type": "execute_result"
    }
   ],
   "source": [
    "MunicipiosGroups.sort_values(by= \"Area\", ascending=False).head(10)"
   ]
  },
  {
   "cell_type": "code",
   "execution_count": 30,
   "metadata": {},
   "outputs": [],
   "source": [
    "Top_Ten = MunicipiosGroups.sort_values(by= \"Area\", ascending=False).head(10)"
   ]
  },
  {
   "cell_type": "code",
   "execution_count": 31,
   "metadata": {},
   "outputs": [
    {
     "data": {
      "text/html": [
       "<div>\n",
       "<style scoped>\n",
       "    .dataframe tbody tr th:only-of-type {\n",
       "        vertical-align: middle;\n",
       "    }\n",
       "\n",
       "    .dataframe tbody tr th {\n",
       "        vertical-align: top;\n",
       "    }\n",
       "\n",
       "    .dataframe thead th {\n",
       "        text-align: right;\n",
       "    }\n",
       "</style>\n",
       "<table border=\"1\" class=\"dataframe\">\n",
       "  <thead>\n",
       "    <tr style=\"text-align: right;\">\n",
       "      <th></th>\n",
       "      <th>Municipio</th>\n",
       "      <th>Area</th>\n",
       "    </tr>\n",
       "  </thead>\n",
       "  <tbody>\n",
       "    <tr>\n",
       "      <th>10</th>\n",
       "      <td>ALTAMIRA</td>\n",
       "      <td>3365.799515</td>\n",
       "    </tr>\n",
       "    <tr>\n",
       "      <th>429</th>\n",
       "      <td>SÃO FÉLIX DO XINGU</td>\n",
       "      <td>3261.067060</td>\n",
       "    </tr>\n",
       "    <tr>\n",
       "      <th>361</th>\n",
       "      <td>PORTO VELHO</td>\n",
       "      <td>2801.910405</td>\n",
       "    </tr>\n",
       "    <tr>\n",
       "      <th>315</th>\n",
       "      <td>NOVO REPARTIMENTO</td>\n",
       "      <td>2108.676842</td>\n",
       "    </tr>\n",
       "    <tr>\n",
       "      <th>239</th>\n",
       "      <td>LABREA</td>\n",
       "      <td>1698.109124</td>\n",
       "    </tr>\n",
       "    <tr>\n",
       "      <th>139</th>\n",
       "      <td>COLNIZA</td>\n",
       "      <td>1629.726858</td>\n",
       "    </tr>\n",
       "    <tr>\n",
       "      <th>322</th>\n",
       "      <td>PACAJÃ</td>\n",
       "      <td>1588.124837</td>\n",
       "    </tr>\n",
       "    <tr>\n",
       "      <th>314</th>\n",
       "      <td>NOVO PROGRESSO</td>\n",
       "      <td>1573.218293</td>\n",
       "    </tr>\n",
       "    <tr>\n",
       "      <th>212</th>\n",
       "      <td>ITAITUBA</td>\n",
       "      <td>1277.943209</td>\n",
       "    </tr>\n",
       "    <tr>\n",
       "      <th>296</th>\n",
       "      <td>NOVA MAMORÃ</td>\n",
       "      <td>1187.542814</td>\n",
       "    </tr>\n",
       "  </tbody>\n",
       "</table>\n",
       "</div>"
      ],
      "text/plain": [
       "              Municipio         Area\n",
       "10             ALTAMIRA  3365.799515\n",
       "429  SÃO FÉLIX DO XINGU  3261.067060\n",
       "361         PORTO VELHO  2801.910405\n",
       "315   NOVO REPARTIMENTO  2108.676842\n",
       "239              LABREA  1698.109124\n",
       "139             COLNIZA  1629.726858\n",
       "322             PACAJÃ  1588.124837\n",
       "314      NOVO PROGRESSO  1573.218293\n",
       "212            ITAITUBA  1277.943209\n",
       "296        NOVA MAMORÃ  1187.542814"
      ]
     },
     "execution_count": 31,
     "metadata": {},
     "output_type": "execute_result"
    }
   ],
   "source": [
    "Top_Ten"
   ]
  },
  {
   "cell_type": "code",
   "execution_count": 32,
   "metadata": {},
   "outputs": [
    {
     "data": {
      "image/png": "[encoded data removed]",
      "text/plain": [
       "<Figure size 1800x720 with 1 Axes>"
      ]
     },
     "metadata": {
      "needs_background": "light"
     },
     "output_type": "display_data"
    }
   ],
   "source": [
    "plt.figure(figsize=(25,10))\n",
    "plt.title(\"Municípios mais desmatados entre 2008 e 2018\")\n",
    "sns.barplot(x=\"Municipio\", y=\"Area\", data=Top_Ten);"
   ]
  },
  {
   "cell_type": "code",
   "execution_count": 33,
   "metadata": {},
   "outputs": [
    {
     "data": {
      "text/html": [
       "<div>\n",
       "<style scoped>\n",
       "    .dataframe tbody tr th:only-of-type {\n",
       "        vertical-align: middle;\n",
       "    }\n",
       "\n",
       "    .dataframe tbody tr th {\n",
       "        vertical-align: top;\n",
       "    }\n",
       "\n",
       "    .dataframe thead th {\n",
       "        text-align: right;\n",
       "    }\n",
       "</style>\n",
       "<table border=\"1\" class=\"dataframe\">\n",
       "  <thead>\n",
       "    <tr style=\"text-align: right;\">\n",
       "      <th></th>\n",
       "      <th>Ano</th>\n",
       "      <th>Area</th>\n",
       "      <th>Municipio</th>\n",
       "    </tr>\n",
       "  </thead>\n",
       "  <tbody>\n",
       "    <tr>\n",
       "      <th>341</th>\n",
       "      <td>2018</td>\n",
       "      <td>433.359241</td>\n",
       "      <td>ALTAMIRA</td>\n",
       "    </tr>\n",
       "    <tr>\n",
       "      <th>791</th>\n",
       "      <td>2017</td>\n",
       "      <td>223.587612</td>\n",
       "      <td>ALTAMIRA</td>\n",
       "    </tr>\n",
       "    <tr>\n",
       "      <th>1241</th>\n",
       "      <td>2016</td>\n",
       "      <td>408.696760</td>\n",
       "      <td>ALTAMIRA</td>\n",
       "    </tr>\n",
       "    <tr>\n",
       "      <th>1661</th>\n",
       "      <td>2015</td>\n",
       "      <td>307.829824</td>\n",
       "      <td>ALTAMIRA</td>\n",
       "    </tr>\n",
       "    <tr>\n",
       "      <th>2113</th>\n",
       "      <td>2014</td>\n",
       "      <td>294.262987</td>\n",
       "      <td>ALTAMIRA</td>\n",
       "    </tr>\n",
       "    <tr>\n",
       "      <th>2550</th>\n",
       "      <td>2013</td>\n",
       "      <td>296.542895</td>\n",
       "      <td>ALTAMIRA</td>\n",
       "    </tr>\n",
       "    <tr>\n",
       "      <th>2981</th>\n",
       "      <td>2012</td>\n",
       "      <td>228.908231</td>\n",
       "      <td>ALTAMIRA</td>\n",
       "    </tr>\n",
       "    <tr>\n",
       "      <th>3436</th>\n",
       "      <td>2011</td>\n",
       "      <td>249.970171</td>\n",
       "      <td>ALTAMIRA</td>\n",
       "    </tr>\n",
       "    <tr>\n",
       "      <th>3909</th>\n",
       "      <td>2010</td>\n",
       "      <td>193.940225</td>\n",
       "      <td>ALTAMIRA</td>\n",
       "    </tr>\n",
       "    <tr>\n",
       "      <th>4378</th>\n",
       "      <td>2009</td>\n",
       "      <td>389.206938</td>\n",
       "      <td>ALTAMIRA</td>\n",
       "    </tr>\n",
       "    <tr>\n",
       "      <th>4863</th>\n",
       "      <td>2008</td>\n",
       "      <td>339.494633</td>\n",
       "      <td>ALTAMIRA</td>\n",
       "    </tr>\n",
       "  </tbody>\n",
       "</table>\n",
       "</div>"
      ],
      "text/plain": [
       "       Ano        Area Municipio\n",
       "341   2018  433.359241  ALTAMIRA\n",
       "791   2017  223.587612  ALTAMIRA\n",
       "1241  2016  408.696760  ALTAMIRA\n",
       "1661  2015  307.829824  ALTAMIRA\n",
       "2113  2014  294.262987  ALTAMIRA\n",
       "2550  2013  296.542895  ALTAMIRA\n",
       "2981  2012  228.908231  ALTAMIRA\n",
       "3436  2011  249.970171  ALTAMIRA\n",
       "3909  2010  193.940225  ALTAMIRA\n",
       "4378  2009  389.206938  ALTAMIRA\n",
       "4863  2008  339.494633  ALTAMIRA"
      ]
     },
     "execution_count": 33,
     "metadata": {},
     "output_type": "execute_result"
    }
   ],
   "source": [
    "Altamira = df[df.Municipio == 'ALTAMIRA']\n",
    "Altamira"
   ]
  },
  {
   "cell_type": "code",
   "execution_count": 34,
   "metadata": {},
   "outputs": [
    {
     "data": {
      "image/png": "[encoded data removed]",
      "text/plain": [
       "<Figure size 720x360 with 1 Axes>"
      ]
     },
     "metadata": {
      "needs_background": "light"
     },
     "output_type": "display_data"
    }
   ],
   "source": [
    "plt.figure(figsize=(10,5))\n",
    "plt.title(\"Total de Áreas (KM) Desmatadas em Altamira entre 2008 e 2018\")\n",
    "sns.barplot(x=\"Ano\", y=\"Area\", data=Altamira);"
   ]
  },
  {
   "cell_type": "code",
   "execution_count": 35,
   "metadata": {},
   "outputs": [
    {
     "data": {
      "text/html": [
       "<div>\n",
       "<style scoped>\n",
       "    .dataframe tbody tr th:only-of-type {\n",
       "        vertical-align: middle;\n",
       "    }\n",
       "\n",
       "    .dataframe tbody tr th {\n",
       "        vertical-align: top;\n",
       "    }\n",
       "\n",
       "    .dataframe thead th {\n",
       "        text-align: right;\n",
       "    }\n",
       "</style>\n",
       "<table border=\"1\" class=\"dataframe\">\n",
       "  <thead>\n",
       "    <tr style=\"text-align: right;\">\n",
       "      <th></th>\n",
       "      <th>Ano</th>\n",
       "      <th>Area</th>\n",
       "      <th>Municipio</th>\n",
       "    </tr>\n",
       "  </thead>\n",
       "  <tbody>\n",
       "    <tr>\n",
       "      <th>242</th>\n",
       "      <td>2018</td>\n",
       "      <td>282.100349</td>\n",
       "      <td>SÃO FÉLIX DO XINGU</td>\n",
       "    </tr>\n",
       "    <tr>\n",
       "      <th>688</th>\n",
       "      <td>2017</td>\n",
       "      <td>236.685057</td>\n",
       "      <td>SÃO FÉLIX DO XINGU</td>\n",
       "    </tr>\n",
       "    <tr>\n",
       "      <th>1143</th>\n",
       "      <td>2016</td>\n",
       "      <td>314.625150</td>\n",
       "      <td>SÃO FÉLIX DO XINGU</td>\n",
       "    </tr>\n",
       "    <tr>\n",
       "      <th>1555</th>\n",
       "      <td>2015</td>\n",
       "      <td>199.337304</td>\n",
       "      <td>SÃO FÉLIX DO XINGU</td>\n",
       "    </tr>\n",
       "    <tr>\n",
       "      <th>2012</th>\n",
       "      <td>2014</td>\n",
       "      <td>152.482120</td>\n",
       "      <td>SÃO FÉLIX DO XINGU</td>\n",
       "    </tr>\n",
       "    <tr>\n",
       "      <th>2455</th>\n",
       "      <td>2013</td>\n",
       "      <td>220.771803</td>\n",
       "      <td>SÃO FÉLIX DO XINGU</td>\n",
       "    </tr>\n",
       "    <tr>\n",
       "      <th>2875</th>\n",
       "      <td>2012</td>\n",
       "      <td>167.598147</td>\n",
       "      <td>SÃO FÉLIX DO XINGU</td>\n",
       "    </tr>\n",
       "    <tr>\n",
       "      <th>3359</th>\n",
       "      <td>2011</td>\n",
       "      <td>139.289527</td>\n",
       "      <td>SÃO FÉLIX DO XINGU</td>\n",
       "    </tr>\n",
       "    <tr>\n",
       "      <th>3844</th>\n",
       "      <td>2010</td>\n",
       "      <td>349.323879</td>\n",
       "      <td>SÃO FÉLIX DO XINGU</td>\n",
       "    </tr>\n",
       "    <tr>\n",
       "      <th>4288</th>\n",
       "      <td>2009</td>\n",
       "      <td>439.573858</td>\n",
       "      <td>SÃO FÉLIX DO XINGU</td>\n",
       "    </tr>\n",
       "    <tr>\n",
       "      <th>4797</th>\n",
       "      <td>2008</td>\n",
       "      <td>759.279867</td>\n",
       "      <td>SÃO FÉLIX DO XINGU</td>\n",
       "    </tr>\n",
       "  </tbody>\n",
       "</table>\n",
       "</div>"
      ],
      "text/plain": [
       "       Ano        Area           Municipio\n",
       "242   2018  282.100349  SÃO FÉLIX DO XINGU\n",
       "688   2017  236.685057  SÃO FÉLIX DO XINGU\n",
       "1143  2016  314.625150  SÃO FÉLIX DO XINGU\n",
       "1555  2015  199.337304  SÃO FÉLIX DO XINGU\n",
       "2012  2014  152.482120  SÃO FÉLIX DO XINGU\n",
       "2455  2013  220.771803  SÃO FÉLIX DO XINGU\n",
       "2875  2012  167.598147  SÃO FÉLIX DO XINGU\n",
       "3359  2011  139.289527  SÃO FÉLIX DO XINGU\n",
       "3844  2010  349.323879  SÃO FÉLIX DO XINGU\n",
       "4288  2009  439.573858  SÃO FÉLIX DO XINGU\n",
       "4797  2008  759.279867  SÃO FÉLIX DO XINGU"
      ]
     },
     "execution_count": 35,
     "metadata": {},
     "output_type": "execute_result"
    }
   ],
   "source": [
    "SFX = df[df.Municipio == 'SÃO FÉLIX DO XINGU']\n",
    "SFX"
   ]
  },
  {
   "cell_type": "code",
   "execution_count": 36,
   "metadata": {},
   "outputs": [
    {
     "data": {
      "image/png": "[encoded data removed]",
      "text/plain": [
       "<Figure size 720x360 with 1 Axes>"
      ]
     },
     "metadata": {
      "needs_background": "light"
     },
     "output_type": "display_data"
    }
   ],
   "source": [
    "plt.figure(figsize=(10,5))\n",
    "plt.title(\"Total de Áreas (KM) Desmatadas em São Félix do Xingu entre 2008 e 2018\")\n",
    "sns.barplot(x=\"Ano\", y=\"Area\", data=SFX);"
   ]
  }
 ],
 "metadata": {
  "kernelspec": {
   "display_name": "Python 3",
   "language": "python",
   "name": "python3"
  },
  "language_info": {
   "codemirror_mode": {
    "name": "ipython",
    "version": 3
   },
   "file_extension": ".py",
   "mimetype": "text/x-python",
   "name": "python",
   "nbconvert_exporter": "python",
   "pygments_lexer": "ipython3",
   "version": "3.7.1"
  }
 },
 "nbformat": 4,
 "nbformat_minor": 2
}
