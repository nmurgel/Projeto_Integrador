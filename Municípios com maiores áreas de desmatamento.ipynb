{
 "cells": [
  {
   "cell_type": "code",
   "execution_count": 41,
   "metadata": {},
   "outputs": [],
   "source": [
    "import pandas as pd \n",
    "import warnings\n",
    "warnings.filterwarnings(\"ignore\")"
   ]
  },
  {
   "cell_type": "code",
   "execution_count": 31,
   "metadata": {},
   "outputs": [],
   "source": [
    "# Municipios com maiores áreas de desmatamento\n",
    "\n",
    "df = pd.read_csv('deterb_16_7_2019 (1).csv', encoding='latin', delimiter=',')"
   ]
  },
  {
   "cell_type": "code",
   "execution_count": 5,
   "metadata": {},
   "outputs": [
    {
     "data": {
      "text/html": [
       "<div>\n",
       "<style scoped>\n",
       "    .dataframe tbody tr th:only-of-type {\n",
       "        vertical-align: middle;\n",
       "    }\n",
       "\n",
       "    .dataframe tbody tr th {\n",
       "        vertical-align: top;\n",
       "    }\n",
       "\n",
       "    .dataframe thead th {\n",
       "        text-align: right;\n",
       "    }\n",
       "</style>\n",
       "<table border=\"1\" class=\"dataframe\">\n",
       "  <thead>\n",
       "    <tr style=\"text-align: right;\">\n",
       "      <th></th>\n",
       "      <th>date</th>\n",
       "      <th>areaMunKm</th>\n",
       "      <th>areaUcKm</th>\n",
       "      <th>uc</th>\n",
       "      <th>uf</th>\n",
       "      <th>municipio</th>\n",
       "    </tr>\n",
       "  </thead>\n",
       "  <tbody>\n",
       "    <tr>\n",
       "      <th>0</th>\n",
       "      <td>17/05/2019</td>\n",
       "      <td>0.2287</td>\n",
       "      <td>0.0</td>\n",
       "      <td>NaN</td>\n",
       "      <td>MT</td>\n",
       "      <td>Brasnorte</td>\n",
       "    </tr>\n",
       "    <tr>\n",
       "      <th>1</th>\n",
       "      <td>17/05/2019</td>\n",
       "      <td>0.0906</td>\n",
       "      <td>0.0</td>\n",
       "      <td>NaN</td>\n",
       "      <td>MT</td>\n",
       "      <td>Brasnorte</td>\n",
       "    </tr>\n",
       "    <tr>\n",
       "      <th>2</th>\n",
       "      <td>18/05/2019</td>\n",
       "      <td>0.5868</td>\n",
       "      <td>0.0</td>\n",
       "      <td>NaN</td>\n",
       "      <td>PA</td>\n",
       "      <td>Pacaja</td>\n",
       "    </tr>\n",
       "    <tr>\n",
       "      <th>3</th>\n",
       "      <td>17/05/2019</td>\n",
       "      <td>4.2491</td>\n",
       "      <td>0.0</td>\n",
       "      <td>NaN</td>\n",
       "      <td>MT</td>\n",
       "      <td>Nova Maringa</td>\n",
       "    </tr>\n",
       "    <tr>\n",
       "      <th>4</th>\n",
       "      <td>17/05/2019</td>\n",
       "      <td>0.5332</td>\n",
       "      <td>0.0</td>\n",
       "      <td>NaN</td>\n",
       "      <td>MT</td>\n",
       "      <td>Aripuana</td>\n",
       "    </tr>\n",
       "  </tbody>\n",
       "</table>\n",
       "</div>"
      ],
      "text/plain": [
       "         date  areaMunKm  areaUcKm   uc  uf     municipio\n",
       "0  17/05/2019     0.2287       0.0  NaN  MT     Brasnorte\n",
       "1  17/05/2019     0.0906       0.0  NaN  MT     Brasnorte\n",
       "2  18/05/2019     0.5868       0.0  NaN  PA        Pacaja\n",
       "3  17/05/2019     4.2491       0.0  NaN  MT  Nova Maringa\n",
       "4  17/05/2019     0.5332       0.0  NaN  MT      Aripuana"
      ]
     },
     "execution_count": 5,
     "metadata": {},
     "output_type": "execute_result"
    }
   ],
   "source": [
    "df.head()"
   ]
  },
  {
   "cell_type": "code",
   "execution_count": 39,
   "metadata": {},
   "outputs": [
    {
     "data": {
      "text/html": [
       "<div>\n",
       "<style scoped>\n",
       "    .dataframe tbody tr th:only-of-type {\n",
       "        vertical-align: middle;\n",
       "    }\n",
       "\n",
       "    .dataframe tbody tr th {\n",
       "        vertical-align: top;\n",
       "    }\n",
       "\n",
       "    .dataframe thead th {\n",
       "        text-align: right;\n",
       "    }\n",
       "</style>\n",
       "<table border=\"1\" class=\"dataframe\">\n",
       "  <thead>\n",
       "    <tr style=\"text-align: right;\">\n",
       "      <th></th>\n",
       "      <th>date</th>\n",
       "      <th>areaMunKm</th>\n",
       "      <th>areaUcKm</th>\n",
       "      <th>uc</th>\n",
       "      <th>uf</th>\n",
       "      <th>municipio</th>\n",
       "    </tr>\n",
       "  </thead>\n",
       "  <tbody>\n",
       "    <tr>\n",
       "      <th>39160</th>\n",
       "      <td>24/10/2018</td>\n",
       "      <td>0.2454</td>\n",
       "      <td>0.0</td>\n",
       "      <td>NaN</td>\n",
       "      <td>PA</td>\n",
       "      <td>Prainha</td>\n",
       "    </tr>\n",
       "    <tr>\n",
       "      <th>39161</th>\n",
       "      <td>17/11/2018</td>\n",
       "      <td>0.0067</td>\n",
       "      <td>0.0</td>\n",
       "      <td>NaN</td>\n",
       "      <td>PA</td>\n",
       "      <td>Portel</td>\n",
       "    </tr>\n",
       "    <tr>\n",
       "      <th>39162</th>\n",
       "      <td>16/08/2018</td>\n",
       "      <td>0.0078</td>\n",
       "      <td>0.0</td>\n",
       "      <td>NaN</td>\n",
       "      <td>PA</td>\n",
       "      <td>Aveiro</td>\n",
       "    </tr>\n",
       "    <tr>\n",
       "      <th>39163</th>\n",
       "      <td>12/09/2018</td>\n",
       "      <td>0.2091</td>\n",
       "      <td>0.0</td>\n",
       "      <td>NaN</td>\n",
       "      <td>AM</td>\n",
       "      <td>Ipixuna</td>\n",
       "    </tr>\n",
       "    <tr>\n",
       "      <th>39164</th>\n",
       "      <td>15/10/2018</td>\n",
       "      <td>0.1401</td>\n",
       "      <td>0.0</td>\n",
       "      <td>NaN</td>\n",
       "      <td>RO</td>\n",
       "      <td>Porto Velho</td>\n",
       "    </tr>\n",
       "  </tbody>\n",
       "</table>\n",
       "</div>"
      ],
      "text/plain": [
       "             date  areaMunKm  areaUcKm   uc  uf    municipio\n",
       "39160  24/10/2018     0.2454       0.0  NaN  PA      Prainha\n",
       "39161  17/11/2018     0.0067       0.0  NaN  PA       Portel\n",
       "39162  16/08/2018     0.0078       0.0  NaN  PA       Aveiro\n",
       "39163  12/09/2018     0.2091       0.0  NaN  AM      Ipixuna\n",
       "39164  15/10/2018     0.1401       0.0  NaN  RO  Porto Velho"
      ]
     },
     "execution_count": 39,
     "metadata": {},
     "output_type": "execute_result"
    }
   ],
   "source": [
    "df.tail()"
   ]
  },
  {
   "cell_type": "code",
   "execution_count": 6,
   "metadata": {},
   "outputs": [
    {
     "data": {
      "text/plain": [
       "Index(['date', 'areaMunKm', 'areaUcKm', 'uc', 'uf', 'municipio'], dtype='object')"
      ]
     },
     "execution_count": 6,
     "metadata": {},
     "output_type": "execute_result"
    }
   ],
   "source": [
    "df.columns"
   ]
  },
  {
   "cell_type": "code",
   "execution_count": 7,
   "metadata": {},
   "outputs": [
    {
     "name": "stdout",
     "output_type": "stream",
     "text": [
      "<class 'pandas.core.frame.DataFrame'>\n",
      "RangeIndex: 39165 entries, 0 to 39164\n",
      "Data columns (total 6 columns):\n",
      "date         39165 non-null object\n",
      "areaMunKm    39165 non-null float64\n",
      "areaUcKm     39165 non-null float64\n",
      "uc           1942 non-null object\n",
      "uf           39165 non-null object\n",
      "municipio    39165 non-null object\n",
      "dtypes: float64(2), object(4)\n",
      "memory usage: 1.8+ MB\n"
     ]
    }
   ],
   "source": [
    "df.info()"
   ]
  },
  {
   "cell_type": "markdown",
   "metadata": {},
   "source": [
    "# Municipio com maiores áreas de Desmatamento"
   ]
  },
  {
   "cell_type": "code",
   "execution_count": 13,
   "metadata": {},
   "outputs": [
    {
     "data": {
      "text/plain": [
       "Sao Felix do Xingu       1766\n",
       "Porto Velho              1491\n",
       "Altamira                 1428\n",
       "Pacaja                   1234\n",
       "Labrea                   1095\n",
       "Itaituba                  969\n",
       "Apui                      924\n",
       "Portel                    749\n",
       "Colniza                   735\n",
       "Senador Jose Porfirio     661\n",
       "Name: municipio, dtype: int64"
      ]
     },
     "execution_count": 13,
     "metadata": {},
     "output_type": "execute_result"
    }
   ],
   "source": [
    "df['municipio'].value_counts(dropna=False).nlargest(10)"
   ]
  },
  {
   "cell_type": "markdown",
   "metadata": {},
   "source": [
    "# Alertas por Estados"
   ]
  },
  {
   "cell_type": "code",
   "execution_count": 35,
   "metadata": {},
   "outputs": [
    {
     "data": {
      "text/plain": [
       "PA    13363\n",
       "MT     7496\n",
       "RO     6317\n",
       "AM     5306\n",
       "AC     3180\n",
       "RR     2475\n",
       "MA      824\n",
       "TO      123\n",
       "AP       81\n",
       "Name: uf, dtype: int64"
      ]
     },
     "execution_count": 35,
     "metadata": {},
     "output_type": "execute_result"
    }
   ],
   "source": [
    "df['uf'].value_counts(dropna=False).nlargest(10)"
   ]
  },
  {
   "cell_type": "code",
   "execution_count": 20,
   "metadata": {},
   "outputs": [
    {
     "data": {
      "text/plain": [
       "<matplotlib.axes._subplots.AxesSubplot at 0x1b217c99b38>"
      ]
     },
     "execution_count": 20,
     "metadata": {},
     "output_type": "execute_result"
    },
    {
     "data": {
      "image/png": "[encoded data removed]",
      "text/plain": [
       "<Figure size 432x288 with 1 Axes>"
      ]
     },
     "metadata": {
      "needs_background": "light"
     },
     "output_type": "display_data"
    }
   ],
   "source": [
    "df.uf.value_counts().plot(kind = 'bar')"
   ]
  },
  {
   "cell_type": "markdown",
   "metadata": {},
   "source": [
    "# Áreas de proteção com maiores alerta(s) de desmatamento"
   ]
  },
  {
   "cell_type": "code",
   "execution_count": 40,
   "metadata": {},
   "outputs": [
    {
     "data": {
      "text/plain": [
       "NaN                                                  37223\n",
       "ÃREA DE PROTEÃÃO AMBIENTAL DO TAPAJÃS              466\n",
       "RESERVA EXTRATIVISTA CHICO MENDES                      322\n",
       "FLORESTA NACIONAL DO JAMANXIM                          211\n",
       "FLORESTA NACIONAL DE RORAIMA                           108\n",
       "ESTAÃÃO ECOLÃGICA DA TERRA DO MEIO                   97\n",
       "FLORESTA NACIONAL DO AMANA                              69\n",
       "FLORESTA NACIONAL DE ALTAMIRA                           55\n",
       "FLORESTA NACIONAL DE ITAITUBA II                        53\n",
       "RESERVA BIOLÃGICA NASCENTES DA SERRA DO CACHIMBO       52\n",
       "Name: uc, dtype: int64"
      ]
     },
     "execution_count": 40,
     "metadata": {},
     "output_type": "execute_result"
    }
   ],
   "source": [
    "df['uc'].value_counts(dropna = False).nlargest(10)"
   ]
  }
 ],
 "metadata": {
  "kernelspec": {
   "display_name": "Python 3",
   "language": "python",
   "name": "python3"
  },
  "language_info": {
   "codemirror_mode": {
    "name": "ipython",
    "version": 3
   },
   "file_extension": ".py",
   "mimetype": "text/x-python",
   "name": "python",
   "nbconvert_exporter": "python",
   "pygments_lexer": "ipython3",
   "version": "3.7.1"
  }
 },
 "nbformat": 4,
 "nbformat_minor": 2
}
